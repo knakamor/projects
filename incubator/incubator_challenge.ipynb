{
 "cells": [
  {
   "cell_type": "markdown",
   "metadata": {
    "collapsed": true
   },
   "source": [
    "### Q1"
   ]
  },
  {
   "cell_type": "code",
   "execution_count": 238,
   "metadata": {
    "collapsed": true
   },
   "outputs": [],
   "source": [
    "from itertools import product \n",
    "import pandas  as pd \n",
    "from sklearn.linear_model import LinearRegression\n",
    "import datetime as dt \n",
    "import matplotlib.pyplot as plt \n",
    "%matplotlib inline \n",
    "import numpy as np \n",
    "\n"
   ]
  },
  {
   "cell_type": "code",
   "execution_count": 7,
   "metadata": {
    "collapsed": true
   },
   "outputs": [],
   "source": [
    "# mapping of positions> keys \n",
    "d= dict()\n",
    "d={0:(0,0), 1: (0,1), 2: (0,2) , 3:(0, 3), \\\n",
    "   4:(1,0), 5: (1,1), 6: (1,2) , 7:(1, 3),\\\n",
    "   8:(2,0), 9: (2,1), 10: (2,2) , 11:(2, 3),\\\n",
    "   12:(3,0), 13: (3,1), 14: (3,2) , 15:(3, 3),\\\n",
    "  }"
   ]
  },
  {
   "cell_type": "code",
   "execution_count": 21,
   "metadata": {
    "collapsed": true
   },
   "outputs": [],
   "source": [
    "d2 ={}\n",
    "for key, value in d.iteritems():\n",
    "   d2[value]=key"
   ]
  },
  {
   "cell_type": "code",
   "execution_count": 22,
   "metadata": {},
   "outputs": [
    {
     "data": {
      "text/plain": [
       "{(0, 0): 0,\n",
       " (0, 1): 1,\n",
       " (0, 2): 2,\n",
       " (0, 3): 3,\n",
       " (1, 0): 4,\n",
       " (1, 1): 5,\n",
       " (1, 2): 6,\n",
       " (1, 3): 7,\n",
       " (2, 0): 8,\n",
       " (2, 1): 9,\n",
       " (2, 2): 10,\n",
       " (2, 3): 11,\n",
       " (3, 0): 12,\n",
       " (3, 1): 13,\n",
       " (3, 2): 14,\n",
       " (3, 3): 15}"
      ]
     },
     "execution_count": 22,
     "metadata": {},
     "output_type": "execute_result"
    }
   ],
   "source": [
    "d2"
   ]
  },
  {
   "cell_type": "code",
   "execution_count": 67,
   "metadata": {
    "collapsed": true
   },
   "outputs": [],
   "source": [
    "def knight_moves_one_step(position, total):\n",
    "    \"\"\"\n",
    "    move knight one time\n",
    "    \n",
    "    input: position, running_total\n",
    "    return: expected value, a list of positions after one move \n",
    "    \"\"\"\n",
    "    x, y = position\n",
    "    moves = list(product([x-1, x+1],[y-2, y+2])) + list(product([x-2,x+2],[y-1,y+1]))\n",
    "    moves = [(x,y) for x,y in moves if x >= 0 and y >= 0 and x < 4 and y < 4]\n",
    "    \n",
    "    length= len(moves) \n",
    "    s=0 \n",
    "    for i in moves: \n",
    "        s+= d2[i]*1.0/length\n",
    "    \n",
    "    return moves, s + total "
   ]
  },
  {
   "cell_type": "code",
   "execution_count": 104,
   "metadata": {},
   "outputs": [
    {
     "data": {
      "text/plain": [
       "([(0, 1),\n",
       "  (1, 2),\n",
       "  (3, 2),\n",
       "  (0, 0),\n",
       "  (3, 3),\n",
       "  (3, 0),\n",
       "  (3, 1),\n",
       "  (2, 1),\n",
       "  (0, 2),\n",
       "  (2, 0),\n",
       "  (1, 3),\n",
       "  (2, 3),\n",
       "  (2, 2),\n",
       "  (1, 0),\n",
       "  (0, 3),\n",
       "  (1, 1)],\n",
       " [1, 6, 14, 0, 15, 12, 13, 9, 2, 8, 7, 11, 10, 4, 3, 5])"
      ]
     },
     "execution_count": 104,
     "metadata": {},
     "output_type": "execute_result"
    }
   ],
   "source": [
    "d2.keys(), d2.values()"
   ]
  },
  {
   "cell_type": "code",
   "execution_count": 91,
   "metadata": {},
   "outputs": [
    {
     "data": {
      "text/plain": [
       "list"
      ]
     },
     "execution_count": 91,
     "metadata": {},
     "output_type": "execute_result"
    }
   ],
   "source": [
    "position_list= knight_moves_one_step(j, total)[0]\n",
    "    total=knight_moves_one_step(position_list)[1]"
   ]
  },
  {
   "cell_type": "code",
   "execution_count": 116,
   "metadata": {},
   "outputs": [
    {
     "name": "stdout",
     "output_type": "stream",
     "text": [
      "[1, 6, 14, 0, 15, 12, 13, 9, 2, 8, 7, 11, 10, 4, 3, 5, 9.333333333333334, 15.0, 20.666666666666664, 7.5, 22.5, 19.5, 20.0, 15.0, 10.0, 15.0, 15.0, 17.666666666666668, 15.0, 12.333333333333332, 10.5, 15.0, 8.5, 12.666666666666668, 21.5, 6.666666666666666, 8.0, 16.0, 22.0, 9.333333333333334, 12.0, 20.666666666666664, 8.0, 16.0, 22.0, 9.333333333333334, 12.0, 20.666666666666664, 8.0, 16.0, 22.0, 9.333333333333334, 12.0, 20.666666666666664, 8.0, 16.0, 22.0, 9.333333333333334, 12.0, 20.666666666666664, 8.0, 16.0, 22.0, 9.333333333333334, 12.0, 20.666666666666664, 8.0, 16.0, 22.0, 9.333333333333334, 12.0, 20.666666666666664, 8.0, 16.0, 22.0, 9.333333333333334, 12.0, 20.666666666666664]\n"
     ]
    }
   ],
   "source": [
    "position_list=d2.keys()\n",
    "total= d2.values() \n",
    "\n",
    "position_total=dict() \n",
    "for i in range(16): \n",
    "    for j, v in enumerate(position_list):\n",
    "        position_list= knight_moves_one_step(v, total[j])[0]\n",
    "        #print position_list\n",
    "        temp_total =knight_moves_one_step(v, total[j])[1]\n",
    "        #print temp_total\n",
    "        total.append(temp_total)\n",
    "\n",
    "print total"
   ]
  },
  {
   "cell_type": "code",
   "execution_count": 80,
   "metadata": {},
   "outputs": [
    {
     "name": "stdout",
     "output_type": "stream",
     "text": [
      "166.8252\n"
     ]
    }
   ],
   "source": [
    "from random import randint\n",
    "\n",
    "# Move a knight from (x, y) to a random new position\n",
    "def new_position(x, y):\n",
    "\n",
    "    while True:\n",
    "        dx, dy = 1, 2\n",
    "\n",
    "        # it takes three bits to determine a random knight move:\n",
    "        # (1, 2) vs (2, 1), and the sign of each\n",
    "        r = randint(0, 7)\n",
    "        if r % 2:\n",
    "            dx, dy = dy, dx\n",
    "        if (r >> 1) % 2:\n",
    "            dx = -dx\n",
    "        if (r >> 2) % 2:\n",
    "            dy = -dy\n",
    "\n",
    "        newx, newy = x + dx, y + dy\n",
    "        # If the new position is on the board, take it.\n",
    "        # Otherwise try again.\n",
    "        if (newx >= 0 and newx < 8 and newy >= 0 and newy < 8):\n",
    "            return (newx, newy)\n",
    "\n",
    "# Count the number of steps in one random tour\n",
    "def random_tour():\n",
    "    x, y = x0, y0 = 0, 0\n",
    "    count = 0\n",
    "    while True:\n",
    "        x, y = new_position(x, y)\n",
    "        count += 1\n",
    "        if x == x0 and y == y0:\n",
    "            return count\n",
    "\n",
    "# Average the length of many random tours\n",
    "\n",
    "sum = 0\n",
    "num_reps = 100000\n",
    "for i in xrange(num_reps):\n",
    "    sum += random_tour()\n",
    "print sum / float(num_reps)\n",
    "    "
   ]
  },
  {
   "cell_type": "code",
   "execution_count": 83,
   "metadata": {},
   "outputs": [
    {
     "data": {
      "text/plain": [
       "(1, 2)"
      ]
     },
     "execution_count": 83,
     "metadata": {},
     "output_type": "execute_result"
    }
   ],
   "source": [
    "new_position(0, 0)"
   ]
  },
  {
   "cell_type": "code",
   "execution_count": 84,
   "metadata": {},
   "outputs": [
    {
     "data": {
      "text/plain": [
       "156"
      ]
     },
     "execution_count": 84,
     "metadata": {},
     "output_type": "execute_result"
    }
   ],
   "source": [
    "random_tour()"
   ]
  },
  {
   "cell_type": "markdown",
   "metadata": {
    "collapsed": true
   },
   "source": [
    "### Q2 "
   ]
  },
  {
   "cell_type": "code",
   "execution_count": 7,
   "metadata": {
    "collapsed": true
   },
   "outputs": [],
   "source": [
    "accidents= pd.read_csv('data/Accidents0514.csv')\n",
    "casualties= pd.read_csv('data/Casualties0514.csv')\n",
    "vehicles= pd.read_csv('data/Vehicles0514.csv')"
   ]
  },
  {
   "cell_type": "code",
   "execution_count": 17,
   "metadata": {},
   "outputs": [
    {
     "data": {
      "text/plain": [
       "0.64265691086842169"
      ]
     },
     "execution_count": 17,
     "metadata": {},
     "output_type": "execute_result"
    }
   ],
   "source": [
    "#What fraction of accidents occur in urban areas? Report the answer in decimal form.\n",
    "\n",
    "accidents[accidents.Urban_or_Rural_Area==1].Accident_Index.count()*1.000/accidents.Accident_Index.count()"
   ]
  },
  {
   "cell_type": "code",
   "execution_count": 44,
   "metadata": {
    "collapsed": true
   },
   "outputs": [],
   "source": [
    "accidents[['month', 'day', 'year']]= accidents.Date.str.split('/', expand=True)"
   ]
  },
  {
   "cell_type": "code",
   "execution_count": 50,
   "metadata": {
    "collapsed": true
   },
   "outputs": [],
   "source": [
    "df= accidents.groupby('year').Accident_Index.count().reset_index()"
   ]
  },
  {
   "cell_type": "code",
   "execution_count": 51,
   "metadata": {},
   "outputs": [
    {
     "data": {
      "text/plain": [
       "<matplotlib.axes._subplots.AxesSubplot at 0x20249d290>"
      ]
     },
     "execution_count": 51,
     "metadata": {},
     "output_type": "execute_result"
    },
    {
     "data": {
      "image/png": "[encoded data removed]",
      "text/plain": [
       "<matplotlib.figure.Figure at 0x2024f6090>"
      ]
     },
     "metadata": {},
     "output_type": "display_data"
    }
   ],
   "source": [
    "df.plot(kind='line')"
   ]
  },
  {
   "cell_type": "code",
   "execution_count": 61,
   "metadata": {
    "collapsed": true
   },
   "outputs": [],
   "source": [
    "df['year']=df.year.astype(int, inplace=True)\n",
    "#df.Accident_Index.astype(int,inplace=True)"
   ]
  },
  {
   "cell_type": "code",
   "execution_count": 64,
   "metadata": {
    "collapsed": true
   },
   "outputs": [],
   "source": [
    "slope, intercept = np.polyfit(df.year, df.Accident_Index, 1)"
   ]
  },
  {
   "cell_type": "code",
   "execution_count": 65,
   "metadata": {},
   "outputs": [
    {
     "data": {
      "text/plain": [
       "-6511.7272727276322"
      ]
     },
     "execution_count": 65,
     "metadata": {},
     "output_type": "execute_result"
    }
   ],
   "source": [
    "slope"
   ]
  },
  {
   "cell_type": "code",
   "execution_count": 66,
   "metadata": {},
   "outputs": [
    {
     "data": {
      "text/html": [
       "<div>\n",
       "<style>\n",
       "    .dataframe thead tr:only-child th {\n",
       "        text-align: right;\n",
       "    }\n",
       "\n",
       "    .dataframe thead th {\n",
       "        text-align: left;\n",
       "    }\n",
       "\n",
       "    .dataframe tbody tr th {\n",
       "        vertical-align: top;\n",
       "    }\n",
       "</style>\n",
       "<table border=\"1\" class=\"dataframe\">\n",
       "  <thead>\n",
       "    <tr style=\"text-align: right;\">\n",
       "      <th></th>\n",
       "      <th>year</th>\n",
       "      <th>Accident_Index</th>\n",
       "    </tr>\n",
       "  </thead>\n",
       "  <tbody>\n",
       "    <tr>\n",
       "      <th>0</th>\n",
       "      <td>2005</td>\n",
       "      <td>198735</td>\n",
       "    </tr>\n",
       "    <tr>\n",
       "      <th>1</th>\n",
       "      <td>2006</td>\n",
       "      <td>189161</td>\n",
       "    </tr>\n",
       "    <tr>\n",
       "      <th>2</th>\n",
       "      <td>2007</td>\n",
       "      <td>182115</td>\n",
       "    </tr>\n",
       "    <tr>\n",
       "      <th>3</th>\n",
       "      <td>2008</td>\n",
       "      <td>170591</td>\n",
       "    </tr>\n",
       "    <tr>\n",
       "      <th>4</th>\n",
       "      <td>2009</td>\n",
       "      <td>163554</td>\n",
       "    </tr>\n",
       "    <tr>\n",
       "      <th>5</th>\n",
       "      <td>2010</td>\n",
       "      <td>154414</td>\n",
       "    </tr>\n",
       "    <tr>\n",
       "      <th>6</th>\n",
       "      <td>2011</td>\n",
       "      <td>151474</td>\n",
       "    </tr>\n",
       "    <tr>\n",
       "      <th>7</th>\n",
       "      <td>2012</td>\n",
       "      <td>145571</td>\n",
       "    </tr>\n",
       "    <tr>\n",
       "      <th>8</th>\n",
       "      <td>2013</td>\n",
       "      <td>138660</td>\n",
       "    </tr>\n",
       "    <tr>\n",
       "      <th>9</th>\n",
       "      <td>2014</td>\n",
       "      <td>146322</td>\n",
       "    </tr>\n",
       "  </tbody>\n",
       "</table>\n",
       "</div>"
      ],
      "text/plain": [
       "   year  Accident_Index\n",
       "0  2005          198735\n",
       "1  2006          189161\n",
       "2  2007          182115\n",
       "3  2008          170591\n",
       "4  2009          163554\n",
       "5  2010          154414\n",
       "6  2011          151474\n",
       "7  2012          145571\n",
       "8  2013          138660\n",
       "9  2014          146322"
      ]
     },
     "execution_count": 66,
     "metadata": {},
     "output_type": "execute_result"
    }
   ],
   "source": [
    "df"
   ]
  },
  {
   "cell_type": "code",
   "execution_count": 77,
   "metadata": {
    "collapsed": true
   },
   "outputs": [],
   "source": [
    "df3=pd.merge(accidents, vehicles[['Accident_Index', 'Skidding_and_Overturning']], on ='Accident_Index')"
   ]
  },
  {
   "cell_type": "code",
   "execution_count": 93,
   "metadata": {
    "collapsed": true
   },
   "outputs": [],
   "source": [
    "df3['new_weather']=df3.Weather_Conditions.apply(lambda x:1 if x==1 else 0 )"
   ]
  },
  {
   "cell_type": "code",
   "execution_count": 94,
   "metadata": {},
   "outputs": [
    {
     "data": {
      "text/plain": [
       "new_weather\n",
       "0    0.152866\n",
       "1    0.083491\n",
       "Name: Accident_Index, dtype: float64"
      ]
     },
     "execution_count": 94,
     "metadata": {},
     "output_type": "execute_result"
    }
   ],
   "source": [
    "df3[df3.Skidding_and_Overturning== 1].groupby('new_weather').Accident_Index.count()*1.0000/\\\n",
    "df3.groupby('new_weather').Accident_Index.count()"
   ]
  },
  {
   "cell_type": "code",
   "execution_count": 95,
   "metadata": {},
   "outputs": [
    {
     "data": {
      "text/plain": [
       "1.8309278844426347"
      ]
     },
     "execution_count": 95,
     "metadata": {},
     "output_type": "execute_result"
    }
   ],
   "source": [
    "# get the odds\n",
    "\n",
    "0.152866/0.083491"
   ]
  },
  {
   "cell_type": "code",
   "execution_count": 100,
   "metadata": {
    "collapsed": true
   },
   "outputs": [],
   "source": [
    "df4=pd.merge(accidents, casualties, how ='left', on ='Accident_Index') "
   ]
  },
  {
   "cell_type": "code",
   "execution_count": 101,
   "metadata": {},
   "outputs": [
    {
     "data": {
      "text/plain": [
       "Index([u'Accident_Index', u'Location_Easting_OSGR', u'Location_Northing_OSGR',\n",
       "       u'Longitude', u'Latitude', u'Police_Force', u'Accident_Severity',\n",
       "       u'Number_of_Vehicles', u'Number_of_Casualties', u'Date', u'Day_of_Week',\n",
       "       u'Time', u'Local_Authority_(District)', u'Local_Authority_(Highway)',\n",
       "       u'1st_Road_Class', u'1st_Road_Number', u'Road_Type', u'Speed_limit',\n",
       "       u'Junction_Detail', u'Junction_Control', u'2nd_Road_Class',\n",
       "       u'2nd_Road_Number', u'Pedestrian_Crossing-Human_Control',\n",
       "       u'Pedestrian_Crossing-Physical_Facilities', u'Light_Conditions',\n",
       "       u'Weather_Conditions', u'Road_Surface_Conditions',\n",
       "       u'Special_Conditions_at_Site', u'Carriageway_Hazards',\n",
       "       u'Urban_or_Rural_Area', u'Did_Police_Officer_Attend_Scene_of_Accident',\n",
       "       u'LSOA_of_Accident_Location', u'month', u'day', u'year',\n",
       "       u'Vehicle_Reference', u'Casualty_Reference', u'Casualty_Class',\n",
       "       u'Sex_of_Casualty', u'Age_of_Casualty', u'Age_Band_of_Casualty',\n",
       "       u'Casualty_Severity', u'Pedestrian_Location', u'Pedestrian_Movement',\n",
       "       u'Car_Passenger', u'Bus_or_Coach_Passenger',\n",
       "       u'Pedestrian_Road_Maintenance_Worker', u'Casualty_Type',\n",
       "       u'Casualty_Home_Area_Type'],\n",
       "      dtype='object')"
      ]
     },
     "execution_count": 101,
     "metadata": {},
     "output_type": "execute_result"
    }
   ],
   "source": [
    "df4.columns"
   ]
  },
  {
   "cell_type": "code",
   "execution_count": 133,
   "metadata": {
    "collapsed": true
   },
   "outputs": [],
   "source": [
    "df4['fatal']=df4.Casualty_Severity.apply(lambda x: 1 if x==3 else 0) ## assuming severity 3 is fatal "
   ]
  },
  {
   "cell_type": "code",
   "execution_count": 162,
   "metadata": {
    "collapsed": true
   },
   "outputs": [],
   "source": [
    "df4['hour']=df4.Time.apply(lambda x: str(x).split(':')[0])"
   ]
  },
  {
   "cell_type": "code",
   "execution_count": 237,
   "metadata": {},
   "outputs": [
    {
     "data": {
      "text/plain": [
       "hour\n",
       "00     0.816367\n",
       "01     0.808013\n",
       "02     0.796608\n",
       "03     0.798905\n",
       "04     0.798625\n",
       "05     0.809576\n",
       "06     0.842965\n",
       "07     0.877357\n",
       "08     0.906408\n",
       "09     0.899731\n",
       "10     0.887566\n",
       "11     0.890955\n",
       "12     0.892738\n",
       "13     0.890617\n",
       "14     0.885158\n",
       "15     0.882783\n",
       "16     0.882044\n",
       "17     0.884021\n",
       "18     0.878800\n",
       "19     0.871213\n",
       "20     0.861455\n",
       "21     0.854219\n",
       "22     0.846960\n",
       "23     0.837478\n",
       "nan    0.816993\n",
       "Name: Accident_Index, dtype: float64"
      ]
     },
     "execution_count": 237,
     "metadata": {},
     "output_type": "execute_result"
    }
   ],
   "source": [
    "#frequency of fatal accidents by hour \n",
    "df4[df4.fatal==1].groupby('hour').Accident_Index.count().round(10)/df4.groupby('hour').Accident_Index.count()*1.00000"
   ]
  },
  {
   "cell_type": "code",
   "execution_count": 170,
   "metadata": {},
   "outputs": [
    {
     "data": {
      "text/plain": [
       "Speed_limit\n",
       "10    1.300000\n",
       "15    1.222222\n",
       "20    1.436268\n",
       "30    1.653736\n",
       "40    1.964187\n",
       "50    2.091501\n",
       "60    2.164758\n",
       "70    2.473766\n",
       "dtype: float64"
      ]
     },
     "execution_count": 170,
     "metadata": {},
     "output_type": "execute_result"
    }
   ],
   "source": [
    "#ratio of Number_of_Casualties to number of accidents \n",
    "df4.groupby('Speed_limit').Number_of_Casualties.sum()*1.0000/df4.groupby('Speed_limit').Accident_Index.count()"
   ]
  },
  {
   "cell_type": "code",
   "execution_count": 177,
   "metadata": {
    "collapsed": true
   },
   "outputs": [],
   "source": [
    "df5=pd.DataFrame(df4.groupby('Speed_limit').Number_of_Casualties.sum()*1.0000/df4.groupby('Speed_limit').Accident_Index.count()) "
   ]
  },
  {
   "cell_type": "code",
   "execution_count": 191,
   "metadata": {
    "collapsed": true
   },
   "outputs": [],
   "source": [
    "df5.reset_index(inplace=True)\n",
    "df5.columns=['speed_limit', 'ratio'] "
   ]
  },
  {
   "cell_type": "code",
   "execution_count": 199,
   "metadata": {},
   "outputs": [
    {
     "data": {
      "text/html": [
       "<div>\n",
       "<style>\n",
       "    .dataframe thead tr:only-child th {\n",
       "        text-align: right;\n",
       "    }\n",
       "\n",
       "    .dataframe thead th {\n",
       "        text-align: left;\n",
       "    }\n",
       "\n",
       "    .dataframe tbody tr th {\n",
       "        vertical-align: top;\n",
       "    }\n",
       "</style>\n",
       "<table border=\"1\" class=\"dataframe\">\n",
       "  <thead>\n",
       "    <tr style=\"text-align: right;\">\n",
       "      <th></th>\n",
       "      <th>speed_limit</th>\n",
       "      <th>ratio</th>\n",
       "    </tr>\n",
       "  </thead>\n",
       "  <tbody>\n",
       "    <tr>\n",
       "      <th>speed_limit</th>\n",
       "      <td>1.000000</td>\n",
       "      <td>0.985596</td>\n",
       "    </tr>\n",
       "    <tr>\n",
       "      <th>ratio</th>\n",
       "      <td>0.985596</td>\n",
       "      <td>1.000000</td>\n",
       "    </tr>\n",
       "  </tbody>\n",
       "</table>\n",
       "</div>"
      ],
      "text/plain": [
       "             speed_limit     ratio\n",
       "speed_limit     1.000000  0.985596\n",
       "ratio           0.985596  1.000000"
      ]
     },
     "execution_count": 199,
     "metadata": {},
     "output_type": "execute_result"
    }
   ],
   "source": [
    "#pearson corr \n",
    "df5.corr('pearson')"
   ]
  },
  {
   "cell_type": "code",
   "execution_count": 202,
   "metadata": {
    "collapsed": true
   },
   "outputs": [],
   "source": [
    "df6=pd.merge(df4, vehicles[['Accident_Index', 'Sex_of_Driver', 'Vehicle_Reference']],\\\n",
    "         on =['Vehicle_Reference','Accident_Index' ]) "
   ]
  },
  {
   "cell_type": "code",
   "execution_count": 208,
   "metadata": {},
   "outputs": [
    {
     "data": {
      "text/plain": [
       "Sex_of_Driver\n",
       "-1          4\n",
       " 1    1470075\n",
       " 2     707146\n",
       " 3      39495\n",
       "Name: Accident_Index, dtype: int64"
      ]
     },
     "execution_count": 208,
     "metadata": {},
     "output_type": "execute_result"
    }
   ],
   "source": [
    "df6.groupby('Sex_of_Driver').Accident_Index.count() # assume 1 is male , 2 is female  "
   ]
  },
  {
   "cell_type": "code",
   "execution_count": 206,
   "metadata": {},
   "outputs": [
    {
     "data": {
      "text/plain": [
       "Sex_of_Driver\n",
       "-1    1.000000\n",
       " 1    0.858302\n",
       " 2    0.918158\n",
       " 3    0.840435\n",
       "Name: Accident_Index, dtype: float64"
      ]
     },
     "execution_count": 206,
     "metadata": {},
     "output_type": "execute_result"
    }
   ],
   "source": [
    "df6[df6.fatal==1].groupby('Sex_of_Driver').Accident_Index.count()*1.000/\\\n",
    "df6.groupby('Sex_of_Driver').Accident_Index.count()"
   ]
  },
  {
   "cell_type": "code",
   "execution_count": 209,
   "metadata": {},
   "outputs": [
    {
     "data": {
      "text/plain": [
       "0.9348086059262131"
      ]
     },
     "execution_count": 209,
     "metadata": {},
     "output_type": "execute_result"
    }
   ],
   "source": [
    "#odds ratio of male to female\n",
    "0.858302/0.918158"
   ]
  },
  {
   "cell_type": "code",
   "execution_count": 216,
   "metadata": {
    "collapsed": true
   },
   "outputs": [],
   "source": [
    "#accidents by age of driver\n",
    "df7=pd.merge(df4, vehicles[['Accident_Index', 'Sex_of_Driver', 'Vehicle_Reference' , 'Age_of_Driver']],\\\n",
    "         on =['Vehicle_Reference','Accident_Index' ]) "
   ]
  },
  {
   "cell_type": "code",
   "execution_count": 219,
   "metadata": {},
   "outputs": [
    {
     "data": {
      "text/plain": [
       "<matplotlib.axes._subplots.AxesSubplot at 0x1b8305f3d0>"
      ]
     },
     "execution_count": 219,
     "metadata": {},
     "output_type": "execute_result"
    },
    {
     "data": {
      "image/png": "[encoded data removed]",
      "text/plain": [
       "<matplotlib.figure.Figure at 0x1b83059f10>"
      ]
     },
     "metadata": {},
     "output_type": "display_data"
    }
   ],
   "source": [
    "df7=df7[df7.Age_of_Driver>17 ]\n",
    "\n",
    "df7.groupby('Age_of_Driver').Accident_Index.count().plot(kind='bar')\n"
   ]
  },
  {
   "cell_type": "code",
   "execution_count": 221,
   "metadata": {
    "collapsed": true
   },
   "outputs": [],
   "source": [
    "df8=df7.groupby('Age_of_Driver').Accident_Index.count().reset_index()"
   ]
  },
  {
   "cell_type": "code",
   "execution_count": 225,
   "metadata": {},
   "outputs": [
    {
     "data": {
      "text/plain": [
       "array([ -0.07970002,  13.77983097])"
      ]
     },
     "execution_count": 225,
     "metadata": {},
     "output_type": "execute_result"
    }
   ],
   "source": [
    "# get the rate at which the number of accidents exponentially decays with age\n",
    "x=df8.Age_of_Driver\n",
    "y=df8.Accident_Index\n",
    "np.polyfit(x, np.log(y), 1)"
   ]
  },
  {
   "cell_type": "markdown",
   "metadata": {},
   "source": [
    "### Q3 "
   ]
  },
  {
   "cell_type": "code",
   "execution_count": 249,
   "metadata": {},
   "outputs": [
    {
     "name": "stdout",
     "output_type": "stream",
     "text": [
      "Collecting mpl_toolkits\n",
      "\u001b[31m  Could not find a version that satisfies the requirement mpl_toolkits (from versions: )\u001b[0m\n",
      "\u001b[31mNo matching distribution found for mpl_toolkits\u001b[0m\n"
     ]
    }
   ],
   "source": [
    "!pip install mpl_toolkits"
   ]
  },
  {
   "cell_type": "code",
   "execution_count": 13,
   "metadata": {},
   "outputs": [],
   "source": [
    "import pandas as pd\n",
    "import seaborn as sns\n",
    "import matplotlib.pyplot as plt\n",
    "from mpl_toolkits.basemap import Basemap\n",
    "from matplotlib import cm\n",
    "%matplotlib inline"
   ]
  },
  {
   "cell_type": "code",
   "execution_count": 3,
   "metadata": {},
   "outputs": [
    {
     "data": {
      "text/html": [
       "<div>\n",
       "<style>\n",
       "    .dataframe thead tr:only-child th {\n",
       "        text-align: right;\n",
       "    }\n",
       "\n",
       "    .dataframe thead th {\n",
       "        text-align: left;\n",
       "    }\n",
       "\n",
       "    .dataframe tbody tr th {\n",
       "        vertical-align: top;\n",
       "    }\n",
       "</style>\n",
       "<table border=\"1\" class=\"dataframe\">\n",
       "  <thead>\n",
       "    <tr style=\"text-align: right;\">\n",
       "      <th></th>\n",
       "      <th>Date/Time</th>\n",
       "      <th>Lat</th>\n",
       "      <th>Lon</th>\n",
       "      <th>Base</th>\n",
       "    </tr>\n",
       "  </thead>\n",
       "  <tbody>\n",
       "    <tr>\n",
       "      <th>0</th>\n",
       "      <td>8/1/2014 0:03:00</td>\n",
       "      <td>40.7366</td>\n",
       "      <td>-73.9906</td>\n",
       "      <td>B02512</td>\n",
       "    </tr>\n",
       "    <tr>\n",
       "      <th>1</th>\n",
       "      <td>8/1/2014 0:09:00</td>\n",
       "      <td>40.7260</td>\n",
       "      <td>-73.9918</td>\n",
       "      <td>B02512</td>\n",
       "    </tr>\n",
       "    <tr>\n",
       "      <th>2</th>\n",
       "      <td>8/1/2014 0:12:00</td>\n",
       "      <td>40.7209</td>\n",
       "      <td>-74.0507</td>\n",
       "      <td>B02512</td>\n",
       "    </tr>\n",
       "    <tr>\n",
       "      <th>3</th>\n",
       "      <td>8/1/2014 0:12:00</td>\n",
       "      <td>40.7387</td>\n",
       "      <td>-73.9856</td>\n",
       "      <td>B02512</td>\n",
       "    </tr>\n",
       "    <tr>\n",
       "      <th>4</th>\n",
       "      <td>8/1/2014 0:12:00</td>\n",
       "      <td>40.7323</td>\n",
       "      <td>-74.0077</td>\n",
       "      <td>B02512</td>\n",
       "    </tr>\n",
       "  </tbody>\n",
       "</table>\n",
       "</div>"
      ],
      "text/plain": [
       "          Date/Time      Lat      Lon    Base\n",
       "0  8/1/2014 0:03:00  40.7366 -73.9906  B02512\n",
       "1  8/1/2014 0:09:00  40.7260 -73.9918  B02512\n",
       "2  8/1/2014 0:12:00  40.7209 -74.0507  B02512\n",
       "3  8/1/2014 0:12:00  40.7387 -73.9856  B02512\n",
       "4  8/1/2014 0:12:00  40.7323 -74.0077  B02512"
      ]
     },
     "execution_count": 3,
     "metadata": {},
     "output_type": "execute_result"
    }
   ],
   "source": [
    "DATA_FILE = './uber-pickups-in-new-york-city/uber-raw-data-aug14.csv'\n",
    "uber_data = pd.read_csv(DATA_FILE)\n",
    "uber_data.head()"
   ]
  },
  {
   "cell_type": "code",
   "execution_count": 4,
   "metadata": {
    "collapsed": true
   },
   "outputs": [],
   "source": [
    "uber_data['Date/Time'] = pd.to_datetime(uber_data['Date/Time'], format=\"%m/%d/%Y %H:%M:%S\")\n",
    "uber_data['DayOfWeekNum'] = uber_data['Date/Time'].dt.dayofweek\n",
    "uber_data['DayOfWeek'] = uber_data['Date/Time'].dt.weekday_name\n",
    "uber_data['MonthDayNum'] = uber_data['Date/Time'].dt.day\n",
    "uber_data['HourOfDay'] = uber_data['Date/Time'].dt.hour"
   ]
  },
  {
   "cell_type": "code",
   "execution_count": 10,
   "metadata": {},
   "outputs": [
    {
     "data": {
      "text/plain": [
       "<matplotlib.text.Text at 0x1a0b73d090>"
      ]
     },
     "execution_count": 10,
     "metadata": {},
     "output_type": "execute_result"
    }
   ],
   "source": [
    "uber_weekdays = uber_data.pivot_table(index=['DayOfWeekNum','DayOfWeek'],\n",
    "                                  values='Base',\n",
    "                                  aggfunc='count')\n",
    "uber_weekdays.plot(kind='bar', figsize=(8,6))\n",
    "plt.ylabel('Total Journeys')\n",
    "#plt.title('Journeys by Week Day');\n"
   ]
  },
  {
   "cell_type": "code",
   "execution_count": 11,
   "metadata": {},
   "outputs": [
    {
     "data": {
      "text/plain": [
       "<matplotlib.text.Text at 0x1a0ba4c850>"
      ]
     },
     "execution_count": 11,
     "metadata": {},
     "output_type": "execute_result"
    }
   ],
   "source": [
    "uber_monthdays = uber_data.pivot_table(index=['MonthDayNum'],\n",
    "                                  values='Base',\n",
    "                                  aggfunc='count')\n",
    "uber_monthdays.plot(kind='bar', figsize=(8,6))\n",
    "plt.ylabel('Total Journeys')\n",
    "#plt.title('Journeys by Month Day');"
   ]
  },
  {
   "cell_type": "code",
   "execution_count": 12,
   "metadata": {},
   "outputs": [
    {
     "data": {
      "text/plain": [
       "<matplotlib.text.Text at 0x1a0c72d210>"
      ]
     },
     "execution_count": 12,
     "metadata": {},
     "output_type": "execute_result"
    }
   ],
   "source": [
    "uber_hour = uber_data.pivot_table(index=['HourOfDay'],\n",
    "                                  values='Base',\n",
    "                                  aggfunc='count')\n",
    "uber_hour.plot(kind='bar', figsize=(8,6))\n",
    "plt.ylabel('Total Journeys')\n",
    "#plt.title('Journeys by Hour');\n"
   ]
  },
  {
   "cell_type": "code",
   "execution_count": 9,
   "metadata": {},
   "outputs": [],
   "source": [
    "west, south, east, north = -74.26, 40.50, -73.70, 40.92\n",
    "\n",
    "fig = plt.figure(figsize=(14,10))\n",
    "ax = fig.add_subplot(111)\n",
    "m = Basemap(projection='merc', llcrnrlat=south, urcrnrlat=north,\n",
    "            llcrnrlon=west, urcrnrlon=east, lat_ts=south, resolution='i')\n",
    "x, y = m(uber_data['Lon'].values, uber_data['Lat'].values)\n",
    "m.hexbin(x, y, gridsize=1000,\n",
    "         bins='log', cmap=cm.YlOrRd_r);"
   ]
  },
  {
   "cell_type": "code",
   "execution_count": null,
   "metadata": {
    "collapsed": true
   },
   "outputs": [],
   "source": []
  },
  {
   "cell_type": "code",
   "execution_count": null,
   "metadata": {
    "collapsed": true
   },
   "outputs": [],
   "source": []
  }
 ],
 "metadata": {
  "kernelspec": {
   "display_name": "Python 2",
   "language": "python",
   "name": "python2"
  }
 },
 "nbformat": 4,
 "nbformat_minor": 2
}
