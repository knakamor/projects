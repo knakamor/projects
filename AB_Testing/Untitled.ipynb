{
 "cells": [
  {
   "cell_type": "code",
   "execution_count": 16,
   "metadata": {},
   "outputs": [],
   "source": [
    "import pandas as pd\n",
    "import matplotlib.pyplot as plt\n",
    "import scipy.stats as scs\n",
    "from scipy.stats import chi2_contingency \n",
    "from itertools import combinations\n",
    "%matplotlib inline  "
   ]
  },
  {
   "cell_type": "code",
   "execution_count": 2,
   "metadata": {
    "collapsed": true
   },
   "outputs": [],
   "source": [
    "alpha=0.05/23"
   ]
  },
  {
   "cell_type": "code",
   "execution_count": 3,
   "metadata": {
    "collapsed": true
   },
   "outputs": [],
   "source": [
    "data = pd.read_csv('data/nyt1.csv')"
   ]
  },
  {
   "cell_type": "code",
   "execution_count": 4,
   "metadata": {},
   "outputs": [
    {
     "name": "stdout",
     "output_type": "stream",
     "text": [
      "<class 'pandas.core.frame.DataFrame'>\n",
      "RangeIndex: 458441 entries, 0 to 458440\n",
      "Data columns (total 5 columns):\n",
      "Age            458441 non-null int64\n",
      "Gender         458441 non-null int64\n",
      "Impressions    458441 non-null int64\n",
      "Clicks         458441 non-null int64\n",
      "Signed_In      458441 non-null int64\n",
      "dtypes: int64(5)\n",
      "memory usage: 17.5 MB\n"
     ]
    }
   ],
   "source": [
    "data.info()"
   ]
  },
  {
   "cell_type": "code",
   "execution_count": 5,
   "metadata": {},
   "outputs": [
    {
     "data": {
      "text/html": [
       "<div>\n",
       "<style>\n",
       "    .dataframe thead tr:only-child th {\n",
       "        text-align: right;\n",
       "    }\n",
       "\n",
       "    .dataframe thead th {\n",
       "        text-align: left;\n",
       "    }\n",
       "\n",
       "    .dataframe tbody tr th {\n",
       "        vertical-align: top;\n",
       "    }\n",
       "</style>\n",
       "<table border=\"1\" class=\"dataframe\">\n",
       "  <thead>\n",
       "    <tr style=\"text-align: right;\">\n",
       "      <th></th>\n",
       "      <th>Age</th>\n",
       "      <th>Gender</th>\n",
       "      <th>Impressions</th>\n",
       "      <th>Clicks</th>\n",
       "      <th>Signed_In</th>\n",
       "    </tr>\n",
       "  </thead>\n",
       "  <tbody>\n",
       "    <tr>\n",
       "      <th>0</th>\n",
       "      <td>36</td>\n",
       "      <td>0</td>\n",
       "      <td>3</td>\n",
       "      <td>0</td>\n",
       "      <td>1</td>\n",
       "    </tr>\n",
       "    <tr>\n",
       "      <th>1</th>\n",
       "      <td>73</td>\n",
       "      <td>1</td>\n",
       "      <td>3</td>\n",
       "      <td>0</td>\n",
       "      <td>1</td>\n",
       "    </tr>\n",
       "  </tbody>\n",
       "</table>\n",
       "</div>"
      ],
      "text/plain": [
       "   Age  Gender  Impressions  Clicks  Signed_In\n",
       "0   36       0            3       0          1\n",
       "1   73       1            3       0          1"
      ]
     },
     "execution_count": 5,
     "metadata": {},
     "output_type": "execute_result"
    }
   ],
   "source": [
    "data.head(2)"
   ]
  },
  {
   "cell_type": "code",
   "execution_count": 6,
   "metadata": {
    "collapsed": true
   },
   "outputs": [],
   "source": [
    "data=data[data['Impressions']!=0]"
   ]
  },
  {
   "cell_type": "code",
   "execution_count": 7,
   "metadata": {
    "collapsed": true
   },
   "outputs": [],
   "source": [
    "data['CTR']=data['Clicks'] / data['Impressions'].astype(float)"
   ]
  },
  {
   "cell_type": "code",
   "execution_count": 8,
   "metadata": {},
   "outputs": [
    {
     "data": {
      "text/plain": [
       "array([[<matplotlib.axes._subplots.AxesSubplot object at 0x11a5aee10>,\n",
       "        <matplotlib.axes._subplots.AxesSubplot object at 0x110267cd0>],\n",
       "       [<matplotlib.axes._subplots.AxesSubplot object at 0x11a640f50>,\n",
       "        <matplotlib.axes._subplots.AxesSubplot object at 0x11a700250>],\n",
       "       [<matplotlib.axes._subplots.AxesSubplot object at 0x11ab88290>,\n",
       "        <matplotlib.axes._subplots.AxesSubplot object at 0x11abf8210>]], dtype=object)"
      ]
     },
     "execution_count": 8,
     "metadata": {},
     "output_type": "execute_result"
    },
    {
     "data": {
      "image/png": "[encoded data removed]",
      "text/plain": [
       "<matplotlib.figure.Figure at 0x11a5aef10>"
      ]
     },
     "metadata": {},
     "output_type": "display_data"
    }
   ],
   "source": [
    "data.hist()"
   ]
  },
  {
   "cell_type": "code",
   "execution_count": 9,
   "metadata": {
    "collapsed": true
   },
   "outputs": [],
   "source": [
    "def plot_hist(df, title, color):\n",
    "    df.hist(figsize=(12,5),  grid=False, normed=True,  color=color,  alpha=0.2)\n",
    "    plt.suptitle(title, size=18, weight='bold', y=1.05) \n"
   ]
  },
  {
   "cell_type": "code",
   "execution_count": 9,
   "metadata": {},
   "outputs": [
    {
     "data": {
      "image/png": "[encoded data removed]",
      "text/plain": [
       "<matplotlib.figure.Figure at 0x10f6d80d0>"
      ]
     },
     "metadata": {},
     "output_type": "display_data"
    }
   ],
   "source": [
    "plot_hist(data, 'Overall', 'b')"
   ]
  },
  {
   "cell_type": "code",
   "execution_count": 11,
   "metadata": {},
   "outputs": [
    {
     "data": {
      "image/png": "[encoded data removed]",
      "text/plain": [
       "<matplotlib.figure.Figure at 0x11ae02e90>"
      ]
     },
     "metadata": {},
     "output_type": "display_data"
    },
    {
     "data": {
      "image/png": "[encoded data removed]",
      "text/plain": [
       "<matplotlib.figure.Figure at 0x123b75a10>"
      ]
     },
     "metadata": {},
     "output_type": "display_data"
    }
   ],
   "source": [
    "signed_in=data[data['Signed_In']==1 ]\n",
    "not_signed_in=data[data['Signed_In']==0 ]\n",
    "\n",
    "plot_hist(signed_in,'Signed In', 'g' )\n",
    "plot_hist(not_signed_in,'Not Signed In', 'r' )"
   ]
  },
  {
   "cell_type": "code",
   "execution_count": 12,
   "metadata": {},
   "outputs": [
    {
     "data": {
      "text/plain": [
       "Ttest_indResult(statistic=array([  1.45725924e+03,   5.92354001e+02,   1.44938435e+00,\n",
       "        -6.17522648e+01,              inf,  -5.53761179e+01]), pvalue=array([ 0.       ,  0.       ,  0.1472315,  0.       ,  0.       ,  0.       ]))"
      ]
     },
     "execution_count": 12,
     "metadata": {},
     "output_type": "execute_result"
    }
   ],
   "source": [
    "scs.ttest_ind(signed_in, not_signed_in, equal_var=False)"
   ]
  },
  {
   "cell_type": "code",
   "execution_count": 30,
   "metadata": {},
   "outputs": [],
   "source": [
    "def t_test(df1, df2, df1_name, df2_name):\n",
    "    fig= plt.figure()\n",
    "    df1_mean=df1['CTR'].mean()\n",
    "    df2_mean=df2['CTR'].mean()\n",
    "    \n",
    "    print '%s Mean CTR %s' %(df1_name, df1_mean) \n",
    "    print '%s Mean CTR %s' %(df2_name, df2_mean) \n",
    "    print 'diff in mean: ', abs(df1_mean-df2_mean)\n",
    "    p_val= scs.ttest_ind(df1['CTR'], df2['CTR'], equal_var=False)[1]\n",
    "    print 'p val is: ', p_val \n",
    "    \n",
    "    df1['CTR'].hist(normed=True, label=df1_name,color='g', alpha =0.3)\n",
    "    df2['CTR'].hist(normed=True, label=df2_name ,color='r', alpha =0.3)\n",
    "    plt.axvline(df1_mean, color='r', alpha=0.6, lw=2)\n",
    "    plt.axvline(df2_mean, color='g', alpha=0.6, lw=2)\n",
    "    \n",
    "    plt.ylabel('Prob Density')\n",
    "    plt.xlabel('CTR')\n",
    "    plt.legend()\n",
    "    plt.grid('off')\n",
    " \n",
    "    "
   ]
  },
  {
   "cell_type": "code",
   "execution_count": 31,
   "metadata": {},
   "outputs": [
    {
     "name": "stdout",
     "output_type": "stream",
     "text": [
      "Signed In Mean CTR 0.0142536352321\n",
      "Not Signed In Mean CTR 0.0283549070617\n",
      "diff in mean:  0.0141012718295\n",
      "p val is:  0.0\n"
     ]
    },
    {
     "data": {
      "image/png": "[encoded data removed]",
      "text/plain": [
       "<matplotlib.figure.Figure at 0x112478090>"
      ]
     },
     "metadata": {},
     "output_type": "display_data"
    }
   ],
   "source": [
    "t_test(signed_in, not_signed_in, 'Signed In', 'Not Signed In')"
   ]
  },
  {
   "cell_type": "code",
   "execution_count": 32,
   "metadata": {},
   "outputs": [],
   "source": [
    "def t_test_2(df1, df2, df1_name, df2_name):\n",
    "    fig= plt.figure()\n",
    "    df1_mean=df1['CTR'].mean()\n",
    "    df2_mean=df2['CTR'].mean()\n",
    "    \n",
    "    print '%s Mean CTR %s' %(df1_name, df1_mean) \n",
    "    print '%s Mean CTR %s' %(df2_name, df2_mean) \n",
    "    print 'diff in mean: ', abs(df1_mean-df2_mean)\n",
    "    p_val= scs.ttest_ind(df1['CTR'], df2['CTR'], equal_var=False)[1]\n",
    "    print 'p val is: ', p_val \n",
    "    \n",
    "    df1['CTR'].hist(label=df1_name,color='g', alpha =0.3)\n",
    "    df2['CTR'].hist(label=df2_name ,color='r', alpha =0.3)\n",
    "    #plt.axvline(df1_mean, color='r', alpha=0.6, lw=2)\n",
    "    #plt.axvline(df2_mean, color='g', alpha=0.6, lw=2)\n",
    "    \n",
    "    plt.ylabel('Prob Density')\n",
    "    plt.xlabel('CTR')\n",
    "    plt.legend()\n",
    "    plt.grid('off')\n"
   ]
  },
  {
   "cell_type": "code",
   "execution_count": 33,
   "metadata": {},
   "outputs": [
    {
     "name": "stdout",
     "output_type": "stream",
     "text": [
      "Signed In Mean CTR 0.0142536352321\n",
      "Not Signed In Mean CTR 0.0283549070617\n",
      "diff in mean:  0.0141012718295\n",
      "p val is:  0.0\n"
     ]
    },
    {
     "data": {
      "image/png": "[encoded data removed]",
      "text/plain": [
       "<matplotlib.figure.Figure at 0x10f0c64d0>"
      ]
     },
     "metadata": {},
     "output_type": "display_data"
    }
   ],
   "source": [
    "t_test_2(signed_in, not_signed_in, 'Signed In', 'Not Signed In')"
   ]
  },
  {
   "cell_type": "code",
   "execution_count": 60,
   "metadata": {},
   "outputs": [],
   "source": [
    "def t_test_3(df1, df2, df1_name, df2_name):\n",
    "    \n",
    "    fig= plt.figure()\n",
    "    df1_mean=df1['CTR'].mean()\n",
    "    df2_mean=df2['CTR'].mean()\n",
    "    _, ax=plt.subplots(2, figsize=(15,2) )\n",
    "    \n",
    "    \n",
    "    print '%s Mean CTR %s' %(df1_name, df1_mean) \n",
    "    print '%s Mean CTR %s' %(df2_name, df2_mean) \n",
    "    print 'diff in mean: ', abs(df1_mean-df2_mean)\n",
    "    p_val= scs.ttest_ind(df1['CTR'], df2['CTR'], equal_var=False)[1]\n",
    "    print 'p val is: ', p_val \n",
    "    \n",
    "    ax[0]= df1['CTR'].hist(normed=True, label=df1_name,color='g', alpha =0.3)\n",
    "    ax[1]=df2['CTR'].hist(normed=True, label=df2_name ,color='r', alpha =0.3)\n",
    "    #plt.axvline(df1_mean, color='r', alpha=0.6, lw=2)\n",
    "    #plt.axvline(df2_mean, color='g', alpha=0.6, lw=2)\n",
    "    \n",
    "    \n",
    "    \n",
    "    ax[0].legend()\n",
    "    ax[0].grid('off')\n",
    "    \n",
    "    \n",
    "    ax[1].legend()\n",
    "    ax[1].grid('off')\n",
    "    \n"
   ]
  },
  {
   "cell_type": "code",
   "execution_count": 61,
   "metadata": {},
   "outputs": [
    {
     "name": "stdout",
     "output_type": "stream",
     "text": [
      "Signed In Mean CTR 0.0142536352321\n",
      "Not Signed In Mean CTR 0.0283549070617\n",
      "diff in mean:  0.0141012718295\n",
      "p val is:  0.0\n"
     ]
    },
    {
     "data": {
      "text/plain": [
       "<matplotlib.figure.Figure at 0x112497310>"
      ]
     },
     "metadata": {},
     "output_type": "display_data"
    },
    {
     "data": {
      "image/png": "[encoded data removed]",
      "text/plain": [
       "<matplotlib.figure.Figure at 0x112437c10>"
      ]
     },
     "metadata": {},
     "output_type": "display_data"
    }
   ],
   "source": [
    "t_test_3(signed_in, not_signed_in, 'Signed In', 'Not Signed In')"
   ]
  },
  {
   "cell_type": "code",
   "execution_count": 59,
   "metadata": {},
   "outputs": [
    {
     "name": "stdout",
     "output_type": "stream",
     "text": [
      "M Mean CTR 0.0139185242976\n",
      "F Mean CTR 0.0146220121839\n",
      "diff in mean:  0.000703487886268\n",
      "p val is:  0.00100285273131\n"
     ]
    },
    {
     "data": {
      "image/png": "[encoded data removed]",
      "text/plain": [
       "<matplotlib.figure.Figure at 0x112407d50>"
      ]
     },
     "metadata": {},
     "output_type": "display_data"
    }
   ],
   "source": [
    "male = signed_in[signed_in['Gender'] == 1]\n",
    "female = signed_in[signed_in['Gender'] == 0]\n",
    "t_test(male, female, 'M', 'F')"
   ]
  },
  {
   "cell_type": "code",
   "execution_count": 18,
   "metadata": {},
   "outputs": [
    {
     "data": {
      "text/html": [
       "<div>\n",
       "<style>\n",
       "    .dataframe thead tr:only-child th {\n",
       "        text-align: right;\n",
       "    }\n",
       "\n",
       "    .dataframe thead th {\n",
       "        text-align: left;\n",
       "    }\n",
       "\n",
       "    .dataframe tbody tr th {\n",
       "        vertical-align: top;\n",
       "    }\n",
       "</style>\n",
       "<table border=\"1\" class=\"dataframe\">\n",
       "  <thead>\n",
       "    <tr style=\"text-align: right;\">\n",
       "      <th></th>\n",
       "      <th>a</th>\n",
       "      <th>b</th>\n",
       "      <th>c</th>\n",
       "      <th>d</th>\n",
       "    </tr>\n",
       "  </thead>\n",
       "  <tbody>\n",
       "    <tr>\n",
       "      <th>0</th>\n",
       "      <td>0.047285</td>\n",
       "      <td>0.882619</td>\n",
       "      <td>0.268768</td>\n",
       "      <td>0.644485</td>\n",
       "    </tr>\n",
       "    <tr>\n",
       "      <th>1</th>\n",
       "      <td>0.277590</td>\n",
       "      <td>0.837058</td>\n",
       "      <td>0.972419</td>\n",
       "      <td>0.864559</td>\n",
       "    </tr>\n",
       "  </tbody>\n",
       "</table>\n",
       "</div>"
      ],
      "text/plain": [
       "          a         b         c         d\n",
       "0  0.047285  0.882619  0.268768  0.644485\n",
       "1  0.277590  0.837058  0.972419  0.864559"
      ]
     },
     "execution_count": 18,
     "metadata": {},
     "output_type": "execute_result"
    }
   ],
   "source": [
    "import pandas as pd\n",
    "import numpy as np\n",
    "\n",
    "df2 = pd.DataFrame(np.random.rand(10, 4), columns=['a', 'b', 'c', 'd'])\n",
    "df2.head(2)"
   ]
  },
  {
   "cell_type": "code",
   "execution_count": 34,
   "metadata": {},
   "outputs": [
    {
     "data": {
      "text/plain": [
       "<matplotlib.figure.Figure at 0x126df86d0>"
      ]
     },
     "metadata": {},
     "output_type": "display_data"
    },
    {
     "data": {
      "image/png": "[encoded data removed]",
      "text/plain": [
       "<matplotlib.figure.Figure at 0x126df8390>"
      ]
     },
     "metadata": {},
     "output_type": "display_data"
    },
    {
     "data": {
      "image/png": "[encoded data removed]",
      "text/plain": [
       "<matplotlib.figure.Figure at 0x11d03aa10>"
      ]
     },
     "metadata": {},
     "output_type": "display_data"
    },
    {
     "data": {
      "image/png": "[encoded data removed]",
      "text/plain": [
       "<matplotlib.figure.Figure at 0x11d03a610>"
      ]
     },
     "metadata": {},
     "output_type": "display_data"
    }
   ],
   "source": [
    "fig=plt.figure()\n",
    "\n",
    "_, ax=plt.subplots(2,1, figsize=(15,2))\n",
    "\n",
    "ax[0]=df2.plot.bar(stacked=True) \n",
    "\n",
    "ax[1]=df2.plot('a', 'b', kind='scatter')"
   ]
  },
  {
   "cell_type": "code",
   "execution_count": 35,
   "metadata": {},
   "outputs": [
    {
     "data": {
      "text/plain": [
       "<matplotlib.axes._subplots.AxesSubplot at 0x11c611410>"
      ]
     },
     "execution_count": 35,
     "metadata": {},
     "output_type": "execute_result"
    },
    {
     "data": {
      "image/png": "[encoded data removed]",
      "text/plain": [
       "<matplotlib.figure.Figure at 0x11c5de1d0>"
      ]
     },
     "metadata": {},
     "output_type": "display_data"
    }
   ],
   "source": [
    "ax = df2.plot.scatter(x='a', y='b', color='DarkBlue', label='Group 1');\n",
    "\n",
    "df2.plot.scatter(x='c', y='d', color='DarkGreen', label='Group 2', ax=ax) "
   ]
  },
  {
   "cell_type": "code",
   "execution_count": 36,
   "metadata": {},
   "outputs": [
    {
     "data": {
      "text/plain": [
       "<matplotlib.axes._subplots.AxesSubplot at 0x11cec3410>"
      ]
     },
     "execution_count": 36,
     "metadata": {},
     "output_type": "execute_result"
    },
    {
     "data": {
      "image/png": "[encoded data removed]",
      "text/plain": [
       "<matplotlib.figure.Figure at 0x11c771590>"
      ]
     },
     "metadata": {},
     "output_type": "display_data"
    }
   ],
   "source": [
    " df2.plot.hexbin(x='a', y='b', gridsize=25)"
   ]
  },
  {
   "cell_type": "code",
   "execution_count": 37,
   "metadata": {},
   "outputs": [
    {
     "ename": "TypeError",
     "evalue": "'Figure' object has no attribute '__getitem__'",
     "output_type": "error",
     "traceback": [
      "\u001b[0;31m---------------------------------------------------------------------------\u001b[0m",
      "\u001b[0;31mTypeError\u001b[0m                                 Traceback (most recent call last)",
      "\u001b[0;32m<ipython-input-37-f9c9e21c5163>\u001b[0m in \u001b[0;36m<module>\u001b[0;34m()\u001b[0m\n\u001b[1;32m      3\u001b[0m \u001b[0mdf2\u001b[0m\u001b[0;34m.\u001b[0m\u001b[0mplot\u001b[0m\u001b[0;34m(\u001b[0m\u001b[0max\u001b[0m\u001b[0;34m=\u001b[0m\u001b[0max\u001b[0m\u001b[0;34m[\u001b[0m\u001b[0;36m0\u001b[0m\u001b[0;34m,\u001b[0m\u001b[0;36m0\u001b[0m\u001b[0;34m]\u001b[0m\u001b[0;34m)\u001b[0m\u001b[0;34m\u001b[0m\u001b[0m\n\u001b[1;32m      4\u001b[0m \u001b[0mdf2\u001b[0m\u001b[0;34m.\u001b[0m\u001b[0mplot\u001b[0m\u001b[0;34m.\u001b[0m\u001b[0mscatter\u001b[0m\u001b[0;34m(\u001b[0m\u001b[0mx\u001b[0m\u001b[0;34m=\u001b[0m\u001b[0;34m'a'\u001b[0m\u001b[0;34m,\u001b[0m \u001b[0my\u001b[0m\u001b[0;34m=\u001b[0m\u001b[0;34m'b'\u001b[0m\u001b[0;34m,\u001b[0m \u001b[0max\u001b[0m\u001b[0;34m=\u001b[0m\u001b[0max\u001b[0m\u001b[0;34m[\u001b[0m\u001b[0;36m1\u001b[0m\u001b[0;34m,\u001b[0m\u001b[0;36m1\u001b[0m\u001b[0;34m]\u001b[0m\u001b[0;34m)\u001b[0m\u001b[0;34m\u001b[0m\u001b[0m\n\u001b[0;32m----> 5\u001b[0;31m \u001b[0mfig\u001b[0m\u001b[0;34m[\u001b[0m\u001b[0;36m0\u001b[0m\u001b[0;34m,\u001b[0m\u001b[0;36m0\u001b[0m\u001b[0;34m]\u001b[0m\u001b[0;34m\u001b[0m\u001b[0m\n\u001b[0m",
      "\u001b[0;31mTypeError\u001b[0m: 'Figure' object has no attribute '__getitem__'"
     ]
    },
    {
     "data": {
      "image/png": "[encoded data removed]",
      "text/plain": [
       "<matplotlib.figure.Figure at 0x126f80790>"
      ]
     },
     "metadata": {},
     "output_type": "display_data"
    }
   ],
   "source": [
    "#df2.plot.kde()\n",
    "fig, ax = plt.subplots(2, 2) \n",
    "df2.plot(ax=ax[0,0])\n",
    "df2.plot.scatter(x='a', y='b', ax=ax[1,1])\n",
    "fig[0,0]"
   ]
  },
  {
   "cell_type": "code",
   "execution_count": 38,
   "metadata": {},
   "outputs": [
    {
     "name": "stderr",
     "output_type": "stream",
     "text": [
      "/Users/koyuki.nakamori/anaconda/lib/python2.7/site-packages/ipykernel_launcher.py:1: SettingWithCopyWarning: \n",
      "A value is trying to be set on a copy of a slice from a DataFrame.\n",
      "Try using .loc[row_indexer,col_indexer] = value instead\n",
      "\n",
      "See the caveats in the documentation: http://pandas.pydata.org/pandas-docs/stable/indexing.html#indexing-view-versus-copy\n",
      "  \"\"\"Entry point for launching an IPython kernel.\n"
     ]
    }
   ],
   "source": [
    "signed_in['age_groups'] = pd.cut(signed_in['Age'], [7, 18, 24, 34, 44, 54, 64, 1000])"
   ]
  },
  {
   "cell_type": "code",
   "execution_count": 44,
   "metadata": {},
   "outputs": [
    {
     "data": {
      "text/plain": [
       "0      (34, 44]\n",
       "1    (64, 1000]\n",
       "2      (24, 34]\n",
       "Name: age_groups, dtype: category\n",
       "Categories (7, interval[int64]): [(7, 18] < (18, 24] < (24, 34] < (34, 44] < (44, 54] < (54, 64] < (64, 1000]]"
      ]
     },
     "execution_count": 44,
     "metadata": {},
     "output_type": "execute_result"
    }
   ],
   "source": [
    "signed_in['age_groups'].head(3)"
   ]
  },
  {
   "cell_type": "code",
   "execution_count": 40,
   "metadata": {},
   "outputs": [
    {
     "data": {
      "text/html": [
       "<div>\n",
       "<style>\n",
       "    .dataframe thead tr:only-child th {\n",
       "        text-align: right;\n",
       "    }\n",
       "\n",
       "    .dataframe thead th {\n",
       "        text-align: left;\n",
       "    }\n",
       "\n",
       "    .dataframe tbody tr th {\n",
       "        vertical-align: top;\n",
       "    }\n",
       "</style>\n",
       "<table border=\"1\" class=\"dataframe\">\n",
       "  <thead>\n",
       "    <tr style=\"text-align: right;\">\n",
       "      <th></th>\n",
       "      <th>Age</th>\n",
       "      <th>Gender</th>\n",
       "      <th>Impressions</th>\n",
       "      <th>Clicks</th>\n",
       "      <th>Signed_In</th>\n",
       "      <th>CTR</th>\n",
       "      <th>age_groups</th>\n",
       "    </tr>\n",
       "  </thead>\n",
       "  <tbody>\n",
       "    <tr>\n",
       "      <th>0</th>\n",
       "      <td>36</td>\n",
       "      <td>0</td>\n",
       "      <td>3</td>\n",
       "      <td>0</td>\n",
       "      <td>1</td>\n",
       "      <td>0.0</td>\n",
       "      <td>(34, 44]</td>\n",
       "    </tr>\n",
       "    <tr>\n",
       "      <th>1</th>\n",
       "      <td>73</td>\n",
       "      <td>1</td>\n",
       "      <td>3</td>\n",
       "      <td>0</td>\n",
       "      <td>1</td>\n",
       "      <td>0.0</td>\n",
       "      <td>(64, 1000]</td>\n",
       "    </tr>\n",
       "  </tbody>\n",
       "</table>\n",
       "</div>"
      ],
      "text/plain": [
       "   Age  Gender  Impressions  Clicks  Signed_In  CTR  age_groups\n",
       "0   36       0            3       0          1  0.0    (34, 44]\n",
       "1   73       1            3       0          1  0.0  (64, 1000]"
      ]
     },
     "execution_count": 40,
     "metadata": {},
     "output_type": "execute_result"
    }
   ],
   "source": [
    "signed_in.head(2)"
   ]
  },
  {
   "cell_type": "code",
   "execution_count": 41,
   "metadata": {},
   "outputs": [
    {
     "data": {
      "text/plain": [
       "<matplotlib.text.Text at 0x11cfd7c10>"
      ]
     },
     "execution_count": 41,
     "metadata": {},
     "output_type": "execute_result"
    },
    {
     "data": {
      "image/png": "[encoded data removed]",
      "text/plain": [
       "<matplotlib.figure.Figure at 0x126e697d0>"
      ]
     },
     "metadata": {},
     "output_type": "display_data"
    }
   ],
   "source": [
    "signed_in['age_groups'].value_counts().sort_index().plot(kind='bar', grid=False)\n",
    "\n",
    "plt.xlabel('Age Group')\n",
    "plt.ylabel('Number of users')"
   ]
  },
  {
   "cell_type": "code",
   "execution_count": 45,
   "metadata": {
    "collapsed": true
   },
   "outputs": [],
   "source": [
    "results = pd.DataFrame()"
   ]
  },
  {
   "cell_type": "code",
   "execution_count": 47,
   "metadata": {},
   "outputs": [],
   "source": [
    "combos = combinations(pd.unique(signed_in['age_groups']), 2)"
   ]
  },
  {
   "cell_type": "code",
   "execution_count": 48,
   "metadata": {},
   "outputs": [],
   "source": [
    "for age1, age2 in combos:\n",
    "    ctr1 = signed_in[signed_in['age_groups'] == age1]['CTR']\n",
    "    ctr2 = signed_in[signed_in['age_groups'] == age2]['CTR']\n",
    "    p_val = scs.ttest_ind(ctr1, ctr2, equal_var=False)[1]\n",
    "    ctr1_mean = ctr1.mean()\n",
    "    ctr2_mean = ctr2.mean()\n",
    "    diff = abs(ctr1_mean - ctr2_mean)\n",
    "    results = results.append(dict(one=age1, two=age2,\n",
    "                                    mean1=ctr1_mean, mean2=ctr2_mean,\n",
    "                                    diff=diff, p=p_val), ignore_index=True)\n",
    "#results = results[['one', 'two', 'mean1', 'mean2', 'diff', 'p']]"
   ]
  },
  {
   "cell_type": "code",
   "execution_count": 53,
   "metadata": {
    "scrolled": true
   },
   "outputs": [],
   "source": [
    "results=results[['one', 'two', 'mean1', 'mean2', 'diff', 'p']] "
   ]
  },
  {
   "cell_type": "code",
   "execution_count": 55,
   "metadata": {},
   "outputs": [
    {
     "data": {
      "text/html": [
       "<div>\n",
       "<style>\n",
       "    .dataframe thead tr:only-child th {\n",
       "        text-align: right;\n",
       "    }\n",
       "\n",
       "    .dataframe thead th {\n",
       "        text-align: left;\n",
       "    }\n",
       "\n",
       "    .dataframe tbody tr th {\n",
       "        vertical-align: top;\n",
       "    }\n",
       "</style>\n",
       "<table border=\"1\" class=\"dataframe\">\n",
       "  <thead>\n",
       "    <tr style=\"text-align: right;\">\n",
       "      <th></th>\n",
       "      <th>one</th>\n",
       "      <th>two</th>\n",
       "      <th>mean1</th>\n",
       "      <th>mean2</th>\n",
       "      <th>diff</th>\n",
       "      <th>p</th>\n",
       "    </tr>\n",
       "  </thead>\n",
       "  <tbody>\n",
       "    <tr>\n",
       "      <th>1</th>\n",
       "      <td>(34, 44]</td>\n",
       "      <td>(24, 34]</td>\n",
       "      <td>0.010286</td>\n",
       "      <td>0.010146</td>\n",
       "      <td>0.000140</td>\n",
       "      <td>0.624662</td>\n",
       "    </tr>\n",
       "    <tr>\n",
       "      <th>13</th>\n",
       "      <td>(24, 34]</td>\n",
       "      <td>(44, 54]</td>\n",
       "      <td>0.010146</td>\n",
       "      <td>0.009958</td>\n",
       "      <td>0.000189</td>\n",
       "      <td>0.514689</td>\n",
       "    </tr>\n",
       "    <tr>\n",
       "      <th>19</th>\n",
       "      <td>(44, 54]</td>\n",
       "      <td>(18, 24]</td>\n",
       "      <td>0.009958</td>\n",
       "      <td>0.009720</td>\n",
       "      <td>0.000237</td>\n",
       "      <td>0.477902</td>\n",
       "    </tr>\n",
       "    <tr>\n",
       "      <th>2</th>\n",
       "      <td>(34, 44]</td>\n",
       "      <td>(44, 54]</td>\n",
       "      <td>0.010286</td>\n",
       "      <td>0.009958</td>\n",
       "      <td>0.000329</td>\n",
       "      <td>0.233928</td>\n",
       "    </tr>\n",
       "    <tr>\n",
       "      <th>15</th>\n",
       "      <td>(24, 34]</td>\n",
       "      <td>(18, 24]</td>\n",
       "      <td>0.010146</td>\n",
       "      <td>0.009720</td>\n",
       "      <td>0.000426</td>\n",
       "      <td>0.213658</td>\n",
       "    </tr>\n",
       "    <tr>\n",
       "      <th>4</th>\n",
       "      <td>(34, 44]</td>\n",
       "      <td>(18, 24]</td>\n",
       "      <td>0.010286</td>\n",
       "      <td>0.009720</td>\n",
       "      <td>0.000566</td>\n",
       "      <td>0.087470</td>\n",
       "    </tr>\n",
       "  </tbody>\n",
       "</table>\n",
       "</div>"
      ],
      "text/plain": [
       "         one       two     mean1     mean2      diff         p\n",
       "1   (34, 44]  (24, 34]  0.010286  0.010146  0.000140  0.624662\n",
       "13  (24, 34]  (44, 54]  0.010146  0.009958  0.000189  0.514689\n",
       "19  (44, 54]  (18, 24]  0.009958  0.009720  0.000237  0.477902\n",
       "2   (34, 44]  (44, 54]  0.010286  0.009958  0.000329  0.233928\n",
       "15  (24, 34]  (18, 24]  0.010146  0.009720  0.000426  0.213658\n",
       "4   (34, 44]  (18, 24]  0.010286  0.009720  0.000566  0.087470"
      ]
     },
     "execution_count": 55,
     "metadata": {},
     "output_type": "execute_result"
    }
   ],
   "source": [
    "results[results['p'] > alpha].sort_values('diff', ascending=True)"
   ]
  },
  {
   "cell_type": "code",
   "execution_count": 56,
   "metadata": {
    "collapsed": true
   },
   "outputs": [],
   "source": [
    "data = pd.read_csv('data/experiment.csv')"
   ]
  },
  {
   "cell_type": "code",
   "execution_count": 57,
   "metadata": {},
   "outputs": [
    {
     "name": "stdout",
     "output_type": "stream",
     "text": [
      "ab column counts:\n",
      "treatment    100333\n",
      "control       90815\n",
      "Name: ab, dtype: int64\n",
      "landing_page column counts:\n",
      "old_page    95574\n",
      "new_page    95574\n",
      "Name: landing_page, dtype: int64\n"
     ]
    }
   ],
   "source": [
    "print 'ab column counts:'\n",
    "print data['ab'].value_counts()\n",
    "print 'landing_page column counts:'\n",
    "print data['landing_page'].value_counts()\n"
   ]
  },
  {
   "cell_type": "code",
   "execution_count": 59,
   "metadata": {
    "collapsed": true
   },
   "outputs": [],
   "source": [
    "def find_mismatch(ab_cell, landing_page_cell):\n",
    "        if ab_cell == 'treatment' and landing_page_cell == 'new_page':\n",
    "            return 0\n",
    "        elif ab_cell == 'control' and landing_page_cell == 'old_page':\n",
    "            return 0\n",
    "        else:\n",
    "            return 1"
   ]
  },
  {
   "cell_type": "code",
   "execution_count": 60,
   "metadata": {},
   "outputs": [],
   "source": [
    "func = lambda row: find_mismatch(row['ab'], row['landing_page'])"
   ]
  },
  {
   "cell_type": "code",
   "execution_count": 61,
   "metadata": {
    "collapsed": true
   },
   "outputs": [],
   "source": [
    "data['mismatch'] = data.apply(func, axis=1)"
   ]
  },
  {
   "cell_type": "code",
   "execution_count": 62,
   "metadata": {},
   "outputs": [],
   "source": [
    "data = data[data['mismatch'] == 0]"
   ]
  },
  {
   "cell_type": "code",
   "execution_count": 64,
   "metadata": {
    "collapsed": true
   },
   "outputs": [],
   "source": [
    "import z_test.z_test as z_test"
   ]
  },
  {
   "cell_type": "code",
   "execution_count": 65,
   "metadata": {},
   "outputs": [],
   "source": [
    "old = data[data['landing_page'] == 'old_page']\n",
    "new = data[data['landing_page'] == 'new_page']\n",
    "old_nrow = old.shape[0] * 1.\n",
    "new_nrow = new.shape[0] * 1.\n",
    "old_convert = old[old['converted'] == 1].shape[0]\n",
    "new_convert = new[new['converted'] == 1].shape[0]\n",
    "old_conversion = old_convert / old_nrow\n",
    "new_conversion = new_convert / new_nrow"
   ]
  },
  {
   "cell_type": "code",
   "execution_count": 83,
   "metadata": {},
   "outputs": [
    {
     "name": "stdout",
     "output_type": "stream",
     "text": [
      "-0.691727618087 0.755445800229 False\n"
     ]
    },
    {
     "data": {
      "text/plain": [
       "(-0.69172761808650018, 0.75544580022881469, False)"
      ]
     },
     "execution_count": 83,
     "metadata": {},
     "output_type": "execute_result"
    }
   ],
   "source": [
    "z_test(old_conversion, new_conversion, old_nrow, new_nrow, effect_size=0.001, two_tailed=False, alpha=.05)"
   ]
  },
  {
   "cell_type": "code",
   "execution_count": 88,
   "metadata": {
    "collapsed": true
   },
   "outputs": [],
   "source": [
    "def plot_pval(data):\n",
    "    pval_lst = []\n",
    "    datetime = data.ts.astype('datetime64[s]')\n",
    "    hour = datetime.apply(lambda x: x.hour)\n",
    "    data['hour'] = hour\n",
    "      \n",
    "    # Run the test as the data accumulates hourly\n",
    "    for hr in hour.unique():\n",
    "        hr_data = data[data['hour'] <= hr]\n",
    "          \n",
    "        # data for old landing page\n",
    "        old = hr_data[hr_data['landing_page'] == 'old_page']['converted']\n",
    "        old_nrow = old.shape[0]\n",
    "        old_conversion = old.mean()\n",
    "          \n",
    "        # data for new landing page\n",
    "        new = hr_data[hr_data['landing_page'] == 'new_page']['converted']\n",
    "        new_nrow = new.shape[0]\n",
    "        new_conversion = new.mean()\n",
    "          \n",
    "        # Run the z-test\n",
    "        p_val = z_test(old_conversion, new_conversion,old_nrow, new_nrow, effect_size=0.001, two_tailed=True, alpha=.05)\n",
    "        pval_lst.append(p_val[1])\n",
    "        \n",
    "    # Make the plot\n",
    "    plt.plot(pval_lst, marker='o')\n",
    "    plt.ylabel('p-value', fontweight='bold', fontsize=14)\n",
    "    plt.xlabel('Hour in the day', fontweight='bold', fontsize=14)\n",
    "    plt.axhline(0.05, linestyle='--', color='r') "
   ]
  },
  {
   "cell_type": "code",
   "execution_count": 91,
   "metadata": {},
   "outputs": [
    {
     "data": {
      "text/html": [
       "<div>\n",
       "<style>\n",
       "    .dataframe thead tr:only-child th {\n",
       "        text-align: right;\n",
       "    }\n",
       "\n",
       "    .dataframe thead th {\n",
       "        text-align: left;\n",
       "    }\n",
       "\n",
       "    .dataframe tbody tr th {\n",
       "        vertical-align: top;\n",
       "    }\n",
       "</style>\n",
       "<table border=\"1\" class=\"dataframe\">\n",
       "  <thead>\n",
       "    <tr style=\"text-align: right;\">\n",
       "      <th></th>\n",
       "      <th>user_id</th>\n",
       "      <th>ts</th>\n",
       "      <th>ab</th>\n",
       "      <th>landing_page</th>\n",
       "      <th>converted</th>\n",
       "      <th>mismatch</th>\n",
       "      <th>hour</th>\n",
       "    </tr>\n",
       "  </thead>\n",
       "  <tbody>\n",
       "    <tr>\n",
       "      <th>0</th>\n",
       "      <td>4040615247</td>\n",
       "      <td>1.356998e+09</td>\n",
       "      <td>treatment</td>\n",
       "      <td>new_page</td>\n",
       "      <td>0</td>\n",
       "      <td>0</td>\n",
       "      <td>0</td>\n",
       "    </tr>\n",
       "    <tr>\n",
       "      <th>1</th>\n",
       "      <td>4365389205</td>\n",
       "      <td>1.356998e+09</td>\n",
       "      <td>treatment</td>\n",
       "      <td>new_page</td>\n",
       "      <td>0</td>\n",
       "      <td>0</td>\n",
       "      <td>0</td>\n",
       "    </tr>\n",
       "  </tbody>\n",
       "</table>\n",
       "</div>"
      ],
      "text/plain": [
       "      user_id            ts         ab landing_page  converted  mismatch  hour\n",
       "0  4040615247  1.356998e+09  treatment     new_page          0         0     0\n",
       "1  4365389205  1.356998e+09  treatment     new_page          0         0     0"
      ]
     },
     "execution_count": 91,
     "metadata": {},
     "output_type": "execute_result"
    }
   ],
   "source": [
    "data.head(2)"
   ]
  },
  {
   "cell_type": "code",
   "execution_count": 94,
   "metadata": {},
   "outputs": [],
   "source": [
    "datetime=data.ts.astype('datetime64[s]')\n",
    "hour=datetime.apply(lambda x: x.hour)\n",
    "data['hour']=hour"
   ]
  },
  {
   "cell_type": "code",
   "execution_count": 68,
   "metadata": {
    "collapsed": true
   },
   "outputs": [],
   "source": [
    "  def read_country_and_merge(filename):\n",
    "        country = pd.read_csv(filename)\n",
    "        merged_df = pd.merge(data, country, left_on='user_id', right_on='user_id', how='left')\n",
    "        merged_df['country'] = merged_df['country'].map(str)\n",
    "        return merged_df"
   ]
  },
  {
   "cell_type": "code",
   "execution_count": 69,
   "metadata": {},
   "outputs": [],
   "source": [
    "merged_df = read_country_and_merge('data/country.csv')"
   ]
  },
  {
   "cell_type": "code",
   "execution_count": 70,
   "metadata": {},
   "outputs": [
    {
     "data": {
      "text/html": [
       "<div>\n",
       "<style>\n",
       "    .dataframe thead tr:only-child th {\n",
       "        text-align: right;\n",
       "    }\n",
       "\n",
       "    .dataframe thead th {\n",
       "        text-align: left;\n",
       "    }\n",
       "\n",
       "    .dataframe tbody tr th {\n",
       "        vertical-align: top;\n",
       "    }\n",
       "</style>\n",
       "<table border=\"1\" class=\"dataframe\">\n",
       "  <thead>\n",
       "    <tr style=\"text-align: right;\">\n",
       "      <th></th>\n",
       "      <th>user_id</th>\n",
       "      <th>ts</th>\n",
       "      <th>ab</th>\n",
       "      <th>landing_page</th>\n",
       "      <th>converted</th>\n",
       "      <th>mismatch</th>\n",
       "      <th>country</th>\n",
       "    </tr>\n",
       "  </thead>\n",
       "  <tbody>\n",
       "    <tr>\n",
       "      <th>0</th>\n",
       "      <td>4040615247</td>\n",
       "      <td>1.356998e+09</td>\n",
       "      <td>treatment</td>\n",
       "      <td>new_page</td>\n",
       "      <td>0</td>\n",
       "      <td>0</td>\n",
       "      <td>US</td>\n",
       "    </tr>\n",
       "    <tr>\n",
       "      <th>1</th>\n",
       "      <td>4365389205</td>\n",
       "      <td>1.356998e+09</td>\n",
       "      <td>treatment</td>\n",
       "      <td>new_page</td>\n",
       "      <td>0</td>\n",
       "      <td>0</td>\n",
       "      <td>US</td>\n",
       "    </tr>\n",
       "  </tbody>\n",
       "</table>\n",
       "</div>"
      ],
      "text/plain": [
       "      user_id            ts         ab landing_page  converted  mismatch  \\\n",
       "0  4040615247  1.356998e+09  treatment     new_page          0         0   \n",
       "1  4365389205  1.356998e+09  treatment     new_page          0         0   \n",
       "\n",
       "  country  \n",
       "0      US  \n",
       "1      US  "
      ]
     },
     "execution_count": 70,
     "metadata": {},
     "output_type": "execute_result"
    }
   ],
   "source": [
    "merged_df.head(2)"
   ]
  },
  {
   "cell_type": "code",
   "execution_count": 71,
   "metadata": {
    "collapsed": true
   },
   "outputs": [],
   "source": [
    "datetime = data.ts.astype('datetime64[s]')"
   ]
  },
  {
   "cell_type": "code",
   "execution_count": 84,
   "metadata": {},
   "outputs": [],
   "source": [
    "def run_country_test(df):\n",
    "    results = {}\n",
    "    for country in df['country'].unique():\n",
    "        country_df = df[df['country'] == country]\n",
    "        p_val, old_conversion, new_conversion = z_test(country_df)\n",
    "        results[country] = [p_val, new_conversion - old_conversion]\n",
    "        \n",
    "    for country, lst in results.iteritems():\n",
    "        p_val, conversion_diff = lst\n",
    "        print '%s | conversion increase: %s | p_val: %s' % (country, conversion_diff, p_val)"
   ]
  },
  {
   "cell_type": "code",
   "execution_count": 80,
   "metadata": {
    "collapsed": true
   },
   "outputs": [],
   "source": [
    "from __future__ import division\n",
    "from numpy import sqrt\n",
    "import scipy.stats as scs \n",
    "def z_test(ctr_old, ctr_new, nobs_old, nobs_new, effect_size=0., two_tailed=True, alpha=.05):\n",
    "    conversion = (ctr_old * nobs_old + ctr_new * nobs_new) /(nobs_old + nobs_new)\n",
    "    se = sqrt(conversion * (1 - conversion) * (1 / nobs_old + 1 / nobs_new))\n",
    "    z_score = (ctr_new - ctr_old - effect_size) / se\n",
    "    \n",
    "    if two_tailed: \n",
    "        p_val= (1-scs.norm.cdf(abs(z_score)))*2 \n",
    "    else: \n",
    "        p_val=1-scs.norm.cdf(z_score)\n",
    "    reject_null= p_val < alpha \n",
    "    print z_score, p_val, reject_null\n",
    "    return z_score, p_val, reject_null   \n"
   ]
  },
  {
   "cell_type": "code",
   "execution_count": 81,
   "metadata": {
    "collapsed": true
   },
   "outputs": [],
   "source": [
    "    old_p = 100. / 1000\n",
    "    new_p = 105. / 1000\n",
    "    old_row = 1000.\n",
    "    new_row = 1000.\n",
    "    "
   ]
  },
  {
   "cell_type": "code",
   "execution_count": 82,
   "metadata": {},
   "outputs": [
    {
     "name": "stdout",
     "output_type": "stream",
     "text": [
      "-0.368617411572 0.6437935422 False\n"
     ]
    },
    {
     "data": {
      "text/plain": [
       "(-0.3686174115717622, 0.64379354220012275, False)"
      ]
     },
     "execution_count": 82,
     "metadata": {},
     "output_type": "execute_result"
    }
   ],
   "source": [
    " z_test(new_p, old_p, old_row, new_row, two_tailed=False)"
   ]
  },
  {
   "cell_type": "code",
   "execution_count": null,
   "metadata": {
    "collapsed": true
   },
   "outputs": [],
   "source": []
  }
 ],
 "metadata": {
  "anaconda-cloud": {},
  "kernelspec": {
   "display_name": "Python 2",
   "language": "python",
   "name": "python2"
  },
  "language_info": {
   "codemirror_mode": {
    "name": "ipython",
    "version": 2
   },
   "file_extension": ".py",
   "mimetype": "text/x-python",
   "name": "python",
   "nbconvert_exporter": "python",
   "pygments_lexer": "ipython2",
   "version": "2.7.13"
  }
 },
 "nbformat": 4,
 "nbformat_minor": 1
}
