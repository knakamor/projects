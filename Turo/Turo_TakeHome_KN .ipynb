{
 "cells": [
  {
   "cell_type": "code",
   "execution_count": null,
   "metadata": {
    "collapsed": false
   },
   "outputs": [],
   "source": [
    "import numpy as np\n",
    "import pandas as pd \n",
    "import matplotlib.pyplot as plt \n",
    "from scipy.cluster.hierarchy import linkage, dendrogram\n",
    "from sklearn.preprocessing import OneHotEncoder, LabelEncoder\n",
    "from sklearn.cross_validation import train_test_split \n",
    "from sklearn.svm  import SVR\n",
    "from sklearn.ensemble import RandomForestRegressor, AdaBoostRegressor, BaggingRegressor, GradientBoostingRegressor\n",
    "from sklearn.model_selection import cross_val_score\n",
    "from sklearn.metrics import accuracy_score, precision_score, recall_score, f1_score \n",
    "from sklearn.linear_model import LinearRegression\n",
    "import seaborn as sns\n",
    "from sklearn.model_selection import LeaveOneOut, KFold\n",
    "from sklearn.metrics import r2_score \n",
    "from sklearn import tree \n",
    "%matplotlib inline \n"
   ]
  },
  {
   "cell_type": "markdown",
   "metadata": {},
   "source": [
    "### Dataload, EDA"
   ]
  },
  {
   "cell_type": "code",
   "execution_count": 275,
   "metadata": {
    "collapsed": true
   },
   "outputs": [],
   "source": [
    "df0=pd.read_csv('reservations.csv')"
   ]
  },
  {
   "cell_type": "code",
   "execution_count": 276,
   "metadata": {
    "collapsed": false
   },
   "outputs": [
    {
     "data": {
      "text/html": [
       "<div>\n",
       "<table border=\"1\" class=\"dataframe\">\n",
       "  <thead>\n",
       "    <tr style=\"text-align: right;\">\n",
       "      <th></th>\n",
       "      <th>vehicle_id</th>\n",
       "      <th>reservation_type</th>\n",
       "    </tr>\n",
       "  </thead>\n",
       "  <tbody>\n",
       "    <tr>\n",
       "      <th>0</th>\n",
       "      <td>208</td>\n",
       "      <td>1</td>\n",
       "    </tr>\n",
       "    <tr>\n",
       "      <th>1</th>\n",
       "      <td>601</td>\n",
       "      <td>3</td>\n",
       "    </tr>\n",
       "  </tbody>\n",
       "</table>\n",
       "</div>"
      ],
      "text/plain": [
       "   vehicle_id  reservation_type\n",
       "0         208                 1\n",
       "1         601                 3"
      ]
     },
     "execution_count": 276,
     "metadata": {},
     "output_type": "execute_result"
    }
   ],
   "source": [
    "df0.head(2)\n",
    "#df0.info()"
   ]
  },
  {
   "cell_type": "code",
   "execution_count": 277,
   "metadata": {
    "collapsed": false
   },
   "outputs": [
    {
     "data": {
      "text/html": [
       "<div>\n",
       "<table border=\"1\" class=\"dataframe\">\n",
       "  <thead>\n",
       "    <tr style=\"text-align: right;\">\n",
       "      <th></th>\n",
       "      <th>vehicle_id</th>\n",
       "      <th>reservation_type</th>\n",
       "    </tr>\n",
       "  </thead>\n",
       "  <tbody>\n",
       "    <tr>\n",
       "      <th>count</th>\n",
       "      <td>6376.000000</td>\n",
       "      <td>6376.000000</td>\n",
       "    </tr>\n",
       "    <tr>\n",
       "      <th>mean</th>\n",
       "      <td>500.131901</td>\n",
       "      <td>1.943695</td>\n",
       "    </tr>\n",
       "    <tr>\n",
       "      <th>std</th>\n",
       "      <td>292.792987</td>\n",
       "      <td>0.821170</td>\n",
       "    </tr>\n",
       "    <tr>\n",
       "      <th>min</th>\n",
       "      <td>1.000000</td>\n",
       "      <td>1.000000</td>\n",
       "    </tr>\n",
       "    <tr>\n",
       "      <th>25%</th>\n",
       "      <td>248.000000</td>\n",
       "      <td>1.000000</td>\n",
       "    </tr>\n",
       "    <tr>\n",
       "      <th>50%</th>\n",
       "      <td>500.000000</td>\n",
       "      <td>2.000000</td>\n",
       "    </tr>\n",
       "    <tr>\n",
       "      <th>75%</th>\n",
       "      <td>749.000000</td>\n",
       "      <td>3.000000</td>\n",
       "    </tr>\n",
       "    <tr>\n",
       "      <th>max</th>\n",
       "      <td>1000.000000</td>\n",
       "      <td>3.000000</td>\n",
       "    </tr>\n",
       "  </tbody>\n",
       "</table>\n",
       "</div>"
      ],
      "text/plain": [
       "        vehicle_id  reservation_type\n",
       "count  6376.000000       6376.000000\n",
       "mean    500.131901          1.943695\n",
       "std     292.792987          0.821170\n",
       "min       1.000000          1.000000\n",
       "25%     248.000000          1.000000\n",
       "50%     500.000000          2.000000\n",
       "75%     749.000000          3.000000\n",
       "max    1000.000000          3.000000"
      ]
     },
     "execution_count": 277,
     "metadata": {},
     "output_type": "execute_result"
    }
   ],
   "source": [
    "df0.describe()"
   ]
  },
  {
   "cell_type": "code",
   "execution_count": 278,
   "metadata": {
    "collapsed": false
   },
   "outputs": [],
   "source": [
    "#add new col to calculate total reservation per vehicle, unit is hour \n",
    "#1 is Hourly rental, 2 is Daily (convert to 24 hrs ), 3 is Weekly (convert to 24x7=168)\n",
    "def func(x):\n",
    "    if x ==2:\n",
    "        return 24\n",
    "    elif x ==3:\n",
    "        return 168\n",
    "    else:\n",
    "        return 1\n",
    "\n",
    "df0['reservation_hour']=df0.reservation_type.map(lambda x: func(x))"
   ]
  },
  {
   "cell_type": "code",
   "execution_count": 282,
   "metadata": {
    "collapsed": false
   },
   "outputs": [],
   "source": [
    "s=df0.groupby('vehicle_id').sum()"
   ]
  },
  {
   "cell_type": "code",
   "execution_count": 284,
   "metadata": {
    "collapsed": false
   },
   "outputs": [],
   "source": [
    "df1=s.reset_index('vehicle_id')"
   ]
  },
  {
   "cell_type": "code",
   "execution_count": 285,
   "metadata": {
    "collapsed": false
   },
   "outputs": [
    {
     "data": {
      "text/html": [
       "<div>\n",
       "<table border=\"1\" class=\"dataframe\">\n",
       "  <thead>\n",
       "    <tr style=\"text-align: right;\">\n",
       "      <th></th>\n",
       "      <th>vehicle_id</th>\n",
       "      <th>reservation_type</th>\n",
       "      <th>reservation_hour</th>\n",
       "    </tr>\n",
       "  </thead>\n",
       "  <tbody>\n",
       "    <tr>\n",
       "      <th>0</th>\n",
       "      <td>1</td>\n",
       "      <td>1</td>\n",
       "      <td>1</td>\n",
       "    </tr>\n",
       "    <tr>\n",
       "      <th>1</th>\n",
       "      <td>2</td>\n",
       "      <td>10</td>\n",
       "      <td>76</td>\n",
       "    </tr>\n",
       "  </tbody>\n",
       "</table>\n",
       "</div>"
      ],
      "text/plain": [
       "   vehicle_id  reservation_type  reservation_hour\n",
       "0           1                 1                 1\n",
       "1           2                10                76"
      ]
     },
     "execution_count": 285,
     "metadata": {},
     "output_type": "execute_result"
    }
   ],
   "source": [
    "df1.head(2)"
   ]
  },
  {
   "cell_type": "code",
   "execution_count": 286,
   "metadata": {
    "collapsed": true
   },
   "outputs": [],
   "source": [
    "df2=pd.read_csv('vehicles.csv')"
   ]
  },
  {
   "cell_type": "code",
   "execution_count": 287,
   "metadata": {
    "collapsed": false
   },
   "outputs": [
    {
     "data": {
      "text/html": [
       "<div>\n",
       "<table border=\"1\" class=\"dataframe\">\n",
       "  <thead>\n",
       "    <tr style=\"text-align: right;\">\n",
       "      <th></th>\n",
       "      <th>vehicle_id</th>\n",
       "      <th>technology</th>\n",
       "      <th>actual_price</th>\n",
       "      <th>recommended_price</th>\n",
       "      <th>num_images</th>\n",
       "      <th>street_parked</th>\n",
       "      <th>description</th>\n",
       "    </tr>\n",
       "  </thead>\n",
       "  <tbody>\n",
       "    <tr>\n",
       "      <th>0</th>\n",
       "      <td>1</td>\n",
       "      <td>1</td>\n",
       "      <td>67.85</td>\n",
       "      <td>59</td>\n",
       "      <td>5</td>\n",
       "      <td>0</td>\n",
       "      <td>7</td>\n",
       "    </tr>\n",
       "    <tr>\n",
       "      <th>1</th>\n",
       "      <td>2</td>\n",
       "      <td>0</td>\n",
       "      <td>100.70</td>\n",
       "      <td>53</td>\n",
       "      <td>5</td>\n",
       "      <td>0</td>\n",
       "      <td>224</td>\n",
       "    </tr>\n",
       "  </tbody>\n",
       "</table>\n",
       "</div>"
      ],
      "text/plain": [
       "   vehicle_id  technology  actual_price  recommended_price  num_images  \\\n",
       "0           1           1         67.85                 59           5   \n",
       "1           2           0        100.70                 53           5   \n",
       "\n",
       "   street_parked  description  \n",
       "0              0            7  \n",
       "1              0          224  "
      ]
     },
     "execution_count": 287,
     "metadata": {},
     "output_type": "execute_result"
    }
   ],
   "source": [
    "df2.head(2)"
   ]
  },
  {
   "cell_type": "code",
   "execution_count": 288,
   "metadata": {
    "collapsed": true
   },
   "outputs": [],
   "source": [
    "df=df1.merge(df2, on='vehicle_id', how ='outer' )"
   ]
  },
  {
   "cell_type": "code",
   "execution_count": 289,
   "metadata": {
    "collapsed": false
   },
   "outputs": [
    {
     "data": {
      "text/html": [
       "<div>\n",
       "<table border=\"1\" class=\"dataframe\">\n",
       "  <thead>\n",
       "    <tr style=\"text-align: right;\">\n",
       "      <th></th>\n",
       "      <th>vehicle_id</th>\n",
       "      <th>reservation_type</th>\n",
       "      <th>reservation_hour</th>\n",
       "      <th>technology</th>\n",
       "      <th>actual_price</th>\n",
       "      <th>recommended_price</th>\n",
       "      <th>num_images</th>\n",
       "      <th>street_parked</th>\n",
       "      <th>description</th>\n",
       "    </tr>\n",
       "  </thead>\n",
       "  <tbody>\n",
       "    <tr>\n",
       "      <th>0</th>\n",
       "      <td>1</td>\n",
       "      <td>1.0</td>\n",
       "      <td>1.0</td>\n",
       "      <td>1</td>\n",
       "      <td>67.85</td>\n",
       "      <td>59</td>\n",
       "      <td>5</td>\n",
       "      <td>0</td>\n",
       "      <td>7</td>\n",
       "    </tr>\n",
       "    <tr>\n",
       "      <th>1</th>\n",
       "      <td>2</td>\n",
       "      <td>10.0</td>\n",
       "      <td>76.0</td>\n",
       "      <td>0</td>\n",
       "      <td>100.70</td>\n",
       "      <td>53</td>\n",
       "      <td>5</td>\n",
       "      <td>0</td>\n",
       "      <td>224</td>\n",
       "    </tr>\n",
       "  </tbody>\n",
       "</table>\n",
       "</div>"
      ],
      "text/plain": [
       "   vehicle_id  reservation_type  reservation_hour  technology  actual_price  \\\n",
       "0           1               1.0               1.0           1         67.85   \n",
       "1           2              10.0              76.0           0        100.70   \n",
       "\n",
       "   recommended_price  num_images  street_parked  description  \n",
       "0                 59           5              0            7  \n",
       "1                 53           5              0          224  "
      ]
     },
     "execution_count": 289,
     "metadata": {},
     "output_type": "execute_result"
    }
   ],
   "source": [
    "df.head(2)"
   ]
  },
  {
   "cell_type": "code",
   "execution_count": 290,
   "metadata": {
    "collapsed": false
   },
   "outputs": [
    {
     "name": "stdout",
     "output_type": "stream",
     "text": [
      "<class 'pandas.core.frame.DataFrame'>\n",
      "Int64Index: 1000 entries, 0 to 999\n",
      "Data columns (total 9 columns):\n",
      "vehicle_id           1000 non-null int64\n",
      "reservation_type     911 non-null float64\n",
      "reservation_hour     911 non-null float64\n",
      "technology           1000 non-null int64\n",
      "actual_price         1000 non-null float64\n",
      "recommended_price    1000 non-null int64\n",
      "num_images           1000 non-null int64\n",
      "street_parked        1000 non-null int64\n",
      "description          1000 non-null int64\n",
      "dtypes: float64(3), int64(6)\n",
      "memory usage: 78.1 KB\n"
     ]
    }
   ],
   "source": [
    "df.info()"
   ]
  },
  {
   "cell_type": "code",
   "execution_count": 291,
   "metadata": {
    "collapsed": false
   },
   "outputs": [
    {
     "data": {
      "text/plain": [
       "vehicle_id           1000\n",
       "reservation_type     1000\n",
       "reservation_hour     1000\n",
       "technology           1000\n",
       "actual_price         1000\n",
       "recommended_price    1000\n",
       "num_images           1000\n",
       "street_parked        1000\n",
       "description          1000\n",
       "dtype: int64"
      ]
     },
     "execution_count": 291,
     "metadata": {},
     "output_type": "execute_result"
    }
   ],
   "source": [
    "df.isnull().count()"
   ]
  },
  {
   "cell_type": "code",
   "execution_count": 292,
   "metadata": {
    "collapsed": true
   },
   "outputs": [],
   "source": [
    "#create a feature diff between recommended and actual price\n",
    "df['diff_price']=df.recommended_price-df.actual_price"
   ]
  },
  {
   "cell_type": "code",
   "execution_count": 293,
   "metadata": {
    "collapsed": false
   },
   "outputs": [],
   "source": [
    "df_features=df[['technology', 'actual_price', 'recommended_price' ,'diff_price', 'num_images','street_parked', 'description']]"
   ]
  },
  {
   "cell_type": "code",
   "execution_count": 294,
   "metadata": {
    "collapsed": false
   },
   "outputs": [
    {
     "data": {
      "text/plain": [
       "<matplotlib.axes._subplots.AxesSubplot at 0x120960290>"
      ]
     },
     "execution_count": 294,
     "metadata": {},
     "output_type": "execute_result"
    },
    {
     "data": {
      "image/png": "[encoded data removed]",
      "text/plain": [
       "<matplotlib.figure.Figure at 0x120960d10>"
      ]
     },
     "metadata": {},
     "output_type": "display_data"
    }
   ],
   "source": [
    "# reservation_hour is the target variable\n",
    "df.reservation_hour.hist()\n",
    "#skewed towards left with somewhat long tail (lots of < 10)"
   ]
  },
  {
   "cell_type": "code",
   "execution_count": 144,
   "metadata": {
    "collapsed": false
   },
   "outputs": [],
   "source": [
    "#df[df.reservation_hour <10]"
   ]
  },
  {
   "cell_type": "code",
   "execution_count": 295,
   "metadata": {
    "collapsed": false
   },
   "outputs": [
    {
     "data": {
      "text/html": [
       "<div>\n",
       "<table border=\"1\" class=\"dataframe\">\n",
       "  <thead>\n",
       "    <tr style=\"text-align: right;\">\n",
       "      <th></th>\n",
       "      <th>vehicle_id</th>\n",
       "      <th>reservation_type</th>\n",
       "      <th>reservation_hour</th>\n",
       "      <th>technology</th>\n",
       "      <th>actual_price</th>\n",
       "      <th>recommended_price</th>\n",
       "      <th>num_images</th>\n",
       "      <th>street_parked</th>\n",
       "      <th>description</th>\n",
       "      <th>diff_price</th>\n",
       "    </tr>\n",
       "  </thead>\n",
       "  <tbody>\n",
       "    <tr>\n",
       "      <th>396</th>\n",
       "      <td>427</td>\n",
       "      <td>43.0</td>\n",
       "      <td>1539.0</td>\n",
       "      <td>0</td>\n",
       "      <td>62.40</td>\n",
       "      <td>60</td>\n",
       "      <td>3</td>\n",
       "      <td>1</td>\n",
       "      <td>195</td>\n",
       "      <td>-2.40</td>\n",
       "    </tr>\n",
       "    <tr>\n",
       "      <th>447</th>\n",
       "      <td>483</td>\n",
       "      <td>54.0</td>\n",
       "      <td>2144.0</td>\n",
       "      <td>1</td>\n",
       "      <td>51.50</td>\n",
       "      <td>50</td>\n",
       "      <td>5</td>\n",
       "      <td>0</td>\n",
       "      <td>50</td>\n",
       "      <td>-1.50</td>\n",
       "    </tr>\n",
       "    <tr>\n",
       "      <th>585</th>\n",
       "      <td>634</td>\n",
       "      <td>46.0</td>\n",
       "      <td>1927.0</td>\n",
       "      <td>0</td>\n",
       "      <td>83.43</td>\n",
       "      <td>81</td>\n",
       "      <td>4</td>\n",
       "      <td>1</td>\n",
       "      <td>4</td>\n",
       "      <td>-2.43</td>\n",
       "    </tr>\n",
       "  </tbody>\n",
       "</table>\n",
       "</div>"
      ],
      "text/plain": [
       "     vehicle_id  reservation_type  reservation_hour  technology  actual_price  \\\n",
       "396         427              43.0            1539.0           0         62.40   \n",
       "447         483              54.0            2144.0           1         51.50   \n",
       "585         634              46.0            1927.0           0         83.43   \n",
       "\n",
       "     recommended_price  num_images  street_parked  description  diff_price  \n",
       "396                 60           3              1          195       -2.40  \n",
       "447                 50           5              0           50       -1.50  \n",
       "585                 81           4              1            4       -2.43  "
      ]
     },
     "execution_count": 295,
     "metadata": {},
     "output_type": "execute_result"
    }
   ],
   "source": [
    "#looking at outlier with > 1500 hrs\n",
    "df[df.reservation_hour>1500]#,df.diff_price.mean()\n",
    "#looks like when actual is very close to recommned or lower, the vehicle gets reserved more"
   ]
  },
  {
   "cell_type": "code",
   "execution_count": 296,
   "metadata": {
    "collapsed": false
   },
   "outputs": [
    {
     "data": {
      "text/html": [
       "<div>\n",
       "<table border=\"1\" class=\"dataframe\">\n",
       "  <thead>\n",
       "    <tr style=\"text-align: right;\">\n",
       "      <th></th>\n",
       "      <th>vehicle_id</th>\n",
       "      <th>reservation_type</th>\n",
       "      <th>reservation_hour</th>\n",
       "      <th>technology</th>\n",
       "      <th>actual_price</th>\n",
       "      <th>recommended_price</th>\n",
       "      <th>num_images</th>\n",
       "      <th>street_parked</th>\n",
       "      <th>description</th>\n",
       "      <th>diff_price</th>\n",
       "    </tr>\n",
       "  </thead>\n",
       "  <tbody>\n",
       "    <tr>\n",
       "      <th>0</th>\n",
       "      <td>1</td>\n",
       "      <td>1.0</td>\n",
       "      <td>1.0</td>\n",
       "      <td>1</td>\n",
       "      <td>67.85</td>\n",
       "      <td>59</td>\n",
       "      <td>5</td>\n",
       "      <td>0</td>\n",
       "      <td>7</td>\n",
       "      <td>-8.85</td>\n",
       "    </tr>\n",
       "    <tr>\n",
       "      <th>39</th>\n",
       "      <td>43</td>\n",
       "      <td>3.0</td>\n",
       "      <td>3.0</td>\n",
       "      <td>1</td>\n",
       "      <td>67.94</td>\n",
       "      <td>79</td>\n",
       "      <td>3</td>\n",
       "      <td>0</td>\n",
       "      <td>179</td>\n",
       "      <td>11.06</td>\n",
       "    </tr>\n",
       "    <tr>\n",
       "      <th>53</th>\n",
       "      <td>58</td>\n",
       "      <td>1.0</td>\n",
       "      <td>1.0</td>\n",
       "      <td>0</td>\n",
       "      <td>154.84</td>\n",
       "      <td>79</td>\n",
       "      <td>2</td>\n",
       "      <td>0</td>\n",
       "      <td>245</td>\n",
       "      <td>-75.84</td>\n",
       "    </tr>\n",
       "    <tr>\n",
       "      <th>67</th>\n",
       "      <td>72</td>\n",
       "      <td>2.0</td>\n",
       "      <td>2.0</td>\n",
       "      <td>0</td>\n",
       "      <td>121.04</td>\n",
       "      <td>89</td>\n",
       "      <td>1</td>\n",
       "      <td>0</td>\n",
       "      <td>36</td>\n",
       "      <td>-32.04</td>\n",
       "    </tr>\n",
       "    <tr>\n",
       "      <th>70</th>\n",
       "      <td>75</td>\n",
       "      <td>3.0</td>\n",
       "      <td>3.0</td>\n",
       "      <td>1</td>\n",
       "      <td>65.50</td>\n",
       "      <td>50</td>\n",
       "      <td>2</td>\n",
       "      <td>0</td>\n",
       "      <td>149</td>\n",
       "      <td>-15.50</td>\n",
       "    </tr>\n",
       "    <tr>\n",
       "      <th>96</th>\n",
       "      <td>103</td>\n",
       "      <td>1.0</td>\n",
       "      <td>1.0</td>\n",
       "      <td>0</td>\n",
       "      <td>79.20</td>\n",
       "      <td>45</td>\n",
       "      <td>1</td>\n",
       "      <td>0</td>\n",
       "      <td>147</td>\n",
       "      <td>-34.20</td>\n",
       "    </tr>\n",
       "    <tr>\n",
       "      <th>107</th>\n",
       "      <td>116</td>\n",
       "      <td>1.0</td>\n",
       "      <td>1.0</td>\n",
       "      <td>0</td>\n",
       "      <td>107.38</td>\n",
       "      <td>59</td>\n",
       "      <td>1</td>\n",
       "      <td>1</td>\n",
       "      <td>154</td>\n",
       "      <td>-48.38</td>\n",
       "    </tr>\n",
       "    <tr>\n",
       "      <th>179</th>\n",
       "      <td>192</td>\n",
       "      <td>3.0</td>\n",
       "      <td>3.0</td>\n",
       "      <td>1</td>\n",
       "      <td>56.73</td>\n",
       "      <td>61</td>\n",
       "      <td>1</td>\n",
       "      <td>0</td>\n",
       "      <td>233</td>\n",
       "      <td>4.27</td>\n",
       "    </tr>\n",
       "    <tr>\n",
       "      <th>194</th>\n",
       "      <td>208</td>\n",
       "      <td>1.0</td>\n",
       "      <td>1.0</td>\n",
       "      <td>1</td>\n",
       "      <td>66.40</td>\n",
       "      <td>40</td>\n",
       "      <td>1</td>\n",
       "      <td>0</td>\n",
       "      <td>43</td>\n",
       "      <td>-26.40</td>\n",
       "    </tr>\n",
       "    <tr>\n",
       "      <th>204</th>\n",
       "      <td>220</td>\n",
       "      <td>1.0</td>\n",
       "      <td>1.0</td>\n",
       "      <td>0</td>\n",
       "      <td>117.92</td>\n",
       "      <td>88</td>\n",
       "      <td>1</td>\n",
       "      <td>1</td>\n",
       "      <td>43</td>\n",
       "      <td>-29.92</td>\n",
       "    </tr>\n",
       "  </tbody>\n",
       "</table>\n",
       "</div>"
      ],
      "text/plain": [
       "     vehicle_id  reservation_type  reservation_hour  technology  actual_price  \\\n",
       "0             1               1.0               1.0           1         67.85   \n",
       "39           43               3.0               3.0           1         67.94   \n",
       "53           58               1.0               1.0           0        154.84   \n",
       "67           72               2.0               2.0           0        121.04   \n",
       "70           75               3.0               3.0           1         65.50   \n",
       "96          103               1.0               1.0           0         79.20   \n",
       "107         116               1.0               1.0           0        107.38   \n",
       "179         192               3.0               3.0           1         56.73   \n",
       "194         208               1.0               1.0           1         66.40   \n",
       "204         220               1.0               1.0           0        117.92   \n",
       "\n",
       "     recommended_price  num_images  street_parked  description  diff_price  \n",
       "0                   59           5              0            7       -8.85  \n",
       "39                  79           3              0          179       11.06  \n",
       "53                  79           2              0          245      -75.84  \n",
       "67                  89           1              0           36      -32.04  \n",
       "70                  50           2              0          149      -15.50  \n",
       "96                  45           1              0          147      -34.20  \n",
       "107                 59           1              1          154      -48.38  \n",
       "179                 61           1              0          233        4.27  \n",
       "194                 40           1              0           43      -26.40  \n",
       "204                 88           1              1           43      -29.92  "
      ]
     },
     "execution_count": 296,
     "metadata": {},
     "output_type": "execute_result"
    }
   ],
   "source": [
    "#looking at outlier with > 1500 hrs\n",
    "df[df.reservation_hour<10].head(10)#,df.diff_price.mean()\n",
    "#looks like when actual > recommended price, then the vehicle is less popular, make sense!"
   ]
  },
  {
   "cell_type": "code",
   "execution_count": 298,
   "metadata": {
    "collapsed": true
   },
   "outputs": [],
   "source": [
    "#df=df[df.reservation_hour<2000]"
   ]
  },
  {
   "cell_type": "code",
   "execution_count": 299,
   "metadata": {
    "collapsed": false
   },
   "outputs": [
    {
     "data": {
      "text/plain": [
       "array([<matplotlib.axes._subplots.AxesSubplot object at 0x11dc62990>,\n",
       "       <matplotlib.axes._subplots.AxesSubplot object at 0x1204f8ad0>], dtype=object)"
      ]
     },
     "execution_count": 299,
     "metadata": {},
     "output_type": "execute_result"
    },
    {
     "data": {
      "image/png": "[encoded data removed]",
      "text/plain": [
       "<matplotlib.figure.Figure at 0x11d71e410>"
      ]
     },
     "metadata": {},
     "output_type": "display_data"
    }
   ],
   "source": [
    "df.reservation_hour.hist(by=df.technology)"
   ]
  },
  {
   "cell_type": "code",
   "execution_count": 330,
   "metadata": {
    "collapsed": false
   },
   "outputs": [
    {
     "data": {
      "text/html": [
       "<div>\n",
       "<table border=\"1\" class=\"dataframe\">\n",
       "  <thead>\n",
       "    <tr style=\"text-align: right;\">\n",
       "      <th></th>\n",
       "      <th>vehicle_id</th>\n",
       "      <th>reservation_type</th>\n",
       "      <th>reservation_hour</th>\n",
       "      <th>actual_price</th>\n",
       "      <th>recommended_price</th>\n",
       "      <th>num_images</th>\n",
       "      <th>street_parked</th>\n",
       "      <th>description</th>\n",
       "      <th>diff_price</th>\n",
       "    </tr>\n",
       "    <tr>\n",
       "      <th>technology</th>\n",
       "      <th></th>\n",
       "      <th></th>\n",
       "      <th></th>\n",
       "      <th></th>\n",
       "      <th></th>\n",
       "      <th></th>\n",
       "      <th></th>\n",
       "      <th></th>\n",
       "      <th></th>\n",
       "    </tr>\n",
       "  </thead>\n",
       "  <tbody>\n",
       "    <tr>\n",
       "      <th>0</th>\n",
       "      <td>497.391017</td>\n",
       "      <td>13.270806</td>\n",
       "      <td>422.247028</td>\n",
       "      <td>93.886856</td>\n",
       "      <td>65.254954</td>\n",
       "      <td>3.067371</td>\n",
       "      <td>0.505945</td>\n",
       "      <td>90.546896</td>\n",
       "      <td>-28.631902</td>\n",
       "    </tr>\n",
       "    <tr>\n",
       "      <th>1</th>\n",
       "      <td>480.869281</td>\n",
       "      <td>14.986928</td>\n",
       "      <td>408.901961</td>\n",
       "      <td>57.260850</td>\n",
       "      <td>47.901961</td>\n",
       "      <td>3.006536</td>\n",
       "      <td>0.503268</td>\n",
       "      <td>95.071895</td>\n",
       "      <td>-9.358889</td>\n",
       "    </tr>\n",
       "  </tbody>\n",
       "</table>\n",
       "</div>"
      ],
      "text/plain": [
       "            vehicle_id  reservation_type  reservation_hour  actual_price  \\\n",
       "technology                                                                 \n",
       "0           497.391017         13.270806        422.247028     93.886856   \n",
       "1           480.869281         14.986928        408.901961     57.260850   \n",
       "\n",
       "            recommended_price  num_images  street_parked  description  \\\n",
       "technology                                                              \n",
       "0                   65.254954    3.067371       0.505945    90.546896   \n",
       "1                   47.901961    3.006536       0.503268    95.071895   \n",
       "\n",
       "            diff_price  \n",
       "technology              \n",
       "0           -28.631902  \n",
       "1            -9.358889  "
      ]
     },
     "execution_count": 330,
     "metadata": {},
     "output_type": "execute_result"
    }
   ],
   "source": [
    "df.groupby('technology').mean()"
   ]
  },
  {
   "cell_type": "code",
   "execution_count": 331,
   "metadata": {
    "collapsed": false
   },
   "outputs": [
    {
     "data": {
      "text/html": [
       "<div>\n",
       "<table border=\"1\" class=\"dataframe\">\n",
       "  <thead>\n",
       "    <tr style=\"text-align: right;\">\n",
       "      <th></th>\n",
       "      <th>vehicle_id</th>\n",
       "      <th>reservation_type</th>\n",
       "      <th>reservation_hour</th>\n",
       "      <th>actual_price</th>\n",
       "      <th>recommended_price</th>\n",
       "      <th>num_images</th>\n",
       "      <th>street_parked</th>\n",
       "      <th>description</th>\n",
       "      <th>diff_price</th>\n",
       "    </tr>\n",
       "    <tr>\n",
       "      <th>technology</th>\n",
       "      <th></th>\n",
       "      <th></th>\n",
       "      <th></th>\n",
       "      <th></th>\n",
       "      <th></th>\n",
       "      <th></th>\n",
       "      <th></th>\n",
       "      <th></th>\n",
       "      <th></th>\n",
       "    </tr>\n",
       "  </thead>\n",
       "  <tbody>\n",
       "    <tr>\n",
       "      <th>0</th>\n",
       "      <td>284.779568</td>\n",
       "      <td>8.828576</td>\n",
       "      <td>325.032552</td>\n",
       "      <td>28.586492</td>\n",
       "      <td>15.310360</td>\n",
       "      <td>1.339057</td>\n",
       "      <td>0.500295</td>\n",
       "      <td>77.229144</td>\n",
       "      <td>20.359316</td>\n",
       "    </tr>\n",
       "    <tr>\n",
       "      <th>1</th>\n",
       "      <td>306.292746</td>\n",
       "      <td>9.866202</td>\n",
       "      <td>322.136224</td>\n",
       "      <td>10.286277</td>\n",
       "      <td>11.143068</td>\n",
       "      <td>1.364478</td>\n",
       "      <td>0.501631</td>\n",
       "      <td>75.603807</td>\n",
       "      <td>10.905740</td>\n",
       "    </tr>\n",
       "  </tbody>\n",
       "</table>\n",
       "</div>"
      ],
      "text/plain": [
       "            vehicle_id  reservation_type  reservation_hour  actual_price  \\\n",
       "technology                                                                 \n",
       "0           284.779568          8.828576        325.032552     28.586492   \n",
       "1           306.292746          9.866202        322.136224     10.286277   \n",
       "\n",
       "            recommended_price  num_images  street_parked  description  \\\n",
       "technology                                                              \n",
       "0                   15.310360    1.339057       0.500295    77.229144   \n",
       "1                   11.143068    1.364478       0.501631    75.603807   \n",
       "\n",
       "            diff_price  \n",
       "technology              \n",
       "0            20.359316  \n",
       "1            10.905740  "
      ]
     },
     "execution_count": 331,
     "metadata": {},
     "output_type": "execute_result"
    }
   ],
   "source": [
    "df.groupby('technology').std()"
   ]
  },
  {
   "cell_type": "code",
   "execution_count": 327,
   "metadata": {
    "collapsed": false
   },
   "outputs": [
    {
     "data": {
      "image/png": "[encoded data removed]",
      "text/plain": [
       "<matplotlib.figure.Figure at 0x11df33d50>"
      ]
     },
     "metadata": {},
     "output_type": "display_data"
    }
   ],
   "source": [
    "ax = sns.violinplot(x=\"technology\", y=df.reservation_hour, data=df_features)"
   ]
  },
  {
   "cell_type": "code",
   "execution_count": 329,
   "metadata": {
    "collapsed": false
   },
   "outputs": [
    {
     "data": {
      "image/png": "[encoded data removed]",
      "text/plain": [
       "<matplotlib.figure.Figure at 0x11de191d0>"
      ]
     },
     "metadata": {},
     "output_type": "display_data"
    }
   ],
   "source": [
    "ax = sns.violinplot(x=\"technology\", y=df.diff_price, data=df_features)\n",
    "#vehicles with tech tend to have lower price range comapred to recommended price"
   ]
  },
  {
   "cell_type": "code",
   "execution_count": 301,
   "metadata": {
    "collapsed": false
   },
   "outputs": [
    {
     "data": {
      "text/html": [
       "<div>\n",
       "<table border=\"1\" class=\"dataframe\">\n",
       "  <thead>\n",
       "    <tr style=\"text-align: right;\">\n",
       "      <th></th>\n",
       "      <th>vehicle_id</th>\n",
       "      <th>reservation_type</th>\n",
       "      <th>reservation_hour</th>\n",
       "      <th>technology</th>\n",
       "      <th>actual_price</th>\n",
       "      <th>recommended_price</th>\n",
       "      <th>num_images</th>\n",
       "      <th>street_parked</th>\n",
       "      <th>description</th>\n",
       "      <th>diff_price</th>\n",
       "    </tr>\n",
       "  </thead>\n",
       "  <tbody>\n",
       "    <tr>\n",
       "      <th>vehicle_id</th>\n",
       "      <td>1.000000</td>\n",
       "      <td>0.022733</td>\n",
       "      <td>0.011851</td>\n",
       "      <td>-0.021436</td>\n",
       "      <td>-0.003761</td>\n",
       "      <td>0.010906</td>\n",
       "      <td>-0.010371</td>\n",
       "      <td>0.055192</td>\n",
       "      <td>-0.069990</td>\n",
       "      <td>0.014062</td>\n",
       "    </tr>\n",
       "    <tr>\n",
       "      <th>reservation_type</th>\n",
       "      <td>0.022733</td>\n",
       "      <td>1.000000</td>\n",
       "      <td>0.917728</td>\n",
       "      <td>0.071125</td>\n",
       "      <td>-0.242417</td>\n",
       "      <td>0.009419</td>\n",
       "      <td>0.190913</td>\n",
       "      <td>-0.001047</td>\n",
       "      <td>0.004657</td>\n",
       "      <td>0.360755</td>\n",
       "    </tr>\n",
       "    <tr>\n",
       "      <th>reservation_hour</th>\n",
       "      <td>0.011851</td>\n",
       "      <td>0.917728</td>\n",
       "      <td>1.000000</td>\n",
       "      <td>-0.015393</td>\n",
       "      <td>-0.175291</td>\n",
       "      <td>0.033790</td>\n",
       "      <td>0.169730</td>\n",
       "      <td>-0.003291</td>\n",
       "      <td>-0.004588</td>\n",
       "      <td>0.282085</td>\n",
       "    </tr>\n",
       "    <tr>\n",
       "      <th>technology</th>\n",
       "      <td>-0.021436</td>\n",
       "      <td>0.071125</td>\n",
       "      <td>-0.015393</td>\n",
       "      <td>1.000000</td>\n",
       "      <td>-0.460648</td>\n",
       "      <td>-0.404350</td>\n",
       "      <td>-0.016953</td>\n",
       "      <td>-0.002002</td>\n",
       "      <td>0.022008</td>\n",
       "      <td>0.353317</td>\n",
       "    </tr>\n",
       "    <tr>\n",
       "      <th>actual_price</th>\n",
       "      <td>-0.003761</td>\n",
       "      <td>-0.242417</td>\n",
       "      <td>-0.175291</td>\n",
       "      <td>-0.460648</td>\n",
       "      <td>1.000000</td>\n",
       "      <td>0.760208</td>\n",
       "      <td>-0.059348</td>\n",
       "      <td>0.004808</td>\n",
       "      <td>-0.010403</td>\n",
       "      <td>-0.859504</td>\n",
       "    </tr>\n",
       "    <tr>\n",
       "      <th>recommended_price</th>\n",
       "      <td>0.010906</td>\n",
       "      <td>0.009419</td>\n",
       "      <td>0.033790</td>\n",
       "      <td>-0.404350</td>\n",
       "      <td>0.760208</td>\n",
       "      <td>1.000000</td>\n",
       "      <td>-0.054004</td>\n",
       "      <td>0.012984</td>\n",
       "      <td>0.012418</td>\n",
       "      <td>-0.321331</td>\n",
       "    </tr>\n",
       "    <tr>\n",
       "      <th>num_images</th>\n",
       "      <td>-0.010371</td>\n",
       "      <td>0.190913</td>\n",
       "      <td>0.169730</td>\n",
       "      <td>-0.016953</td>\n",
       "      <td>-0.059348</td>\n",
       "      <td>-0.054004</td>\n",
       "      <td>1.000000</td>\n",
       "      <td>-0.000468</td>\n",
       "      <td>0.017187</td>\n",
       "      <td>0.044017</td>\n",
       "    </tr>\n",
       "    <tr>\n",
       "      <th>street_parked</th>\n",
       "      <td>0.055192</td>\n",
       "      <td>-0.001047</td>\n",
       "      <td>-0.003291</td>\n",
       "      <td>-0.002002</td>\n",
       "      <td>0.004808</td>\n",
       "      <td>0.012984</td>\n",
       "      <td>-0.000468</td>\n",
       "      <td>1.000000</td>\n",
       "      <td>-0.006676</td>\n",
       "      <td>0.003207</td>\n",
       "    </tr>\n",
       "    <tr>\n",
       "      <th>description</th>\n",
       "      <td>-0.069990</td>\n",
       "      <td>0.004657</td>\n",
       "      <td>-0.004588</td>\n",
       "      <td>0.022008</td>\n",
       "      <td>-0.010403</td>\n",
       "      <td>0.012418</td>\n",
       "      <td>0.017187</td>\n",
       "      <td>-0.006676</td>\n",
       "      <td>1.000000</td>\n",
       "      <td>0.024933</td>\n",
       "    </tr>\n",
       "    <tr>\n",
       "      <th>diff_price</th>\n",
       "      <td>0.014062</td>\n",
       "      <td>0.360755</td>\n",
       "      <td>0.282085</td>\n",
       "      <td>0.353317</td>\n",
       "      <td>-0.859504</td>\n",
       "      <td>-0.321331</td>\n",
       "      <td>0.044017</td>\n",
       "      <td>0.003207</td>\n",
       "      <td>0.024933</td>\n",
       "      <td>1.000000</td>\n",
       "    </tr>\n",
       "  </tbody>\n",
       "</table>\n",
       "</div>"
      ],
      "text/plain": [
       "                   vehicle_id  reservation_type  reservation_hour  technology  \\\n",
       "vehicle_id           1.000000          0.022733          0.011851   -0.021436   \n",
       "reservation_type     0.022733          1.000000          0.917728    0.071125   \n",
       "reservation_hour     0.011851          0.917728          1.000000   -0.015393   \n",
       "technology          -0.021436          0.071125         -0.015393    1.000000   \n",
       "actual_price        -0.003761         -0.242417         -0.175291   -0.460648   \n",
       "recommended_price    0.010906          0.009419          0.033790   -0.404350   \n",
       "num_images          -0.010371          0.190913          0.169730   -0.016953   \n",
       "street_parked        0.055192         -0.001047         -0.003291   -0.002002   \n",
       "description         -0.069990          0.004657         -0.004588    0.022008   \n",
       "diff_price           0.014062          0.360755          0.282085    0.353317   \n",
       "\n",
       "                   actual_price  recommended_price  num_images  street_parked  \\\n",
       "vehicle_id            -0.003761           0.010906   -0.010371       0.055192   \n",
       "reservation_type      -0.242417           0.009419    0.190913      -0.001047   \n",
       "reservation_hour      -0.175291           0.033790    0.169730      -0.003291   \n",
       "technology            -0.460648          -0.404350   -0.016953      -0.002002   \n",
       "actual_price           1.000000           0.760208   -0.059348       0.004808   \n",
       "recommended_price      0.760208           1.000000   -0.054004       0.012984   \n",
       "num_images            -0.059348          -0.054004    1.000000      -0.000468   \n",
       "street_parked          0.004808           0.012984   -0.000468       1.000000   \n",
       "description           -0.010403           0.012418    0.017187      -0.006676   \n",
       "diff_price            -0.859504          -0.321331    0.044017       0.003207   \n",
       "\n",
       "                   description  diff_price  \n",
       "vehicle_id           -0.069990    0.014062  \n",
       "reservation_type      0.004657    0.360755  \n",
       "reservation_hour     -0.004588    0.282085  \n",
       "technology            0.022008    0.353317  \n",
       "actual_price         -0.010403   -0.859504  \n",
       "recommended_price     0.012418   -0.321331  \n",
       "num_images            0.017187    0.044017  \n",
       "street_parked        -0.006676    0.003207  \n",
       "description           1.000000    0.024933  \n",
       "diff_price            0.024933    1.000000  "
      ]
     },
     "execution_count": 301,
     "metadata": {},
     "output_type": "execute_result"
    }
   ],
   "source": [
    "df.corr()\n",
    "#looks like diff_price and num_image are the top 2 features, \n",
    "#technology has low corr but this could be it's not on the same scale as other features"
   ]
  },
  {
   "cell_type": "code",
   "execution_count": 302,
   "metadata": {
    "collapsed": false
   },
   "outputs": [
    {
     "data": {
      "text/plain": [
       "<seaborn.axisgrid.PairGrid at 0x11d898910>"
      ]
     },
     "execution_count": 302,
     "metadata": {},
     "output_type": "execute_result"
    },
    {
     "data": {
      "image/png": "[encoded data removed]",
      "text/plain": [
       "<matplotlib.figure.Figure at 0x11d898a50>"
      ]
     },
     "metadata": {},
     "output_type": "display_data"
    }
   ],
   "source": [
    "sns.pairplot(df[['reservation_hour', 'diff_price' , 'num_images', 'technology']], hue='technology' )"
   ]
  },
  {
   "cell_type": "code",
   "execution_count": null,
   "metadata": {
    "collapsed": true
   },
   "outputs": [],
   "source": [
    "#definitely have different characteristics for vehicles with tech and without tech\n",
    "#price difference is smaller with tech and shorter reservation hours \n",
    "#so we will build two models for each using the top 3 features identified above "
   ]
  },
  {
   "cell_type": "code",
   "execution_count": 220,
   "metadata": {
    "collapsed": true
   },
   "outputs": [],
   "source": [
    "#Normalization of features and target variable \n",
    "df['diff_price_norm']=df.diff_price/(df.diff_price.max()-df.diff_price.min())\n",
    "df['num_images_norm']=df.num_images/(df.num_images.max()-df.num_images.min())\n",
    "df['description_norm']=df.description/(df.description.max()-df.description.min())\n",
    "df['reservation_hour_norm']=df.reservation_hour/(df.reservation_hour.max()-df.reservation_hour.min())"
   ]
  },
  {
   "cell_type": "code",
   "execution_count": 239,
   "metadata": {
    "collapsed": true
   },
   "outputs": [],
   "source": [
    "# df['diff_price_norm']=df.diff_price/30\n",
    "# #df['num_images_norm']=df.num_images/(df.num_images.max()-df.num_images.min())\n",
    "# df['description_norm']=df.description/50\n",
    "# #df['reservation_hour_norm']=df.reservation_hour/(df.reservation_hour.max()-df.reservation_hour.min())"
   ]
  },
  {
   "cell_type": "markdown",
   "metadata": {},
   "source": [
    "### Modeling"
   ]
  },
  {
   "cell_type": "code",
   "execution_count": 303,
   "metadata": {
    "collapsed": true
   },
   "outputs": [],
   "source": [
    "df_tech=df[df.technology==1]\n",
    "df_notech=df[df.technology==0] "
   ]
  },
  {
   "cell_type": "markdown",
   "metadata": {},
   "source": [
    "#### Tech"
   ]
  },
  {
   "cell_type": "code",
   "execution_count": 304,
   "metadata": {
    "collapsed": false
   },
   "outputs": [],
   "source": [
    "y=df_tech.reservation_hour\n",
    "X=df_tech[['diff_price' , 'num_images']]\n",
    "X_train,X_test, y_train, y_test= train_test_split(X,y)"
   ]
  },
  {
   "cell_type": "code",
   "execution_count": 305,
   "metadata": {
    "collapsed": false
   },
   "outputs": [
    {
     "data": {
      "text/plain": [
       "-0.2305438061080689"
      ]
     },
     "execution_count": 305,
     "metadata": {},
     "output_type": "execute_result"
    }
   ],
   "source": [
    "#liner regression \n",
    "lr=LinearRegression()\n",
    "lr.fit(X_train, y_train)\n",
    "y_pred=lr.predict(X_test)\n",
    "lr.score(X_test, y_test)"
   ]
  },
  {
   "cell_type": "code",
   "execution_count": 306,
   "metadata": {
    "collapsed": false
   },
   "outputs": [
    {
     "data": {
      "text/plain": [
       "-0.56780906876345605"
      ]
     },
     "execution_count": 306,
     "metadata": {},
     "output_type": "execute_result"
    }
   ],
   "source": [
    "lr=AdaBoostRegressor()\n",
    "lr.fit(X_train, y_train)\n",
    "y_pred=lr.predict(X_test)\n",
    "lr.score(X_test, y_test)"
   ]
  },
  {
   "cell_type": "code",
   "execution_count": 307,
   "metadata": {
    "collapsed": false
   },
   "outputs": [
    {
     "data": {
      "text/plain": [
       "-0.88283051632954823"
      ]
     },
     "execution_count": 307,
     "metadata": {},
     "output_type": "execute_result"
    }
   ],
   "source": [
    "lr=BaggingRegressor()\n",
    "lr.fit(X_train, y_train)\n",
    "y_pred=lr.predict(X_test)\n",
    "lr.score(X_test, y_test)"
   ]
  },
  {
   "cell_type": "code",
   "execution_count": 308,
   "metadata": {
    "collapsed": false
   },
   "outputs": [
    {
     "data": {
      "text/plain": [
       "-0.89476712864284691"
      ]
     },
     "execution_count": 308,
     "metadata": {},
     "output_type": "execute_result"
    }
   ],
   "source": [
    "lr=GradientBoostingRegressor()\n",
    "lr.fit(X_train, y_train)\n",
    "y_pred=lr.predict(X_test)\n",
    "lr.score(X_test, y_test)"
   ]
  },
  {
   "cell_type": "markdown",
   "metadata": {},
   "source": [
    "#### No tech model "
   ]
  },
  {
   "cell_type": "code",
   "execution_count": 322,
   "metadata": {
    "collapsed": true
   },
   "outputs": [],
   "source": [
    "y=df_notech.reservation_hour\n",
    "X=df_notech[[ 'diff_price', 'num_images', 'description']]\n",
    "X_train,X_test, y_train, y_test= train_test_split(X,y)"
   ]
  },
  {
   "cell_type": "code",
   "execution_count": 323,
   "metadata": {
    "collapsed": false
   },
   "outputs": [
    {
     "data": {
      "text/plain": [
       "0.083786604751342364"
      ]
     },
     "execution_count": 323,
     "metadata": {},
     "output_type": "execute_result"
    }
   ],
   "source": [
    "#liner regression \n",
    "lr=LinearRegression()\n",
    "lr.fit(X_train, y_train)\n",
    "y_pred=lr.predict(X_test)\n",
    "lr.score(X_test, y_test)"
   ]
  },
  {
   "cell_type": "code",
   "execution_count": 324,
   "metadata": {
    "collapsed": false
   },
   "outputs": [
    {
     "data": {
      "text/plain": [
       "0.074018509725336967"
      ]
     },
     "execution_count": 324,
     "metadata": {},
     "output_type": "execute_result"
    }
   ],
   "source": [
    "#adaboost \n",
    "lr=AdaBoostRegressor()\n",
    "lr.fit(X_train, y_train)\n",
    "y_pred=lr.predict(X_test)\n",
    "lr.score(X_test, y_test)"
   ]
  },
  {
   "cell_type": "code",
   "execution_count": 325,
   "metadata": {
    "collapsed": false
   },
   "outputs": [
    {
     "data": {
      "text/plain": [
       "0.077001606840772285"
      ]
     },
     "execution_count": 325,
     "metadata": {},
     "output_type": "execute_result"
    }
   ],
   "source": [
    "#gradient boosting \n",
    "lr=GradientBoostingRegressor()\n",
    "lr.fit(X_train, y_train)\n",
    "y_pred=lr.predict(X_test)\n",
    "lr.score(X_test, y_test)"
   ]
  },
  {
   "cell_type": "code",
   "execution_count": null,
   "metadata": {
    "collapsed": true
   },
   "outputs": [],
   "source": [
    "# Which of the factors seem to be most important in driving total: \n",
    "# Definitely the difference between actual price and recommended price, the closer, the longer driving total.\n",
    "# Hence it's extremely important for Turo to recommend the right price based on market analysis as well as the renter's\n",
    "# willingness to follow, by consistently having a good price recommendation, Turo can gain trust of renters who will then \n",
    "# follow the recommended prices more closely. In the end the chance of the vehicle getting rented is higher \n",
    "\n",
    "# How does the car's technology type seem to affect reservations?\n",
    "# for vehicles with tech, the average rental hours are longer by 22, also interestingly, vehicles with cars have less price \n",
    "# gap between the recommended and actual, which could be another reason as to why the vehicles with tech are more popular \n",
    "# This could be that Turo is doing a good job predicting the market price hence better recommendations and renters \n",
    "# follow closely to this or the renters have different demographics/characteristics compared to the non tech renters , more customers/renters data is needed for further deep dive \n"
   ]
  }
 ],
 "metadata": {
  "kernelspec": {
   "display_name": "Python 2",
   "language": "python",
   "name": "python2"
  },
  "language_info": {
   "codemirror_mode": {
    "name": "ipython",
    "version": 2
   },
   "file_extension": ".py",
   "mimetype": "text/x-python",
   "name": "python",
   "nbconvert_exporter": "python",
   "pygments_lexer": "ipython2",
   "version": "2.7.13"
  }
 },
 "nbformat": 4,
 "nbformat_minor": 2
}
