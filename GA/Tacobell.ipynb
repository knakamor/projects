{
 "cells": [
  {
   "cell_type": "code",
   "execution_count": 94,
   "metadata": {},
   "outputs": [],
   "source": [
    "import numpy as np\n",
    "import pandas as pd \n",
    "import matplotlib.pyplot as plt \n",
    "from scipy.cluster.hierarchy import linkage, dendrogram\n",
    "from sklearn.preprocessing import OneHotEncoder, LabelEncoder\n",
    "from sklearn.cross_validation import train_test_split \n",
    "from sklearn.svm  import SVR\n",
    "from sklearn.ensemble import RandomForestClassifier \n",
    "from sklearn.model_selection import cross_val_score\n",
    "from sklearn.metrics import accuracy_score, precision_score, recall_score, f1_score \n",
    "from sklearn.linear_model import LinearRegression\n",
    "import seaborn as sns\n",
    "from sklearn.model_selection import LeaveOneOut, KFold\n",
    "from sklearn.metrics import r2_score \n",
    "from sklearn.tree import DecisionTreeClassifier\n",
    "%matplotlib inline "
   ]
  },
  {
   "cell_type": "code",
   "execution_count": 58,
   "metadata": {},
   "outputs": [],
   "source": [
    "df=pd.read_csv('./data/tacobell.csv')"
   ]
  },
  {
   "cell_type": "code",
   "execution_count": 59,
   "metadata": {},
   "outputs": [
    {
     "data": {
      "text/html": [
       "<div>\n",
       "<style>\n",
       "    .dataframe thead tr:only-child th {\n",
       "        text-align: right;\n",
       "    }\n",
       "\n",
       "    .dataframe thead th {\n",
       "        text-align: left;\n",
       "    }\n",
       "\n",
       "    .dataframe tbody tr th {\n",
       "        vertical-align: top;\n",
       "    }\n",
       "</style>\n",
       "<table border=\"1\" class=\"dataframe\">\n",
       "  <thead>\n",
       "    <tr style=\"text-align: right;\">\n",
       "      <th></th>\n",
       "      <th>ID</th>\n",
       "      <th>Campaign</th>\n",
       "      <th>Tactic</th>\n",
       "      <th>targeting</th>\n",
       "      <th>Frequency</th>\n",
       "      <th>CPSV</th>\n",
       "      <th>IncrementalVisits</th>\n",
       "    </tr>\n",
       "  </thead>\n",
       "  <tbody>\n",
       "    <tr>\n",
       "      <th>0</th>\n",
       "      <td>22</td>\n",
       "      <td>1</td>\n",
       "      <td>xAd - Primary - Geoblocks TB &amp; Competitors</td>\n",
       "      <td>Geo</td>\n",
       "      <td>2.95</td>\n",
       "      <td>0.172</td>\n",
       "      <td>35,262</td>\n",
       "    </tr>\n",
       "    <tr>\n",
       "      <th>1</th>\n",
       "      <td>24</td>\n",
       "      <td>1</td>\n",
       "      <td>xAd - Primary - LBA Competitive QSRs</td>\n",
       "      <td>LBA</td>\n",
       "      <td>4.80</td>\n",
       "      <td>0.620</td>\n",
       "      <td>4,231</td>\n",
       "    </tr>\n",
       "  </tbody>\n",
       "</table>\n",
       "</div>"
      ],
      "text/plain": [
       "   ID  Campaign                                      Tactic targeting  \\\n",
       "0  22         1  xAd - Primary - Geoblocks TB & Competitors       Geo   \n",
       "1  24         1        xAd - Primary - LBA Competitive QSRs       LBA   \n",
       "\n",
       "   Frequency   CPSV IncrementalVisits  \n",
       "0       2.95  0.172            35,262  \n",
       "1       4.80  0.620             4,231  "
      ]
     },
     "execution_count": 59,
     "metadata": {},
     "output_type": "execute_result"
    }
   ],
   "source": [
    "df.head(2)"
   ]
  },
  {
   "cell_type": "code",
   "execution_count": 66,
   "metadata": {},
   "outputs": [
    {
     "name": "stdout",
     "output_type": "stream",
     "text": [
      "<class 'pandas.core.frame.DataFrame'>\n",
      "RangeIndex: 47 entries, 0 to 46\n",
      "Data columns (total 7 columns):\n",
      "ID                   47 non-null int64\n",
      "Campaign             47 non-null int64\n",
      "Tactic               47 non-null object\n",
      "targeting            47 non-null object\n",
      "Frequency            47 non-null float64\n",
      "CPSV                 47 non-null float64\n",
      "IncrementalVisits    47 non-null object\n",
      "dtypes: float64(2), int64(2), object(3)\n",
      "memory usage: 2.6+ KB\n"
     ]
    }
   ],
   "source": [
    "df.info()"
   ]
  },
  {
   "cell_type": "markdown",
   "metadata": {},
   "source": [
    "## EDA "
   ]
  },
  {
   "cell_type": "code",
   "execution_count": 62,
   "metadata": {},
   "outputs": [
    {
     "data": {
      "text/plain": [
       "<matplotlib.text.Text at 0x12005ca10>"
      ]
     },
     "execution_count": 62,
     "metadata": {},
     "output_type": "execute_result"
    },
    {
     "data": {
      "image/png": "[encoded data removed]",
      "text/plain": [
       "<matplotlib.figure.Figure at 0x11fd3edd0>"
      ]
     },
     "metadata": {},
     "output_type": "display_data"
    }
   ],
   "source": [
    "df.Frequency.groupby(df.targeting).mean().plot.bar()\n",
    "plt.title(\"Frequency by Target\")"
   ]
  },
  {
   "cell_type": "code",
   "execution_count": 63,
   "metadata": {},
   "outputs": [
    {
     "data": {
      "text/plain": [
       "<matplotlib.text.Text at 0x1203058d0>"
      ]
     },
     "execution_count": 63,
     "metadata": {},
     "output_type": "execute_result"
    },
    {
     "data": {
      "image/png": "[encoded data removed]",
      "text/plain": [
       "<matplotlib.figure.Figure at 0x12049d910>"
      ]
     },
     "metadata": {},
     "output_type": "display_data"
    }
   ],
   "source": [
    "df.CPSV.groupby(df.targeting).mean().plot.bar()\n",
    "plt.title(\"CPSV by Target\")"
   ]
  },
  {
   "cell_type": "code",
   "execution_count": 69,
   "metadata": {
    "collapsed": true
   },
   "outputs": [],
   "source": [
    "#convert target into number  \n",
    "df['target_num']=pd.Categorical(df.targeting).codes\n",
    "#df['tactic_num']=pd.Categorical(df.Tactic).codes"
   ]
  },
  {
   "cell_type": "code",
   "execution_count": 70,
   "metadata": {
    "scrolled": true
   },
   "outputs": [
    {
     "data": {
      "text/html": [
       "<div>\n",
       "<style>\n",
       "    .dataframe thead tr:only-child th {\n",
       "        text-align: right;\n",
       "    }\n",
       "\n",
       "    .dataframe thead th {\n",
       "        text-align: left;\n",
       "    }\n",
       "\n",
       "    .dataframe tbody tr th {\n",
       "        vertical-align: top;\n",
       "    }\n",
       "</style>\n",
       "<table border=\"1\" class=\"dataframe\">\n",
       "  <thead>\n",
       "    <tr style=\"text-align: right;\">\n",
       "      <th></th>\n",
       "      <th>ID</th>\n",
       "      <th>Campaign</th>\n",
       "      <th>Tactic</th>\n",
       "      <th>targeting</th>\n",
       "      <th>Frequency</th>\n",
       "      <th>CPSV</th>\n",
       "      <th>IncrementalVisits</th>\n",
       "      <th>target_num</th>\n",
       "    </tr>\n",
       "  </thead>\n",
       "  <tbody>\n",
       "    <tr>\n",
       "      <th>0</th>\n",
       "      <td>22</td>\n",
       "      <td>1</td>\n",
       "      <td>xAd - Primary - Geoblocks TB &amp; Competitors</td>\n",
       "      <td>Geo</td>\n",
       "      <td>2.95</td>\n",
       "      <td>0.172</td>\n",
       "      <td>35,262</td>\n",
       "      <td>1</td>\n",
       "    </tr>\n",
       "    <tr>\n",
       "      <th>1</th>\n",
       "      <td>24</td>\n",
       "      <td>1</td>\n",
       "      <td>xAd - Primary - LBA Competitive QSRs</td>\n",
       "      <td>LBA</td>\n",
       "      <td>4.80</td>\n",
       "      <td>0.620</td>\n",
       "      <td>4,231</td>\n",
       "      <td>2</td>\n",
       "    </tr>\n",
       "    <tr>\n",
       "      <th>2</th>\n",
       "      <td>25</td>\n",
       "      <td>1</td>\n",
       "      <td>xAd - Primary - LBA Taco Bell</td>\n",
       "      <td>LBA</td>\n",
       "      <td>9.51</td>\n",
       "      <td>0.245</td>\n",
       "      <td>75,144</td>\n",
       "      <td>2</td>\n",
       "    </tr>\n",
       "    <tr>\n",
       "      <th>3</th>\n",
       "      <td>27</td>\n",
       "      <td>1</td>\n",
       "      <td>xAd - Secondary - Geoblocks TB &amp; Breakfast Com...</td>\n",
       "      <td>Geo</td>\n",
       "      <td>2.51</td>\n",
       "      <td>0.214</td>\n",
       "      <td>-</td>\n",
       "      <td>1</td>\n",
       "    </tr>\n",
       "  </tbody>\n",
       "</table>\n",
       "</div>"
      ],
      "text/plain": [
       "   ID  Campaign                                             Tactic targeting  \\\n",
       "0  22         1         xAd - Primary - Geoblocks TB & Competitors       Geo   \n",
       "1  24         1               xAd - Primary - LBA Competitive QSRs       LBA   \n",
       "2  25         1                      xAd - Primary - LBA Taco Bell       LBA   \n",
       "3  27         1  xAd - Secondary - Geoblocks TB & Breakfast Com...       Geo   \n",
       "\n",
       "   Frequency   CPSV IncrementalVisits  target_num  \n",
       "0       2.95  0.172            35,262           1  \n",
       "1       4.80  0.620             4,231           2  \n",
       "2       9.51  0.245            75,144           2  \n",
       "3       2.51  0.214              -              1  "
      ]
     },
     "execution_count": 70,
     "metadata": {},
     "output_type": "execute_result"
    }
   ],
   "source": [
    "df.head(4)"
   ]
  },
  {
   "cell_type": "code",
   "execution_count": 73,
   "metadata": {},
   "outputs": [
    {
     "data": {
      "text/plain": [
       "<matplotlib.text.Text at 0x1209c3110>"
      ]
     },
     "execution_count": 73,
     "metadata": {},
     "output_type": "execute_result"
    },
    {
     "data": {
      "image/png": "[encoded data removed]",
      "text/plain": [
       "<matplotlib.figure.Figure at 0x120950290>"
      ]
     },
     "metadata": {},
     "output_type": "display_data"
    }
   ],
   "source": [
    "df.target_num.hist(bins=8) #remember 1: Geo 2: LBA \n",
    "plt.title(\"Target Distribuition\")"
   ]
  },
  {
   "cell_type": "code",
   "execution_count": 83,
   "metadata": {},
   "outputs": [
    {
     "data": {
      "text/html": [
       "<div>\n",
       "<style>\n",
       "    .dataframe thead tr:only-child th {\n",
       "        text-align: right;\n",
       "    }\n",
       "\n",
       "    .dataframe thead th {\n",
       "        text-align: left;\n",
       "    }\n",
       "\n",
       "    .dataframe tbody tr th {\n",
       "        vertical-align: top;\n",
       "    }\n",
       "</style>\n",
       "<table border=\"1\" class=\"dataframe\">\n",
       "  <thead>\n",
       "    <tr style=\"text-align: right;\">\n",
       "      <th></th>\n",
       "      <th>ID</th>\n",
       "      <th>Campaign</th>\n",
       "      <th>Frequency</th>\n",
       "      <th>CPSV</th>\n",
       "      <th>target_num</th>\n",
       "    </tr>\n",
       "  </thead>\n",
       "  <tbody>\n",
       "    <tr>\n",
       "      <th>ID</th>\n",
       "      <td>1.000000</td>\n",
       "      <td>0.983192</td>\n",
       "      <td>-0.386909</td>\n",
       "      <td>-0.300614</td>\n",
       "      <td>0.009380</td>\n",
       "    </tr>\n",
       "    <tr>\n",
       "      <th>Campaign</th>\n",
       "      <td>0.983192</td>\n",
       "      <td>1.000000</td>\n",
       "      <td>-0.349681</td>\n",
       "      <td>-0.279042</td>\n",
       "      <td>-0.062908</td>\n",
       "    </tr>\n",
       "    <tr>\n",
       "      <th>Frequency</th>\n",
       "      <td>-0.386909</td>\n",
       "      <td>-0.349681</td>\n",
       "      <td>1.000000</td>\n",
       "      <td>0.326090</td>\n",
       "      <td>-0.081287</td>\n",
       "    </tr>\n",
       "    <tr>\n",
       "      <th>CPSV</th>\n",
       "      <td>-0.300614</td>\n",
       "      <td>-0.279042</td>\n",
       "      <td>0.326090</td>\n",
       "      <td>1.000000</td>\n",
       "      <td>-0.285898</td>\n",
       "    </tr>\n",
       "    <tr>\n",
       "      <th>target_num</th>\n",
       "      <td>0.009380</td>\n",
       "      <td>-0.062908</td>\n",
       "      <td>-0.081287</td>\n",
       "      <td>-0.285898</td>\n",
       "      <td>1.000000</td>\n",
       "    </tr>\n",
       "  </tbody>\n",
       "</table>\n",
       "</div>"
      ],
      "text/plain": [
       "                  ID  Campaign  Frequency      CPSV  target_num\n",
       "ID          1.000000  0.983192  -0.386909 -0.300614    0.009380\n",
       "Campaign    0.983192  1.000000  -0.349681 -0.279042   -0.062908\n",
       "Frequency  -0.386909 -0.349681   1.000000  0.326090   -0.081287\n",
       "CPSV       -0.300614 -0.279042   0.326090  1.000000   -0.285898\n",
       "target_num  0.009380 -0.062908  -0.081287 -0.285898    1.000000"
      ]
     },
     "execution_count": 83,
     "metadata": {},
     "output_type": "execute_result"
    }
   ],
   "source": [
    "#correlation matrix \n",
    "df.corr()"
   ]
  },
  {
   "cell_type": "code",
   "execution_count": 75,
   "metadata": {
    "collapsed": true
   },
   "outputs": [],
   "source": [
    "df_features=df[['Frequency', 'CPSV', 'target_num']]"
   ]
  },
  {
   "cell_type": "code",
   "execution_count": 80,
   "metadata": {},
   "outputs": [
    {
     "data": {
      "text/plain": [
       "<seaborn.axisgrid.PairGrid at 0x1224b43d0>"
      ]
     },
     "execution_count": 80,
     "metadata": {},
     "output_type": "execute_result"
    },
    {
     "data": {
      "image/png": "[encoded data removed]",
      "text/plain": [
       "<matplotlib.figure.Figure at 0x1215a2b50>"
      ]
     },
     "metadata": {},
     "output_type": "display_data"
    }
   ],
   "source": [
    "sns.pairplot(df_features, hue=\"target_num\") "
   ]
  },
  {
   "cell_type": "code",
   "execution_count": 81,
   "metadata": {},
   "outputs": [
    {
     "data": {
      "image/png": "[encoded data removed]",
      "text/plain": [
       "<matplotlib.figure.Figure at 0x121bf8550>"
      ]
     },
     "metadata": {},
     "output_type": "display_data"
    }
   ],
   "source": [
    "ax = sns.violinplot(x=\"target_num\", y=\"Frequency\", data=df_features)"
   ]
  },
  {
   "cell_type": "code",
   "execution_count": 82,
   "metadata": {},
   "outputs": [
    {
     "data": {
      "image/png": "[encoded data removed]",
      "text/plain": [
       "<matplotlib.figure.Figure at 0x121bed050>"
      ]
     },
     "metadata": {},
     "output_type": "display_data"
    }
   ],
   "source": [
    "ax = sns.violinplot(x=\"target_num\", y=\"CPSV\", data=df_features)"
   ]
  },
  {
   "cell_type": "markdown",
   "metadata": {},
   "source": [
    "## Modeling"
   ]
  },
  {
   "cell_type": "code",
   "execution_count": 90,
   "metadata": {
    "collapsed": true
   },
   "outputs": [],
   "source": [
    "y=df.pop('CPSV') #trying to predict this\n",
    "X=df_features.drop(['CPSV'], axis = 1, inplace = False, errors = 'ignore')\n",
    "X_train,X_test, y_train, y_test= train_test_split(X,y)"
   ]
  },
  {
   "cell_type": "code",
   "execution_count": 91,
   "metadata": {},
   "outputs": [
    {
     "data": {
      "text/plain": [
       "((35, 2), (35,), (12, 2), (12,))"
      ]
     },
     "execution_count": 91,
     "metadata": {},
     "output_type": "execute_result"
    }
   ],
   "source": [
    "X_train.shape, y_train.shape, X_test.shape, y_test.shape"
   ]
  },
  {
   "cell_type": "code",
   "execution_count": 95,
   "metadata": {},
   "outputs": [
    {
     "data": {
      "text/plain": [
       "0.099086731881598444"
      ]
     },
     "execution_count": 95,
     "metadata": {},
     "output_type": "execute_result"
    }
   ],
   "source": [
    "## Linear Regression \n",
    "lr=LinearRegression() \n",
    "lr.fit(X_train, y_train)\n",
    "y_pred=lr.predict(X_test)\n",
    "lr.score(X_test, y_test)\n",
    "# accuracy is low as not enough data to train "
   ]
  },
  {
   "cell_type": "code",
   "execution_count": 100,
   "metadata": {},
   "outputs": [
    {
     "data": {
      "text/plain": [
       "(array([ 0.0161683 , -0.04851721]), 0.30941836501042475)"
      ]
     },
     "execution_count": 100,
     "metadata": {},
     "output_type": "execute_result"
    }
   ],
   "source": [
    "# this are the coeff for frequency and target_num and intercept : 0.016*frequency -0.0485*target_num + 0.3094 =CPSV \n",
    "lr.coef_, lr.intercept_"
   ]
  },
  {
   "cell_type": "code",
   "execution_count": 663,
   "metadata": {
    "collapsed": true
   },
   "outputs": [],
   "source": [
    "# with more data we can do this for every target!  "
   ]
  },
  {
   "cell_type": "code",
   "execution_count": null,
   "metadata": {
    "collapsed": true
   },
   "outputs": [],
   "source": []
  }
 ],
 "metadata": {
  "kernelspec": {
   "display_name": "Python 2",
   "language": "python",
   "name": "python2"
  },
  "language_info": {
   "codemirror_mode": {
    "name": "ipython",
    "version": 2
   },
   "file_extension": ".py",
   "mimetype": "text/x-python",
   "name": "python",
   "nbconvert_exporter": "python",
   "pygments_lexer": "ipython2",
   "version": "2.7.13"
  }
 },
 "nbformat": 4,
 "nbformat_minor": 2
}
