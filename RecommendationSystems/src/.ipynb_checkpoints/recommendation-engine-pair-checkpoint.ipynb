{
 "cells": [
  {
   "cell_type": "code",
   "execution_count": 19,
   "metadata": {
    "collapsed": false
   },
   "outputs": [],
   "source": [
    "import numpy as np\n",
    "import pandas as pd\n",
    "from scipy import sparse\n",
    "from sklearn.metrics.pairwise import cosine_similarity\n",
    "import graphlab\n",
    "import matplotlib.pyplot as plt\n",
    "import seaborn as sns\n",
    "%matplotlib inline "
   ]
  },
  {
   "cell_type": "code",
   "execution_count": 2,
   "metadata": {
    "collapsed": false
   },
   "outputs": [],
   "source": [
    "ratings_contents = pd.read_table(\"../data/u.data\",\n",
    "                                     names=[\"user\", \"movie\", \"rating\",\"timestamp\"])\n",
    "ratings_contents = ratings_contents[[\"user\", \"movie\", \"rating\"]]\n",
    "                        \n",
    "# highest_user_id = ratings_contents.user.max()\n",
    "# highest_movie_id = ratings_contents.movie.max()\n",
    "# ratings_as_mat = sparse.lil_matrix((highest_user_id, highest_movie_id))\n",
    "\n",
    "data =  graphlab.SFrame(ratings_contents)\n",
    "    \n",
    "    \n",
    "    "
   ]
  },
  {
   "cell_type": "code",
   "execution_count": 3,
   "metadata": {
    "collapsed": false
   },
   "outputs": [
    {
     "data": {
      "text/html": [
       "<pre>Recsys training: model = factorization_recommender</pre>"
      ],
      "text/plain": [
       "Recsys training: model = factorization_recommender"
      ]
     },
     "metadata": {},
     "output_type": "display_data"
    },
    {
     "data": {
      "text/html": [
       "<pre>Preparing data set.</pre>"
      ],
      "text/plain": [
       "Preparing data set."
      ]
     },
     "metadata": {},
     "output_type": "display_data"
    },
    {
     "data": {
      "text/html": [
       "<pre>    Data has 100000 observations with 943 users and 1682 items.</pre>"
      ],
      "text/plain": [
       "    Data has 100000 observations with 943 users and 1682 items."
      ]
     },
     "metadata": {},
     "output_type": "display_data"
    },
    {
     "data": {
      "text/html": [
       "<pre>    Data prepared in: 0.170708s</pre>"
      ],
      "text/plain": [
       "    Data prepared in: 0.170708s"
      ]
     },
     "metadata": {},
     "output_type": "display_data"
    },
    {
     "data": {
      "text/html": [
       "<pre>Training factorization_recommender for recommendations.</pre>"
      ],
      "text/plain": [
       "Training factorization_recommender for recommendations."
      ]
     },
     "metadata": {},
     "output_type": "display_data"
    },
    {
     "data": {
      "text/html": [
       "<pre>+------------------------------+--------------------------------------------------+----------+</pre>"
      ],
      "text/plain": [
       "+------------------------------+--------------------------------------------------+----------+"
      ]
     },
     "metadata": {},
     "output_type": "display_data"
    },
    {
     "data": {
      "text/html": [
       "<pre>| Parameter                    | Description                                      | Value    |</pre>"
      ],
      "text/plain": [
       "| Parameter                    | Description                                      | Value    |"
      ]
     },
     "metadata": {},
     "output_type": "display_data"
    },
    {
     "data": {
      "text/html": [
       "<pre>+------------------------------+--------------------------------------------------+----------+</pre>"
      ],
      "text/plain": [
       "+------------------------------+--------------------------------------------------+----------+"
      ]
     },
     "metadata": {},
     "output_type": "display_data"
    },
    {
     "data": {
      "text/html": [
       "<pre>| num_factors                  | Factor Dimension                                 | 8        |</pre>"
      ],
      "text/plain": [
       "| num_factors                  | Factor Dimension                                 | 8        |"
      ]
     },
     "metadata": {},
     "output_type": "display_data"
    },
    {
     "data": {
      "text/html": [
       "<pre>| regularization               | L2 Regularization on Factors                     | 1e-08    |</pre>"
      ],
      "text/plain": [
       "| regularization               | L2 Regularization on Factors                     | 1e-08    |"
      ]
     },
     "metadata": {},
     "output_type": "display_data"
    },
    {
     "data": {
      "text/html": [
       "<pre>| max_iterations               | Maximum Number of Iterations                     | 50       |</pre>"
      ],
      "text/plain": [
       "| max_iterations               | Maximum Number of Iterations                     | 50       |"
      ]
     },
     "metadata": {},
     "output_type": "display_data"
    },
    {
     "data": {
      "text/html": [
       "<pre>| solver                       | Solver used for training                         | als      |</pre>"
      ],
      "text/plain": [
       "| solver                       | Solver used for training                         | als      |"
      ]
     },
     "metadata": {},
     "output_type": "display_data"
    },
    {
     "data": {
      "text/html": [
       "<pre>+------------------------------+--------------------------------------------------+----------+</pre>"
      ],
      "text/plain": [
       "+------------------------------+--------------------------------------------------+----------+"
      ]
     },
     "metadata": {},
     "output_type": "display_data"
    },
    {
     "data": {
      "text/html": [
       "<pre>+---------+--------------+------------------------+</pre>"
      ],
      "text/plain": [
       "+---------+--------------+------------------------+"
      ]
     },
     "metadata": {},
     "output_type": "display_data"
    },
    {
     "data": {
      "text/html": [
       "<pre>| Iter.   | Elapsed time | RMSE                   |</pre>"
      ],
      "text/plain": [
       "| Iter.   | Elapsed time | RMSE                   |"
      ]
     },
     "metadata": {},
     "output_type": "display_data"
    },
    {
     "data": {
      "text/html": [
       "<pre>+---------+--------------+------------------------+</pre>"
      ],
      "text/plain": [
       "+---------+--------------+------------------------+"
      ]
     },
     "metadata": {},
     "output_type": "display_data"
    },
    {
     "data": {
      "text/html": [
       "<pre>| Initial | 86us         | NA                     |</pre>"
      ],
      "text/plain": [
       "| Initial | 86us         | NA                     |"
      ]
     },
     "metadata": {},
     "output_type": "display_data"
    },
    {
     "data": {
      "text/html": [
       "<pre>+---------+--------------+------------------------+</pre>"
      ],
      "text/plain": [
       "+---------+--------------+------------------------+"
      ]
     },
     "metadata": {},
     "output_type": "display_data"
    },
    {
     "data": {
      "text/html": [
       "<pre>| 0       | 82.588ms     | 0.974881               |</pre>"
      ],
      "text/plain": [
       "| 0       | 82.588ms     | 0.974881               |"
      ]
     },
     "metadata": {},
     "output_type": "display_data"
    },
    {
     "data": {
      "text/html": [
       "<pre>| 1       | 177.491ms    | 0.819643               |</pre>"
      ],
      "text/plain": [
       "| 1       | 177.491ms    | 0.819643               |"
      ]
     },
     "metadata": {},
     "output_type": "display_data"
    },
    {
     "data": {
      "text/html": [
       "<pre>| 2       | 253.262ms    | 0.780095               |</pre>"
      ],
      "text/plain": [
       "| 2       | 253.262ms    | 0.780095               |"
      ]
     },
     "metadata": {},
     "output_type": "display_data"
    },
    {
     "data": {
      "text/html": [
       "<pre>| 3       | 328.908ms    | 0.765234               |</pre>"
      ],
      "text/plain": [
       "| 3       | 328.908ms    | 0.765234               |"
      ]
     },
     "metadata": {},
     "output_type": "display_data"
    },
    {
     "data": {
      "text/html": [
       "<pre>| 4       | 403.28ms     | 0.757054               |</pre>"
      ],
      "text/plain": [
       "| 4       | 403.28ms     | 0.757054               |"
      ]
     },
     "metadata": {},
     "output_type": "display_data"
    },
    {
     "data": {
      "text/html": [
       "<pre>| 5       | 476.062ms    | 0.751358               |</pre>"
      ],
      "text/plain": [
       "| 5       | 476.062ms    | 0.751358               |"
      ]
     },
     "metadata": {},
     "output_type": "display_data"
    },
    {
     "data": {
      "text/html": [
       "<pre>| 6       | 555.413ms    | 0.747066               |</pre>"
      ],
      "text/plain": [
       "| 6       | 555.413ms    | 0.747066               |"
      ]
     },
     "metadata": {},
     "output_type": "display_data"
    },
    {
     "data": {
      "text/html": [
       "<pre>| 7       | 648.347ms    | 0.743779               |</pre>"
      ],
      "text/plain": [
       "| 7       | 648.347ms    | 0.743779               |"
      ]
     },
     "metadata": {},
     "output_type": "display_data"
    },
    {
     "data": {
      "text/html": [
       "<pre>| 8       | 731.38ms     | 0.741064               |</pre>"
      ],
      "text/plain": [
       "| 8       | 731.38ms     | 0.741064               |"
      ]
     },
     "metadata": {},
     "output_type": "display_data"
    },
    {
     "data": {
      "text/html": [
       "<pre>| 9       | 798.64ms     | 0.738757               |</pre>"
      ],
      "text/plain": [
       "| 9       | 798.64ms     | 0.738757               |"
      ]
     },
     "metadata": {},
     "output_type": "display_data"
    },
    {
     "data": {
      "text/html": [
       "<pre>| 10      | 875.53ms     | 0.736724               |</pre>"
      ],
      "text/plain": [
       "| 10      | 875.53ms     | 0.736724               |"
      ]
     },
     "metadata": {},
     "output_type": "display_data"
    },
    {
     "data": {
      "text/html": [
       "<pre>| 11      | 957.296ms    | 0.735012               |</pre>"
      ],
      "text/plain": [
       "| 11      | 957.296ms    | 0.735012               |"
      ]
     },
     "metadata": {},
     "output_type": "display_data"
    },
    {
     "data": {
      "text/html": [
       "<pre>| 12      | 1.03s        | 0.733594               |</pre>"
      ],
      "text/plain": [
       "| 12      | 1.03s        | 0.733594               |"
      ]
     },
     "metadata": {},
     "output_type": "display_data"
    },
    {
     "data": {
      "text/html": [
       "<pre>| 13      | 1.10s        | 0.732423               |</pre>"
      ],
      "text/plain": [
       "| 13      | 1.10s        | 0.732423               |"
      ]
     },
     "metadata": {},
     "output_type": "display_data"
    },
    {
     "data": {
      "text/html": [
       "<pre>| 14      | 1.19s        | 0.73143                |</pre>"
      ],
      "text/plain": [
       "| 14      | 1.19s        | 0.73143                |"
      ]
     },
     "metadata": {},
     "output_type": "display_data"
    },
    {
     "data": {
      "text/html": [
       "<pre>| 15      | 1.27s        | 0.73058                |</pre>"
      ],
      "text/plain": [
       "| 15      | 1.27s        | 0.73058                |"
      ]
     },
     "metadata": {},
     "output_type": "display_data"
    },
    {
     "data": {
      "text/html": [
       "<pre>| 16      | 1.34s        | 0.729845               |</pre>"
      ],
      "text/plain": [
       "| 16      | 1.34s        | 0.729845               |"
      ]
     },
     "metadata": {},
     "output_type": "display_data"
    },
    {
     "data": {
      "text/html": [
       "<pre>| 17      | 1.41s        | 0.729199               |</pre>"
      ],
      "text/plain": [
       "| 17      | 1.41s        | 0.729199               |"
      ]
     },
     "metadata": {},
     "output_type": "display_data"
    },
    {
     "data": {
      "text/html": [
       "<pre>| 18      | 1.48s        | 0.728629               |</pre>"
      ],
      "text/plain": [
       "| 18      | 1.48s        | 0.728629               |"
      ]
     },
     "metadata": {},
     "output_type": "display_data"
    },
    {
     "data": {
      "text/html": [
       "<pre>| 19      | 1.55s        | 0.728067               |</pre>"
      ],
      "text/plain": [
       "| 19      | 1.55s        | 0.728067               |"
      ]
     },
     "metadata": {},
     "output_type": "display_data"
    },
    {
     "data": {
      "text/html": [
       "<pre>| 20      | 1.63s        | 0.727588               |</pre>"
      ],
      "text/plain": [
       "| 20      | 1.63s        | 0.727588               |"
      ]
     },
     "metadata": {},
     "output_type": "display_data"
    },
    {
     "data": {
      "text/html": [
       "<pre>| 21      | 1.71s        | 0.727149               |</pre>"
      ],
      "text/plain": [
       "| 21      | 1.71s        | 0.727149               |"
      ]
     },
     "metadata": {},
     "output_type": "display_data"
    },
    {
     "data": {
      "text/html": [
       "<pre>| 22      | 1.79s        | 0.726713               |</pre>"
      ],
      "text/plain": [
       "| 22      | 1.79s        | 0.726713               |"
      ]
     },
     "metadata": {},
     "output_type": "display_data"
    },
    {
     "data": {
      "text/html": [
       "<pre>| 23      | 1.87s        | 0.726341               |</pre>"
      ],
      "text/plain": [
       "| 23      | 1.87s        | 0.726341               |"
      ]
     },
     "metadata": {},
     "output_type": "display_data"
    },
    {
     "data": {
      "text/html": [
       "<pre>| 24      | 1.94s        | 0.72601                |</pre>"
      ],
      "text/plain": [
       "| 24      | 1.94s        | 0.72601                |"
      ]
     },
     "metadata": {},
     "output_type": "display_data"
    },
    {
     "data": {
      "text/html": [
       "<pre>| 25      | 2.02s        | 0.725708               |</pre>"
      ],
      "text/plain": [
       "| 25      | 2.02s        | 0.725708               |"
      ]
     },
     "metadata": {},
     "output_type": "display_data"
    },
    {
     "data": {
      "text/html": [
       "<pre>| 26      | 2.11s        | 0.725418               |</pre>"
      ],
      "text/plain": [
       "| 26      | 2.11s        | 0.725418               |"
      ]
     },
     "metadata": {},
     "output_type": "display_data"
    },
    {
     "data": {
      "text/html": [
       "<pre>| 27      | 2.19s        | 0.72515                |</pre>"
      ],
      "text/plain": [
       "| 27      | 2.19s        | 0.72515                |"
      ]
     },
     "metadata": {},
     "output_type": "display_data"
    },
    {
     "data": {
      "text/html": [
       "<pre>| 28      | 2.27s        | 0.724888               |</pre>"
      ],
      "text/plain": [
       "| 28      | 2.27s        | 0.724888               |"
      ]
     },
     "metadata": {},
     "output_type": "display_data"
    },
    {
     "data": {
      "text/html": [
       "<pre>| 29      | 2.34s        | 0.724654               |</pre>"
      ],
      "text/plain": [
       "| 29      | 2.34s        | 0.724654               |"
      ]
     },
     "metadata": {},
     "output_type": "display_data"
    },
    {
     "data": {
      "text/html": [
       "<pre>| 30      | 2.41s        | 0.724441               |</pre>"
      ],
      "text/plain": [
       "| 30      | 2.41s        | 0.724441               |"
      ]
     },
     "metadata": {},
     "output_type": "display_data"
    },
    {
     "data": {
      "text/html": [
       "<pre>| 31      | 2.49s        | 0.724245               |</pre>"
      ],
      "text/plain": [
       "| 31      | 2.49s        | 0.724245               |"
      ]
     },
     "metadata": {},
     "output_type": "display_data"
    },
    {
     "data": {
      "text/html": [
       "<pre>| 32      | 2.56s        | 0.724064               |</pre>"
      ],
      "text/plain": [
       "| 32      | 2.56s        | 0.724064               |"
      ]
     },
     "metadata": {},
     "output_type": "display_data"
    },
    {
     "data": {
      "text/html": [
       "<pre>| 33      | 2.63s        | 0.723895               |</pre>"
      ],
      "text/plain": [
       "| 33      | 2.63s        | 0.723895               |"
      ]
     },
     "metadata": {},
     "output_type": "display_data"
    },
    {
     "data": {
      "text/html": [
       "<pre>| 34      | 2.73s        | 0.723735               |</pre>"
      ],
      "text/plain": [
       "| 34      | 2.73s        | 0.723735               |"
      ]
     },
     "metadata": {},
     "output_type": "display_data"
    },
    {
     "data": {
      "text/html": [
       "<pre>| 35      | 2.80s        | 0.723588               |</pre>"
      ],
      "text/plain": [
       "| 35      | 2.80s        | 0.723588               |"
      ]
     },
     "metadata": {},
     "output_type": "display_data"
    },
    {
     "data": {
      "text/html": [
       "<pre>| 36      | 2.88s        | 0.723451               |</pre>"
      ],
      "text/plain": [
       "| 36      | 2.88s        | 0.723451               |"
      ]
     },
     "metadata": {},
     "output_type": "display_data"
    },
    {
     "data": {
      "text/html": [
       "<pre>| 37      | 2.95s        | 0.723323               |</pre>"
      ],
      "text/plain": [
       "| 37      | 2.95s        | 0.723323               |"
      ]
     },
     "metadata": {},
     "output_type": "display_data"
    },
    {
     "data": {
      "text/html": [
       "<pre>| 38      | 3.03s        | 0.723199               |</pre>"
      ],
      "text/plain": [
       "| 38      | 3.03s        | 0.723199               |"
      ]
     },
     "metadata": {},
     "output_type": "display_data"
    },
    {
     "data": {
      "text/html": [
       "<pre>| 39      | 3.10s        | 0.72308                |</pre>"
      ],
      "text/plain": [
       "| 39      | 3.10s        | 0.72308                |"
      ]
     },
     "metadata": {},
     "output_type": "display_data"
    },
    {
     "data": {
      "text/html": [
       "<pre>| 40      | 3.18s        | 0.722963               |</pre>"
      ],
      "text/plain": [
       "| 40      | 3.18s        | 0.722963               |"
      ]
     },
     "metadata": {},
     "output_type": "display_data"
    },
    {
     "data": {
      "text/html": [
       "<pre>| 41      | 3.25s        | 0.722844               |</pre>"
      ],
      "text/plain": [
       "| 41      | 3.25s        | 0.722844               |"
      ]
     },
     "metadata": {},
     "output_type": "display_data"
    },
    {
     "data": {
      "text/html": [
       "<pre>| 42      | 3.33s        | 0.722709               |</pre>"
      ],
      "text/plain": [
       "| 42      | 3.33s        | 0.722709               |"
      ]
     },
     "metadata": {},
     "output_type": "display_data"
    },
    {
     "data": {
      "text/html": [
       "<pre>| 43      | 3.40s        | 0.722533               |</pre>"
      ],
      "text/plain": [
       "| 43      | 3.40s        | 0.722533               |"
      ]
     },
     "metadata": {},
     "output_type": "display_data"
    },
    {
     "data": {
      "text/html": [
       "<pre>| 44      | 3.47s        | 0.722404               |</pre>"
      ],
      "text/plain": [
       "| 44      | 3.47s        | 0.722404               |"
      ]
     },
     "metadata": {},
     "output_type": "display_data"
    },
    {
     "data": {
      "text/html": [
       "<pre>| 45      | 3.56s        | 0.722289               |</pre>"
      ],
      "text/plain": [
       "| 45      | 3.56s        | 0.722289               |"
      ]
     },
     "metadata": {},
     "output_type": "display_data"
    },
    {
     "data": {
      "text/html": [
       "<pre>| 46      | 3.63s        | 0.722188               |</pre>"
      ],
      "text/plain": [
       "| 46      | 3.63s        | 0.722188               |"
      ]
     },
     "metadata": {},
     "output_type": "display_data"
    },
    {
     "data": {
      "text/html": [
       "<pre>| 47      | 3.70s        | 0.722095               |</pre>"
      ],
      "text/plain": [
       "| 47      | 3.70s        | 0.722095               |"
      ]
     },
     "metadata": {},
     "output_type": "display_data"
    },
    {
     "data": {
      "text/html": [
       "<pre>| 48      | 3.77s        | 0.722009               |</pre>"
      ],
      "text/plain": [
       "| 48      | 3.77s        | 0.722009               |"
      ]
     },
     "metadata": {},
     "output_type": "display_data"
    },
    {
     "data": {
      "text/html": [
       "<pre>| 49      | 3.84s        | 0.721926               |</pre>"
      ],
      "text/plain": [
       "| 49      | 3.84s        | 0.721926               |"
      ]
     },
     "metadata": {},
     "output_type": "display_data"
    },
    {
     "data": {
      "text/html": [
       "<pre>| FINAL   | 3.84s        | 0.721926               |</pre>"
      ],
      "text/plain": [
       "| FINAL   | 3.84s        | 0.721926               |"
      ]
     },
     "metadata": {},
     "output_type": "display_data"
    },
    {
     "data": {
      "text/html": [
       "<pre>+---------+--------------+------------------------+</pre>"
      ],
      "text/plain": [
       "+---------+--------------+------------------------+"
      ]
     },
     "metadata": {},
     "output_type": "display_data"
    },
    {
     "data": {
      "text/html": [
       "<pre>Optimization Complete: Iteration limit reached.</pre>"
      ],
      "text/plain": [
       "Optimization Complete: Iteration limit reached."
      ]
     },
     "metadata": {},
     "output_type": "display_data"
    }
   ],
   "source": [
    "m= graphlab.recommender.factorization_recommender.create(data, user_id='user', item_id='movie', target='rating', solver='als')\n",
    "\n",
    "recs = m.recommend() "
   ]
  },
  {
   "cell_type": "code",
   "execution_count": 4,
   "metadata": {
    "collapsed": false
   },
   "outputs": [
    {
     "name": "stdout",
     "output_type": "stream",
     "text": [
      "+------+-------+---------------+------+\n",
      "| user | movie |     score     | rank |\n",
      "+------+-------+---------------+------+\n",
      "| 196  |  1426 | 107.138113479 |  1   |\n",
      "| 196  |  360  | 86.7853073877 |  2   |\n",
      "| 196  |  1413 | 83.6138291162 |  3   |\n",
      "| 196  |  113  | 81.7039933008 |  4   |\n",
      "| 196  |  1211 | 70.6944107813 |  5   |\n",
      "| 196  |  146  | 67.3031754297 |  6   |\n",
      "| 196  |  267  | 66.8631539148 |  7   |\n",
      "| 196  |  1449 | 63.7906975549 |  8   |\n",
      "| 196  |  888  | 57.2151894373 |  9   |\n",
      "| 196  |   37  | 56.8469757837 |  10  |\n",
      "+------+-------+---------------+------+\n",
      "[9430 rows x 4 columns]\n",
      "Note: Only the head of the SFrame is printed.\n",
      "You can use print_rows(num_rows=m, num_columns=n) to print more rows and columns.\n"
     ]
    }
   ],
   "source": [
    "recs = m.recommend() \n",
    "print recs"
   ]
  },
  {
   "cell_type": "code",
   "execution_count": 5,
   "metadata": {
    "collapsed": true
   },
   "outputs": [],
   "source": [
    "one_datapoint_sf = graphlab.SFrame({'user': [1], 'movie': [100]})"
   ]
  },
  {
   "cell_type": "code",
   "execution_count": 6,
   "metadata": {
    "collapsed": false
   },
   "outputs": [
    {
     "data": {
      "text/html": [
       "<div style=\"max-height:1000px;max-width:1500px;overflow:auto;\"><table frame=\"box\" rules=\"cols\">\n",
       "    <tr>\n",
       "        <th style=\"padding-left: 1em; padding-right: 1em; text-align: center\">movie</th>\n",
       "        <th style=\"padding-left: 1em; padding-right: 1em; text-align: center\">user</th>\n",
       "    </tr>\n",
       "    <tr>\n",
       "        <td style=\"padding-left: 1em; padding-right: 1em; text-align: center; vertical-align: top\">100</td>\n",
       "        <td style=\"padding-left: 1em; padding-right: 1em; text-align: center; vertical-align: top\">1</td>\n",
       "    </tr>\n",
       "</table>\n",
       "[1 rows x 2 columns]<br/>\n",
       "</div>"
      ],
      "text/plain": [
       "Columns:\n",
       "\tmovie\tint\n",
       "\tuser\tint\n",
       "\n",
       "Rows: 1\n",
       "\n",
       "Data:\n",
       "+-------+------+\n",
       "| movie | user |\n",
       "+-------+------+\n",
       "|  100  |  1   |\n",
       "+-------+------+\n",
       "[1 rows x 2 columns]"
      ]
     },
     "execution_count": 6,
     "metadata": {},
     "output_type": "execute_result"
    }
   ],
   "source": [
    "one_datapoint_sf "
   ]
  },
  {
   "cell_type": "code",
   "execution_count": 7,
   "metadata": {
    "collapsed": false
   },
   "outputs": [],
   "source": [
    "pred_y=m.predict(one_datapoint_sf)"
   ]
  },
  {
   "cell_type": "code",
   "execution_count": 8,
   "metadata": {
    "collapsed": false
   },
   "outputs": [],
   "source": [
    "actual_y= ratings_contents[(ratings_contents['user']==1 ) &   (ratings_contents['movie']==100 )].rating.values\n"
   ]
  },
  {
   "cell_type": "code",
   "execution_count": 9,
   "metadata": {
    "collapsed": false
   },
   "outputs": [
    {
     "data": {
      "text/plain": [
       "array([5])"
      ]
     },
     "execution_count": 9,
     "metadata": {},
     "output_type": "execute_result"
    }
   ],
   "source": [
    "actual_y"
   ]
  },
  {
   "cell_type": "code",
   "execution_count": 10,
   "metadata": {
    "collapsed": false
   },
   "outputs": [
    {
     "data": {
      "text/plain": [
       "['adagrad_momentum_weighting',\n",
       " 'additional_iterations_if_unhealthy',\n",
       " 'binary_target',\n",
       " 'coefficients',\n",
       " 'data_load_time',\n",
       " 'init_random_sigma',\n",
       " 'item_id',\n",
       " 'item_side_data_column_names',\n",
       " 'item_side_data_column_types',\n",
       " 'linear_regularization',\n",
       " 'max_iterations',\n",
       " 'model_name',\n",
       " 'nmf',\n",
       " 'num_factors',\n",
       " 'num_features',\n",
       " 'num_item_side_features',\n",
       " 'num_items',\n",
       " 'num_observations',\n",
       " 'num_tempering_iterations',\n",
       " 'num_user_side_features',\n",
       " 'num_users',\n",
       " 'observation_data_column_names',\n",
       " 'random_seed',\n",
       " 'regularization',\n",
       " 'regularization_type',\n",
       " 'sgd_convergence_interval',\n",
       " 'sgd_convergence_threshold',\n",
       " 'sgd_max_trial_iterations',\n",
       " 'sgd_sampling_block_size',\n",
       " 'sgd_step_adjustment_interval',\n",
       " 'sgd_step_size',\n",
       " 'sgd_trial_sample_minimum_size',\n",
       " 'sgd_trial_sample_proportion',\n",
       " 'side_data_factorization',\n",
       " 'solver',\n",
       " 'step_size_decrease_rate',\n",
       " 'target',\n",
       " 'tempering_regularization_start_value',\n",
       " 'track_exact_loss',\n",
       " 'training_rmse',\n",
       " 'training_stats',\n",
       " 'training_time',\n",
       " 'user_id',\n",
       " 'user_side_data_column_names',\n",
       " 'user_side_data_column_types']"
      ]
     },
     "execution_count": 10,
     "metadata": {},
     "output_type": "execute_result"
    }
   ],
   "source": [
    "m.list_fields()\n"
   ]
  },
  {
   "cell_type": "code",
   "execution_count": 11,
   "metadata": {
    "collapsed": false
   },
   "outputs": [],
   "source": [
    "uv_dictionary = m.get('coefficients')"
   ]
  },
  {
   "cell_type": "code",
   "execution_count": 12,
   "metadata": {
    "collapsed": false
   },
   "outputs": [],
   "source": [
    "v = uv_dictionary['movie']\n",
    "v_1=v[v['movie']==100]['factors']"
   ]
  },
  {
   "cell_type": "code",
   "execution_count": 13,
   "metadata": {
    "collapsed": false
   },
   "outputs": [],
   "source": [
    "u = uv_dictionary['user'] \n",
    "\n",
    "u_1=u[u['user']==1]['factors']"
   ]
  },
  {
   "cell_type": "code",
   "execution_count": 14,
   "metadata": {
    "collapsed": false
   },
   "outputs": [
    {
     "data": {
      "text/plain": [
       "4.8389565769135974"
      ]
     },
     "execution_count": 14,
     "metadata": {},
     "output_type": "execute_result"
    }
   ],
   "source": [
    "np.dot(u_1[0] , v_1[0])+ uv_dictionary['intercept']"
   ]
  },
  {
   "cell_type": "code",
   "execution_count": 15,
   "metadata": {
    "collapsed": false
   },
   "outputs": [
    {
     "name": "stdout",
     "output_type": "stream",
     "text": [
      "0.161043425217\n",
      "0.7219260566\n"
     ]
    }
   ],
   "source": [
    "error = (pred_y - actual_y)**2\n",
    "rmse = np.sqrt(error)[0][0]\n",
    "print rmse  \n",
    "print m.training_rmse"
   ]
  },
  {
   "cell_type": "code",
   "execution_count": 16,
   "metadata": {
    "collapsed": false
   },
   "outputs": [
    {
     "data": {
      "text/plain": [
       "count    100000.000000\n",
       "mean          3.529860\n",
       "std           1.125674\n",
       "min           1.000000\n",
       "25%           3.000000\n",
       "50%           4.000000\n",
       "75%           4.000000\n",
       "max           5.000000\n",
       "Name: rating, dtype: float64"
      ]
     },
     "execution_count": 16,
     "metadata": {},
     "output_type": "execute_result"
    }
   ],
   "source": [
    "pd.Series(ratings_contents.rating).describe()\n",
    "# Compare the summary statistics of the original data with your predictions. (pd.Series(ratings).describe() to do this). Does anything stand out about the min/max?"
   ]
  },
  {
   "cell_type": "code",
   "execution_count": 17,
   "metadata": {
    "collapsed": false
   },
   "outputs": [
    {
     "data": {
      "text/plain": [
       "100000"
      ]
     },
     "execution_count": 17,
     "metadata": {},
     "output_type": "execute_result"
    }
   ],
   "source": [
    "   \n",
    "pred_ys=m.predict(data)\n",
    "\n",
    "actual_ys= data['rating']\n",
    "\n",
    "len(actual_ys)\n"
   ]
  },
  {
   "cell_type": "code",
   "execution_count": 23,
   "metadata": {
    "collapsed": false
   },
   "outputs": [
    {
     "data": {
      "text/plain": [
       "<matplotlib.axes._subplots.AxesSubplot at 0x10d1e8e90>"
      ]
     },
     "execution_count": 23,
     "metadata": {},
     "output_type": "execute_result"
    },
    {
     "data": {
      "image/png": "[encoded data removed]",
      "text/plain": [
       "<matplotlib.figure.Figure at 0x10d1f2f10>"
      ]
     },
     "metadata": {},
     "output_type": "display_data"
    }
   ],
   "source": [
    "'''\n",
    "Use matplotlib to make a violinplot of the true ratings (x-axis) vs the predicted ratings (y-axis). \n",
    "Do any trends emerge?\n",
    "See http://matplotlib.org/examples/statistics/violinplot_demo.html for violin examples\n",
    "'''\n",
    "\n",
    "df_prediction = pd.Series(m.predict(data[['user','movie']]))\n",
    "df = pd.concat([ratings_contents,pd.DataFrame(df_prediction, columns={'prediction'})],1)\n",
    "\n",
    "sns.violinplot(x=df['rating'],y=df['prediction'])\n",
    "\n",
    "# actual_ys = [ratings_contents['rating'] == rating for rating in xrange(1,6)]\n",
    "# sns.violinplot(actual_ys, pred_ys, points=20, widths=0.3,\n",
    "#                       showmeans=True, showextrema=True, showmedians=True)\n",
    "# plt.title(\"Violin Plot\")\n",
    "# plt.show()"
   ]
  },
  {
   "cell_type": "code",
   "execution_count": 29,
   "metadata": {
    "collapsed": false
   },
   "outputs": [
    {
     "data": {
      "text/html": [
       "<pre>Recsys training: model = factorization_recommender</pre>"
      ],
      "text/plain": [
       "Recsys training: model = factorization_recommender"
      ]
     },
     "metadata": {},
     "output_type": "display_data"
    },
    {
     "data": {
      "text/html": [
       "<pre>Preparing data set.</pre>"
      ],
      "text/plain": [
       "Preparing data set."
      ]
     },
     "metadata": {},
     "output_type": "display_data"
    },
    {
     "data": {
      "text/html": [
       "<pre>    Data has 100000 observations with 943 users and 1682 items.</pre>"
      ],
      "text/plain": [
       "    Data has 100000 observations with 943 users and 1682 items."
      ]
     },
     "metadata": {},
     "output_type": "display_data"
    },
    {
     "data": {
      "text/html": [
       "<pre>    Data prepared in: 0.135908s</pre>"
      ],
      "text/plain": [
       "    Data prepared in: 0.135908s"
      ]
     },
     "metadata": {},
     "output_type": "display_data"
    },
    {
     "data": {
      "text/html": [
       "<pre>Training factorization_recommender for recommendations.</pre>"
      ],
      "text/plain": [
       "Training factorization_recommender for recommendations."
      ]
     },
     "metadata": {},
     "output_type": "display_data"
    },
    {
     "data": {
      "text/html": [
       "<pre>+------------------------------+--------------------------------------------------+----------+</pre>"
      ],
      "text/plain": [
       "+------------------------------+--------------------------------------------------+----------+"
      ]
     },
     "metadata": {},
     "output_type": "display_data"
    },
    {
     "data": {
      "text/html": [
       "<pre>| Parameter                    | Description                                      | Value    |</pre>"
      ],
      "text/plain": [
       "| Parameter                    | Description                                      | Value    |"
      ]
     },
     "metadata": {},
     "output_type": "display_data"
    },
    {
     "data": {
      "text/html": [
       "<pre>+------------------------------+--------------------------------------------------+----------+</pre>"
      ],
      "text/plain": [
       "+------------------------------+--------------------------------------------------+----------+"
      ]
     },
     "metadata": {},
     "output_type": "display_data"
    },
    {
     "data": {
      "text/html": [
       "<pre>| num_factors                  | Factor Dimension                                 | 8        |</pre>"
      ],
      "text/plain": [
       "| num_factors                  | Factor Dimension                                 | 8        |"
      ]
     },
     "metadata": {},
     "output_type": "display_data"
    },
    {
     "data": {
      "text/html": [
       "<pre>| regularization               | L2 Regularization on Factors                     |          |</pre>"
      ],
      "text/plain": [
       "| regularization               | L2 Regularization on Factors                     |          |"
      ]
     },
     "metadata": {},
     "output_type": "display_data"
    },
    {
     "data": {
      "text/html": [
       "<pre>| max_iterations               | Maximum Number of Iterations                     | 50       |</pre>"
      ],
      "text/plain": [
       "| max_iterations               | Maximum Number of Iterations                     | 50       |"
      ]
     },
     "metadata": {},
     "output_type": "display_data"
    },
    {
     "data": {
      "text/html": [
       "<pre>| solver                       | Solver used for training                         | als      |</pre>"
      ],
      "text/plain": [
       "| solver                       | Solver used for training                         | als      |"
      ]
     },
     "metadata": {},
     "output_type": "display_data"
    },
    {
     "data": {
      "text/html": [
       "<pre>+------------------------------+--------------------------------------------------+----------+</pre>"
      ],
      "text/plain": [
       "+------------------------------+--------------------------------------------------+----------+"
      ]
     },
     "metadata": {},
     "output_type": "display_data"
    },
    {
     "data": {
      "text/html": [
       "<pre>+---------+--------------+------------------------+</pre>"
      ],
      "text/plain": [
       "+---------+--------------+------------------------+"
      ]
     },
     "metadata": {},
     "output_type": "display_data"
    },
    {
     "data": {
      "text/html": [
       "<pre>| Iter.   | Elapsed time | RMSE                   |</pre>"
      ],
      "text/plain": [
       "| Iter.   | Elapsed time | RMSE                   |"
      ]
     },
     "metadata": {},
     "output_type": "display_data"
    },
    {
     "data": {
      "text/html": [
       "<pre>+---------+--------------+------------------------+</pre>"
      ],
      "text/plain": [
       "+---------+--------------+------------------------+"
      ]
     },
     "metadata": {},
     "output_type": "display_data"
    },
    {
     "data": {
      "text/html": [
       "<pre>| Initial | 74us         | NA                     |</pre>"
      ],
      "text/plain": [
       "| Initial | 74us         | NA                     |"
      ]
     },
     "metadata": {},
     "output_type": "display_data"
    },
    {
     "data": {
      "text/html": [
       "<pre>+---------+--------------+------------------------+</pre>"
      ],
      "text/plain": [
       "+---------+--------------+------------------------+"
      ]
     },
     "metadata": {},
     "output_type": "display_data"
    },
    {
     "data": {
      "text/html": [
       "<pre>| 0       | 92.255ms     | 1.12567                |</pre>"
      ],
      "text/plain": [
       "| 0       | 92.255ms     | 1.12567                |"
      ]
     },
     "metadata": {},
     "output_type": "display_data"
    },
    {
     "data": {
      "text/html": [
       "<pre>| 1       | 164.214ms    | 1.12567                |</pre>"
      ],
      "text/plain": [
       "| 1       | 164.214ms    | 1.12567                |"
      ]
     },
     "metadata": {},
     "output_type": "display_data"
    },
    {
     "data": {
      "text/html": [
       "<pre>| 2       | 240.17ms     | 1.12567                |</pre>"
      ],
      "text/plain": [
       "| 2       | 240.17ms     | 1.12567                |"
      ]
     },
     "metadata": {},
     "output_type": "display_data"
    },
    {
     "data": {
      "text/html": [
       "<pre>| 3       | 316.573ms    | 1.12567                |</pre>"
      ],
      "text/plain": [
       "| 3       | 316.573ms    | 1.12567                |"
      ]
     },
     "metadata": {},
     "output_type": "display_data"
    },
    {
     "data": {
      "text/html": [
       "<pre>| 4       | 396.112ms    | 1.12567                |</pre>"
      ],
      "text/plain": [
       "| 4       | 396.112ms    | 1.12567                |"
      ]
     },
     "metadata": {},
     "output_type": "display_data"
    },
    {
     "data": {
      "text/html": [
       "<pre>| 5       | 510.379ms    | 1.12567                |</pre>"
      ],
      "text/plain": [
       "| 5       | 510.379ms    | 1.12567                |"
      ]
     },
     "metadata": {},
     "output_type": "display_data"
    },
    {
     "data": {
      "text/html": [
       "<pre>| 6       | 646.368ms    | 1.12567                |</pre>"
      ],
      "text/plain": [
       "| 6       | 646.368ms    | 1.12567                |"
      ]
     },
     "metadata": {},
     "output_type": "display_data"
    },
    {
     "data": {
      "text/html": [
       "<pre>| 7       | 745.272ms    | 1.12567                |</pre>"
      ],
      "text/plain": [
       "| 7       | 745.272ms    | 1.12567                |"
      ]
     },
     "metadata": {},
     "output_type": "display_data"
    },
    {
     "data": {
      "text/html": [
       "<pre>| 8       | 816.829ms    | 1.12567                |</pre>"
      ],
      "text/plain": [
       "| 8       | 816.829ms    | 1.12567                |"
      ]
     },
     "metadata": {},
     "output_type": "display_data"
    },
    {
     "data": {
      "text/html": [
       "<pre>| 9       | 891.229ms    | 1.12567                |</pre>"
      ],
      "text/plain": [
       "| 9       | 891.229ms    | 1.12567                |"
      ]
     },
     "metadata": {},
     "output_type": "display_data"
    },
    {
     "data": {
      "text/html": [
       "<pre>| 10      | 962.863ms    | 1.12567                |</pre>"
      ],
      "text/plain": [
       "| 10      | 962.863ms    | 1.12567                |"
      ]
     },
     "metadata": {},
     "output_type": "display_data"
    },
    {
     "data": {
      "text/html": [
       "<pre>| 11      | 1.03s        | 1.12567                |</pre>"
      ],
      "text/plain": [
       "| 11      | 1.03s        | 1.12567                |"
      ]
     },
     "metadata": {},
     "output_type": "display_data"
    },
    {
     "data": {
      "text/html": [
       "<pre>| 12      | 1.12s        | 1.12567                |</pre>"
      ],
      "text/plain": [
       "| 12      | 1.12s        | 1.12567                |"
      ]
     },
     "metadata": {},
     "output_type": "display_data"
    },
    {
     "data": {
      "text/html": [
       "<pre>| 13      | 1.23s        | 1.12567                |</pre>"
      ],
      "text/plain": [
       "| 13      | 1.23s        | 1.12567                |"
      ]
     },
     "metadata": {},
     "output_type": "display_data"
    },
    {
     "data": {
      "text/html": [
       "<pre>| 14      | 1.35s        | 1.12567                |</pre>"
      ],
      "text/plain": [
       "| 14      | 1.35s        | 1.12567                |"
      ]
     },
     "metadata": {},
     "output_type": "display_data"
    },
    {
     "data": {
      "text/html": [
       "<pre>| 15      | 1.45s        | 1.12567                |</pre>"
      ],
      "text/plain": [
       "| 15      | 1.45s        | 1.12567                |"
      ]
     },
     "metadata": {},
     "output_type": "display_data"
    },
    {
     "data": {
      "text/html": [
       "<pre>| 16      | 1.52s        | 1.12567                |</pre>"
      ],
      "text/plain": [
       "| 16      | 1.52s        | 1.12567                |"
      ]
     },
     "metadata": {},
     "output_type": "display_data"
    },
    {
     "data": {
      "text/html": [
       "<pre>| 17      | 1.60s        | 1.12567                |</pre>"
      ],
      "text/plain": [
       "| 17      | 1.60s        | 1.12567                |"
      ]
     },
     "metadata": {},
     "output_type": "display_data"
    },
    {
     "data": {
      "text/html": [
       "<pre>| 18      | 1.70s        | 1.12567                |</pre>"
      ],
      "text/plain": [
       "| 18      | 1.70s        | 1.12567                |"
      ]
     },
     "metadata": {},
     "output_type": "display_data"
    },
    {
     "data": {
      "text/html": [
       "<pre>| 19      | 1.78s        | 1.12567                |</pre>"
      ],
      "text/plain": [
       "| 19      | 1.78s        | 1.12567                |"
      ]
     },
     "metadata": {},
     "output_type": "display_data"
    },
    {
     "data": {
      "text/html": [
       "<pre>| 20      | 1.86s        | 1.12567                |</pre>"
      ],
      "text/plain": [
       "| 20      | 1.86s        | 1.12567                |"
      ]
     },
     "metadata": {},
     "output_type": "display_data"
    },
    {
     "data": {
      "text/html": [
       "<pre>| 21      | 1.93s        | 1.12567                |</pre>"
      ],
      "text/plain": [
       "| 21      | 1.93s        | 1.12567                |"
      ]
     },
     "metadata": {},
     "output_type": "display_data"
    },
    {
     "data": {
      "text/html": [
       "<pre>| 22      | 2.02s        | 1.12567                |</pre>"
      ],
      "text/plain": [
       "| 22      | 2.02s        | 1.12567                |"
      ]
     },
     "metadata": {},
     "output_type": "display_data"
    },
    {
     "data": {
      "text/html": [
       "<pre>| 23      | 2.10s        | 1.12567                |</pre>"
      ],
      "text/plain": [
       "| 23      | 2.10s        | 1.12567                |"
      ]
     },
     "metadata": {},
     "output_type": "display_data"
    },
    {
     "data": {
      "text/html": [
       "<pre>| 24      | 2.17s        | 1.12567                |</pre>"
      ],
      "text/plain": [
       "| 24      | 2.17s        | 1.12567                |"
      ]
     },
     "metadata": {},
     "output_type": "display_data"
    },
    {
     "data": {
      "text/html": [
       "<pre>| 25      | 2.25s        | 1.12567                |</pre>"
      ],
      "text/plain": [
       "| 25      | 2.25s        | 1.12567                |"
      ]
     },
     "metadata": {},
     "output_type": "display_data"
    },
    {
     "data": {
      "text/html": [
       "<pre>| 26      | 2.32s        | 1.12567                |</pre>"
      ],
      "text/plain": [
       "| 26      | 2.32s        | 1.12567                |"
      ]
     },
     "metadata": {},
     "output_type": "display_data"
    },
    {
     "data": {
      "text/html": [
       "<pre>| 27      | 2.39s        | 1.12567                |</pre>"
      ],
      "text/plain": [
       "| 27      | 2.39s        | 1.12567                |"
      ]
     },
     "metadata": {},
     "output_type": "display_data"
    },
    {
     "data": {
      "text/html": [
       "<pre>| 28      | 2.47s        | 1.12567                |</pre>"
      ],
      "text/plain": [
       "| 28      | 2.47s        | 1.12567                |"
      ]
     },
     "metadata": {},
     "output_type": "display_data"
    },
    {
     "data": {
      "text/html": [
       "<pre>| 29      | 2.54s        | 1.12567                |</pre>"
      ],
      "text/plain": [
       "| 29      | 2.54s        | 1.12567                |"
      ]
     },
     "metadata": {},
     "output_type": "display_data"
    },
    {
     "data": {
      "text/html": [
       "<pre>| 30      | 2.62s        | 1.12567                |</pre>"
      ],
      "text/plain": [
       "| 30      | 2.62s        | 1.12567                |"
      ]
     },
     "metadata": {},
     "output_type": "display_data"
    },
    {
     "data": {
      "text/html": [
       "<pre>| 31      | 2.70s        | 1.12567                |</pre>"
      ],
      "text/plain": [
       "| 31      | 2.70s        | 1.12567                |"
      ]
     },
     "metadata": {},
     "output_type": "display_data"
    },
    {
     "data": {
      "text/html": [
       "<pre>| 32      | 2.78s        | 1.12567                |</pre>"
      ],
      "text/plain": [
       "| 32      | 2.78s        | 1.12567                |"
      ]
     },
     "metadata": {},
     "output_type": "display_data"
    },
    {
     "data": {
      "text/html": [
       "<pre>| 33      | 2.86s        | 1.12567                |</pre>"
      ],
      "text/plain": [
       "| 33      | 2.86s        | 1.12567                |"
      ]
     },
     "metadata": {},
     "output_type": "display_data"
    },
    {
     "data": {
      "text/html": [
       "<pre>| 34      | 2.93s        | 1.12567                |</pre>"
      ],
      "text/plain": [
       "| 34      | 2.93s        | 1.12567                |"
      ]
     },
     "metadata": {},
     "output_type": "display_data"
    },
    {
     "data": {
      "text/html": [
       "<pre>| 35      | 3.01s        | 1.12567                |</pre>"
      ],
      "text/plain": [
       "| 35      | 3.01s        | 1.12567                |"
      ]
     },
     "metadata": {},
     "output_type": "display_data"
    },
    {
     "data": {
      "text/html": [
       "<pre>| 36      | 3.08s        | 1.12567                |</pre>"
      ],
      "text/plain": [
       "| 36      | 3.08s        | 1.12567                |"
      ]
     },
     "metadata": {},
     "output_type": "display_data"
    },
    {
     "data": {
      "text/html": [
       "<pre>| 37      | 3.19s        | 1.12567                |</pre>"
      ],
      "text/plain": [
       "| 37      | 3.19s        | 1.12567                |"
      ]
     },
     "metadata": {},
     "output_type": "display_data"
    },
    {
     "data": {
      "text/html": [
       "<pre>| 38      | 3.26s        | 1.12567                |</pre>"
      ],
      "text/plain": [
       "| 38      | 3.26s        | 1.12567                |"
      ]
     },
     "metadata": {},
     "output_type": "display_data"
    },
    {
     "data": {
      "text/html": [
       "<pre>| 39      | 3.33s        | 1.12567                |</pre>"
      ],
      "text/plain": [
       "| 39      | 3.33s        | 1.12567                |"
      ]
     },
     "metadata": {},
     "output_type": "display_data"
    },
    {
     "data": {
      "text/html": [
       "<pre>| 40      | 3.40s        | 1.12567                |</pre>"
      ],
      "text/plain": [
       "| 40      | 3.40s        | 1.12567                |"
      ]
     },
     "metadata": {},
     "output_type": "display_data"
    },
    {
     "data": {
      "text/html": [
       "<pre>| 41      | 3.48s        | 1.12567                |</pre>"
      ],
      "text/plain": [
       "| 41      | 3.48s        | 1.12567                |"
      ]
     },
     "metadata": {},
     "output_type": "display_data"
    },
    {
     "data": {
      "text/html": [
       "<pre>| 42      | 3.57s        | 1.12567                |</pre>"
      ],
      "text/plain": [
       "| 42      | 3.57s        | 1.12567                |"
      ]
     },
     "metadata": {},
     "output_type": "display_data"
    },
    {
     "data": {
      "text/html": [
       "<pre>| 43      | 3.64s        | 1.12567                |</pre>"
      ],
      "text/plain": [
       "| 43      | 3.64s        | 1.12567                |"
      ]
     },
     "metadata": {},
     "output_type": "display_data"
    },
    {
     "data": {
      "text/html": [
       "<pre>| 44      | 3.72s        | 1.12567                |</pre>"
      ],
      "text/plain": [
       "| 44      | 3.72s        | 1.12567                |"
      ]
     },
     "metadata": {},
     "output_type": "display_data"
    },
    {
     "data": {
      "text/html": [
       "<pre>| 45      | 3.79s        | 1.12567                |</pre>"
      ],
      "text/plain": [
       "| 45      | 3.79s        | 1.12567                |"
      ]
     },
     "metadata": {},
     "output_type": "display_data"
    },
    {
     "data": {
      "text/html": [
       "<pre>| 46      | 3.87s        | 1.12567                |</pre>"
      ],
      "text/plain": [
       "| 46      | 3.87s        | 1.12567                |"
      ]
     },
     "metadata": {},
     "output_type": "display_data"
    },
    {
     "data": {
      "text/html": [
       "<pre>| 47      | 3.95s        | 1.12567                |</pre>"
      ],
      "text/plain": [
       "| 47      | 3.95s        | 1.12567                |"
      ]
     },
     "metadata": {},
     "output_type": "display_data"
    },
    {
     "data": {
      "text/html": [
       "<pre>| 48      | 4.02s        | 1.12567                |</pre>"
      ],
      "text/plain": [
       "| 48      | 4.02s        | 1.12567                |"
      ]
     },
     "metadata": {},
     "output_type": "display_data"
    },
    {
     "data": {
      "text/html": [
       "<pre>| 49      | 4.10s        | 1.12567                |</pre>"
      ],
      "text/plain": [
       "| 49      | 4.10s        | 1.12567                |"
      ]
     },
     "metadata": {},
     "output_type": "display_data"
    },
    {
     "data": {
      "text/html": [
       "<pre>| FINAL   | 4.10s        | 1.12567                |</pre>"
      ],
      "text/plain": [
       "| FINAL   | 4.10s        | 1.12567                |"
      ]
     },
     "metadata": {},
     "output_type": "display_data"
    },
    {
     "data": {
      "text/html": [
       "<pre>+---------+--------------+------------------------+</pre>"
      ],
      "text/plain": [
       "+---------+--------------+------------------------+"
      ]
     },
     "metadata": {},
     "output_type": "display_data"
    },
    {
     "data": {
      "text/html": [
       "<pre>Optimization Complete: Iteration limit reached.</pre>"
      ],
      "text/plain": [
       "Optimization Complete: Iteration limit reached."
      ]
     },
     "metadata": {},
     "output_type": "display_data"
    }
   ],
   "source": [
    "m_near0= graphlab.recommender.factorization_recommender.create(data, user_id='user', item_id='movie', target='rating', solver='als', regularization=np.exp(-4))\n",
    "\n",
    "recs_near0 = m_near0.recommend()   "
   ]
  },
  {
   "cell_type": "code",
   "execution_count": 30,
   "metadata": {
    "collapsed": false
   },
   "outputs": [
    {
     "data": {
      "text/html": [
       "<pre>Recsys training: model = factorization_recommender</pre>"
      ],
      "text/plain": [
       "Recsys training: model = factorization_recommender"
      ]
     },
     "metadata": {},
     "output_type": "display_data"
    },
    {
     "data": {
      "text/html": [
       "<pre>Preparing data set.</pre>"
      ],
      "text/plain": [
       "Preparing data set."
      ]
     },
     "metadata": {},
     "output_type": "display_data"
    },
    {
     "data": {
      "text/html": [
       "<pre>    Data has 100000 observations with 943 users and 1682 items.</pre>"
      ],
      "text/plain": [
       "    Data has 100000 observations with 943 users and 1682 items."
      ]
     },
     "metadata": {},
     "output_type": "display_data"
    },
    {
     "data": {
      "text/html": [
       "<pre>    Data prepared in: 0.13693s</pre>"
      ],
      "text/plain": [
       "    Data prepared in: 0.13693s"
      ]
     },
     "metadata": {},
     "output_type": "display_data"
    },
    {
     "data": {
      "text/html": [
       "<pre>Training factorization_recommender for recommendations.</pre>"
      ],
      "text/plain": [
       "Training factorization_recommender for recommendations."
      ]
     },
     "metadata": {},
     "output_type": "display_data"
    },
    {
     "data": {
      "text/html": [
       "<pre>+------------------------------+--------------------------------------------------+----------+</pre>"
      ],
      "text/plain": [
       "+------------------------------+--------------------------------------------------+----------+"
      ]
     },
     "metadata": {},
     "output_type": "display_data"
    },
    {
     "data": {
      "text/html": [
       "<pre>| Parameter                    | Description                                      | Value    |</pre>"
      ],
      "text/plain": [
       "| Parameter                    | Description                                      | Value    |"
      ]
     },
     "metadata": {},
     "output_type": "display_data"
    },
    {
     "data": {
      "text/html": [
       "<pre>+------------------------------+--------------------------------------------------+----------+</pre>"
      ],
      "text/plain": [
       "+------------------------------+--------------------------------------------------+----------+"
      ]
     },
     "metadata": {},
     "output_type": "display_data"
    },
    {
     "data": {
      "text/html": [
       "<pre>| num_factors                  | Factor Dimension                                 | 8        |</pre>"
      ],
      "text/plain": [
       "| num_factors                  | Factor Dimension                                 | 8        |"
      ]
     },
     "metadata": {},
     "output_type": "display_data"
    },
    {
     "data": {
      "text/html": [
       "<pre>| regularization               | L2 Regularization on Factors                     | 0        |</pre>"
      ],
      "text/plain": [
       "| regularization               | L2 Regularization on Factors                     | 0        |"
      ]
     },
     "metadata": {},
     "output_type": "display_data"
    },
    {
     "data": {
      "text/html": [
       "<pre>| max_iterations               | Maximum Number of Iterations                     | 50       |</pre>"
      ],
      "text/plain": [
       "| max_iterations               | Maximum Number of Iterations                     | 50       |"
      ]
     },
     "metadata": {},
     "output_type": "display_data"
    },
    {
     "data": {
      "text/html": [
       "<pre>| solver                       | Solver used for training                         | als      |</pre>"
      ],
      "text/plain": [
       "| solver                       | Solver used for training                         | als      |"
      ]
     },
     "metadata": {},
     "output_type": "display_data"
    },
    {
     "data": {
      "text/html": [
       "<pre>+------------------------------+--------------------------------------------------+----------+</pre>"
      ],
      "text/plain": [
       "+------------------------------+--------------------------------------------------+----------+"
      ]
     },
     "metadata": {},
     "output_type": "display_data"
    },
    {
     "data": {
      "text/html": [
       "<pre>+---------+--------------+------------------------+</pre>"
      ],
      "text/plain": [
       "+---------+--------------+------------------------+"
      ]
     },
     "metadata": {},
     "output_type": "display_data"
    },
    {
     "data": {
      "text/html": [
       "<pre>| Iter.   | Elapsed time | RMSE                   |</pre>"
      ],
      "text/plain": [
       "| Iter.   | Elapsed time | RMSE                   |"
      ]
     },
     "metadata": {},
     "output_type": "display_data"
    },
    {
     "data": {
      "text/html": [
       "<pre>+---------+--------------+------------------------+</pre>"
      ],
      "text/plain": [
       "+---------+--------------+------------------------+"
      ]
     },
     "metadata": {},
     "output_type": "display_data"
    },
    {
     "data": {
      "text/html": [
       "<pre>| Initial | 76us         | NA                     |</pre>"
      ],
      "text/plain": [
       "| Initial | 76us         | NA                     |"
      ]
     },
     "metadata": {},
     "output_type": "display_data"
    },
    {
     "data": {
      "text/html": [
       "<pre>+---------+--------------+------------------------+</pre>"
      ],
      "text/plain": [
       "+---------+--------------+------------------------+"
      ]
     },
     "metadata": {},
     "output_type": "display_data"
    },
    {
     "data": {
      "text/html": [
       "<pre>| 0       | 78.816ms     | 0.969691               |</pre>"
      ],
      "text/plain": [
       "| 0       | 78.816ms     | 0.969691               |"
      ]
     },
     "metadata": {},
     "output_type": "display_data"
    },
    {
     "data": {
      "text/html": [
       "<pre>| 1       | 151.914ms    | 0.847351               |</pre>"
      ],
      "text/plain": [
       "| 1       | 151.914ms    | 0.847351               |"
      ]
     },
     "metadata": {},
     "output_type": "display_data"
    },
    {
     "data": {
      "text/html": [
       "<pre>| 2       | 226.983ms    | 0.79769                |</pre>"
      ],
      "text/plain": [
       "| 2       | 226.983ms    | 0.79769                |"
      ]
     },
     "metadata": {},
     "output_type": "display_data"
    },
    {
     "data": {
      "text/html": [
       "<pre>| 3       | 306.623ms    | 0.775695               |</pre>"
      ],
      "text/plain": [
       "| 3       | 306.623ms    | 0.775695               |"
      ]
     },
     "metadata": {},
     "output_type": "display_data"
    },
    {
     "data": {
      "text/html": [
       "<pre>| 4       | 381.452ms    | 0.763911               |</pre>"
      ],
      "text/plain": [
       "| 4       | 381.452ms    | 0.763911               |"
      ]
     },
     "metadata": {},
     "output_type": "display_data"
    },
    {
     "data": {
      "text/html": [
       "<pre>| 5       | 456.025ms    | 0.756937               |</pre>"
      ],
      "text/plain": [
       "| 5       | 456.025ms    | 0.756937               |"
      ]
     },
     "metadata": {},
     "output_type": "display_data"
    },
    {
     "data": {
      "text/html": [
       "<pre>| 6       | 538.056ms    | 0.752242               |</pre>"
      ],
      "text/plain": [
       "| 6       | 538.056ms    | 0.752242               |"
      ]
     },
     "metadata": {},
     "output_type": "display_data"
    },
    {
     "data": {
      "text/html": [
       "<pre>| 7       | 612.994ms    | 0.748751               |</pre>"
      ],
      "text/plain": [
       "| 7       | 612.994ms    | 0.748751               |"
      ]
     },
     "metadata": {},
     "output_type": "display_data"
    },
    {
     "data": {
      "text/html": [
       "<pre>| 8       | 687.292ms    | 0.746183               |</pre>"
      ],
      "text/plain": [
       "| 8       | 687.292ms    | 0.746183               |"
      ]
     },
     "metadata": {},
     "output_type": "display_data"
    },
    {
     "data": {
      "text/html": [
       "<pre>| 9       | 762.509ms    | 0.744104               |</pre>"
      ],
      "text/plain": [
       "| 9       | 762.509ms    | 0.744104               |"
      ]
     },
     "metadata": {},
     "output_type": "display_data"
    },
    {
     "data": {
      "text/html": [
       "<pre>| 10      | 837.907ms    | 0.742365               |</pre>"
      ],
      "text/plain": [
       "| 10      | 837.907ms    | 0.742365               |"
      ]
     },
     "metadata": {},
     "output_type": "display_data"
    },
    {
     "data": {
      "text/html": [
       "<pre>| 11      | 917.634ms    | 0.740906               |</pre>"
      ],
      "text/plain": [
       "| 11      | 917.634ms    | 0.740906               |"
      ]
     },
     "metadata": {},
     "output_type": "display_data"
    },
    {
     "data": {
      "text/html": [
       "<pre>| 12      | 999.361ms    | 0.739365               |</pre>"
      ],
      "text/plain": [
       "| 12      | 999.361ms    | 0.739365               |"
      ]
     },
     "metadata": {},
     "output_type": "display_data"
    },
    {
     "data": {
      "text/html": [
       "<pre>| 13      | 1.07s        | 0.738075               |</pre>"
      ],
      "text/plain": [
       "| 13      | 1.07s        | 0.738075               |"
      ]
     },
     "metadata": {},
     "output_type": "display_data"
    },
    {
     "data": {
      "text/html": [
       "<pre>| 14      | 1.15s        | 0.737106               |</pre>"
      ],
      "text/plain": [
       "| 14      | 1.15s        | 0.737106               |"
      ]
     },
     "metadata": {},
     "output_type": "display_data"
    },
    {
     "data": {
      "text/html": [
       "<pre>| 15      | 1.22s        | 0.736362               |</pre>"
      ],
      "text/plain": [
       "| 15      | 1.22s        | 0.736362               |"
      ]
     },
     "metadata": {},
     "output_type": "display_data"
    },
    {
     "data": {
      "text/html": [
       "<pre>| 16      | 1.30s        | 0.735489               |</pre>"
      ],
      "text/plain": [
       "| 16      | 1.30s        | 0.735489               |"
      ]
     },
     "metadata": {},
     "output_type": "display_data"
    },
    {
     "data": {
      "text/html": [
       "<pre>| 17      | 1.38s        | 0.734812               |</pre>"
      ],
      "text/plain": [
       "| 17      | 1.38s        | 0.734812               |"
      ]
     },
     "metadata": {},
     "output_type": "display_data"
    },
    {
     "data": {
      "text/html": [
       "<pre>| 18      | 1.45s        | 0.734217               |</pre>"
      ],
      "text/plain": [
       "| 18      | 1.45s        | 0.734217               |"
      ]
     },
     "metadata": {},
     "output_type": "display_data"
    },
    {
     "data": {
      "text/html": [
       "<pre>| 19      | 1.54s        | 0.733562               |</pre>"
      ],
      "text/plain": [
       "| 19      | 1.54s        | 0.733562               |"
      ]
     },
     "metadata": {},
     "output_type": "display_data"
    },
    {
     "data": {
      "text/html": [
       "<pre>| 20      | 1.61s        | 0.733015               |</pre>"
      ],
      "text/plain": [
       "| 20      | 1.61s        | 0.733015               |"
      ]
     },
     "metadata": {},
     "output_type": "display_data"
    },
    {
     "data": {
      "text/html": [
       "<pre>| 21      | 1.68s        | 0.732507               |</pre>"
      ],
      "text/plain": [
       "| 21      | 1.68s        | 0.732507               |"
      ]
     },
     "metadata": {},
     "output_type": "display_data"
    },
    {
     "data": {
      "text/html": [
       "<pre>| 22      | 1.76s        | 0.732014               |</pre>"
      ],
      "text/plain": [
       "| 22      | 1.76s        | 0.732014               |"
      ]
     },
     "metadata": {},
     "output_type": "display_data"
    },
    {
     "data": {
      "text/html": [
       "<pre>| 23      | 1.86s        | 0.731555               |</pre>"
      ],
      "text/plain": [
       "| 23      | 1.86s        | 0.731555               |"
      ]
     },
     "metadata": {},
     "output_type": "display_data"
    },
    {
     "data": {
      "text/html": [
       "<pre>| 24      | 1.94s        | 0.731152               |</pre>"
      ],
      "text/plain": [
       "| 24      | 1.94s        | 0.731152               |"
      ]
     },
     "metadata": {},
     "output_type": "display_data"
    },
    {
     "data": {
      "text/html": [
       "<pre>| 25      | 2.01s        | 0.730799               |</pre>"
      ],
      "text/plain": [
       "| 25      | 2.01s        | 0.730799               |"
      ]
     },
     "metadata": {},
     "output_type": "display_data"
    },
    {
     "data": {
      "text/html": [
       "<pre>| 26      | 2.09s        | 0.730485               |</pre>"
      ],
      "text/plain": [
       "| 26      | 2.09s        | 0.730485               |"
      ]
     },
     "metadata": {},
     "output_type": "display_data"
    },
    {
     "data": {
      "text/html": [
       "<pre>| 27      | 2.17s        | 0.730195               |</pre>"
      ],
      "text/plain": [
       "| 27      | 2.17s        | 0.730195               |"
      ]
     },
     "metadata": {},
     "output_type": "display_data"
    },
    {
     "data": {
      "text/html": [
       "<pre>| 28      | 2.24s        | 0.729921               |</pre>"
      ],
      "text/plain": [
       "| 28      | 2.24s        | 0.729921               |"
      ]
     },
     "metadata": {},
     "output_type": "display_data"
    },
    {
     "data": {
      "text/html": [
       "<pre>| 29      | 2.32s        | 0.729651               |</pre>"
      ],
      "text/plain": [
       "| 29      | 2.32s        | 0.729651               |"
      ]
     },
     "metadata": {},
     "output_type": "display_data"
    },
    {
     "data": {
      "text/html": [
       "<pre>| 30      | 2.40s        | 0.729371               |</pre>"
      ],
      "text/plain": [
       "| 30      | 2.40s        | 0.729371               |"
      ]
     },
     "metadata": {},
     "output_type": "display_data"
    },
    {
     "data": {
      "text/html": [
       "<pre>| 31      | 2.49s        | 0.729118               |</pre>"
      ],
      "text/plain": [
       "| 31      | 2.49s        | 0.729118               |"
      ]
     },
     "metadata": {},
     "output_type": "display_data"
    },
    {
     "data": {
      "text/html": [
       "<pre>| 32      | 2.56s        | 0.728866               |</pre>"
      ],
      "text/plain": [
       "| 32      | 2.56s        | 0.728866               |"
      ]
     },
     "metadata": {},
     "output_type": "display_data"
    },
    {
     "data": {
      "text/html": [
       "<pre>| 33      | 2.64s        | 0.728642               |</pre>"
      ],
      "text/plain": [
       "| 33      | 2.64s        | 0.728642               |"
      ]
     },
     "metadata": {},
     "output_type": "display_data"
    },
    {
     "data": {
      "text/html": [
       "<pre>| 34      | 2.71s        | 0.728433               |</pre>"
      ],
      "text/plain": [
       "| 34      | 2.71s        | 0.728433               |"
      ]
     },
     "metadata": {},
     "output_type": "display_data"
    },
    {
     "data": {
      "text/html": [
       "<pre>| 35      | 2.79s        | 0.728232               |</pre>"
      ],
      "text/plain": [
       "| 35      | 2.79s        | 0.728232               |"
      ]
     },
     "metadata": {},
     "output_type": "display_data"
    },
    {
     "data": {
      "text/html": [
       "<pre>| 36      | 2.86s        | 0.728038               |</pre>"
      ],
      "text/plain": [
       "| 36      | 2.86s        | 0.728038               |"
      ]
     },
     "metadata": {},
     "output_type": "display_data"
    },
    {
     "data": {
      "text/html": [
       "<pre>| 37      | 2.94s        | 0.727849               |</pre>"
      ],
      "text/plain": [
       "| 37      | 2.94s        | 0.727849               |"
      ]
     },
     "metadata": {},
     "output_type": "display_data"
    },
    {
     "data": {
      "text/html": [
       "<pre>| 38      | 3.01s        | 0.727669               |</pre>"
      ],
      "text/plain": [
       "| 38      | 3.01s        | 0.727669               |"
      ]
     },
     "metadata": {},
     "output_type": "display_data"
    },
    {
     "data": {
      "text/html": [
       "<pre>| 39      | 3.10s        | 0.727497               |</pre>"
      ],
      "text/plain": [
       "| 39      | 3.10s        | 0.727497               |"
      ]
     },
     "metadata": {},
     "output_type": "display_data"
    },
    {
     "data": {
      "text/html": [
       "<pre>| 40      | 3.18s        | 0.72732                |</pre>"
      ],
      "text/plain": [
       "| 40      | 3.18s        | 0.72732                |"
      ]
     },
     "metadata": {},
     "output_type": "display_data"
    },
    {
     "data": {
      "text/html": [
       "<pre>| 41      | 3.26s        | 0.727135               |</pre>"
      ],
      "text/plain": [
       "| 41      | 3.26s        | 0.727135               |"
      ]
     },
     "metadata": {},
     "output_type": "display_data"
    },
    {
     "data": {
      "text/html": [
       "<pre>| 42      | 3.34s        | 0.726955               |</pre>"
      ],
      "text/plain": [
       "| 42      | 3.34s        | 0.726955               |"
      ]
     },
     "metadata": {},
     "output_type": "display_data"
    },
    {
     "data": {
      "text/html": [
       "<pre>| 43      | 3.41s        | 0.72679                |</pre>"
      ],
      "text/plain": [
       "| 43      | 3.41s        | 0.72679                |"
      ]
     },
     "metadata": {},
     "output_type": "display_data"
    },
    {
     "data": {
      "text/html": [
       "<pre>| 44      | 3.49s        | 0.726578               |</pre>"
      ],
      "text/plain": [
       "| 44      | 3.49s        | 0.726578               |"
      ]
     },
     "metadata": {},
     "output_type": "display_data"
    },
    {
     "data": {
      "text/html": [
       "<pre>| 45      | 3.57s        | 0.726414               |</pre>"
      ],
      "text/plain": [
       "| 45      | 3.57s        | 0.726414               |"
      ]
     },
     "metadata": {},
     "output_type": "display_data"
    },
    {
     "data": {
      "text/html": [
       "<pre>| 46      | 3.65s        | 0.726267               |</pre>"
      ],
      "text/plain": [
       "| 46      | 3.65s        | 0.726267               |"
      ]
     },
     "metadata": {},
     "output_type": "display_data"
    },
    {
     "data": {
      "text/html": [
       "<pre>| 47      | 3.73s        | 0.726125               |</pre>"
      ],
      "text/plain": [
       "| 47      | 3.73s        | 0.726125               |"
      ]
     },
     "metadata": {},
     "output_type": "display_data"
    },
    {
     "data": {
      "text/html": [
       "<pre>| 48      | 3.83s        | 0.725985               |</pre>"
      ],
      "text/plain": [
       "| 48      | 3.83s        | 0.725985               |"
      ]
     },
     "metadata": {},
     "output_type": "display_data"
    },
    {
     "data": {
      "text/html": [
       "<pre>| 49      | 3.91s        | 0.725842               |</pre>"
      ],
      "text/plain": [
       "| 49      | 3.91s        | 0.725842               |"
      ]
     },
     "metadata": {},
     "output_type": "display_data"
    },
    {
     "data": {
      "text/html": [
       "<pre>| FINAL   | 3.91s        | 0.725842               |</pre>"
      ],
      "text/plain": [
       "| FINAL   | 3.91s        | 0.725842               |"
      ]
     },
     "metadata": {},
     "output_type": "display_data"
    },
    {
     "data": {
      "text/html": [
       "<pre>+---------+--------------+------------------------+</pre>"
      ],
      "text/plain": [
       "+---------+--------------+------------------------+"
      ]
     },
     "metadata": {},
     "output_type": "display_data"
    },
    {
     "data": {
      "text/html": [
       "<pre>Optimization Complete: Iteration limit reached.</pre>"
      ],
      "text/plain": [
       "Optimization Complete: Iteration limit reached."
      ]
     },
     "metadata": {},
     "output_type": "display_data"
    }
   ],
   "source": [
    "m_0= graphlab.recommender.factorization_recommender.create(data, user_id='user', item_id='movie', target='rating', solver='als', regularization=0)\n",
    "recs_0 = m_0.recommend() "
   ]
  },
  {
   "cell_type": "code",
   "execution_count": 32,
   "metadata": {
    "collapsed": false
   },
   "outputs": [
    {
     "data": {
      "text/html": [
       "<pre>Recsys training: model = factorization_recommender</pre>"
      ],
      "text/plain": [
       "Recsys training: model = factorization_recommender"
      ]
     },
     "metadata": {},
     "output_type": "display_data"
    },
    {
     "data": {
      "text/html": [
       "<pre>Preparing data set.</pre>"
      ],
      "text/plain": [
       "Preparing data set."
      ]
     },
     "metadata": {},
     "output_type": "display_data"
    },
    {
     "data": {
      "text/html": [
       "<pre>    Data has 100000 observations with 943 users and 1682 items.</pre>"
      ],
      "text/plain": [
       "    Data has 100000 observations with 943 users and 1682 items."
      ]
     },
     "metadata": {},
     "output_type": "display_data"
    },
    {
     "data": {
      "text/html": [
       "<pre>    Data prepared in: 0.143554s</pre>"
      ],
      "text/plain": [
       "    Data prepared in: 0.143554s"
      ]
     },
     "metadata": {},
     "output_type": "display_data"
    },
    {
     "data": {
      "text/html": [
       "<pre>Training factorization_recommender for recommendations.</pre>"
      ],
      "text/plain": [
       "Training factorization_recommender for recommendations."
      ]
     },
     "metadata": {},
     "output_type": "display_data"
    },
    {
     "data": {
      "text/html": [
       "<pre>+------------------------------+--------------------------------------------------+----------+</pre>"
      ],
      "text/plain": [
       "+------------------------------+--------------------------------------------------+----------+"
      ]
     },
     "metadata": {},
     "output_type": "display_data"
    },
    {
     "data": {
      "text/html": [
       "<pre>| Parameter                    | Description                                      | Value    |</pre>"
      ],
      "text/plain": [
       "| Parameter                    | Description                                      | Value    |"
      ]
     },
     "metadata": {},
     "output_type": "display_data"
    },
    {
     "data": {
      "text/html": [
       "<pre>+------------------------------+--------------------------------------------------+----------+</pre>"
      ],
      "text/plain": [
       "+------------------------------+--------------------------------------------------+----------+"
      ]
     },
     "metadata": {},
     "output_type": "display_data"
    },
    {
     "data": {
      "text/html": [
       "<pre>| num_factors                  | Factor Dimension                                 | 8        |</pre>"
      ],
      "text/plain": [
       "| num_factors                  | Factor Dimension                                 | 8        |"
      ]
     },
     "metadata": {},
     "output_type": "display_data"
    },
    {
     "data": {
      "text/html": [
       "<pre>| regularization               | L2 Regularization on Factors                     | 2        |</pre>"
      ],
      "text/plain": [
       "| regularization               | L2 Regularization on Factors                     | 2        |"
      ]
     },
     "metadata": {},
     "output_type": "display_data"
    },
    {
     "data": {
      "text/html": [
       "<pre>| max_iterations               | Maximum Number of Iterations                     | 50       |</pre>"
      ],
      "text/plain": [
       "| max_iterations               | Maximum Number of Iterations                     | 50       |"
      ]
     },
     "metadata": {},
     "output_type": "display_data"
    },
    {
     "data": {
      "text/html": [
       "<pre>| solver                       | Solver used for training                         | als      |</pre>"
      ],
      "text/plain": [
       "| solver                       | Solver used for training                         | als      |"
      ]
     },
     "metadata": {},
     "output_type": "display_data"
    },
    {
     "data": {
      "text/html": [
       "<pre>+------------------------------+--------------------------------------------------+----------+</pre>"
      ],
      "text/plain": [
       "+------------------------------+--------------------------------------------------+----------+"
      ]
     },
     "metadata": {},
     "output_type": "display_data"
    },
    {
     "data": {
      "text/html": [
       "<pre>+---------+--------------+------------------------+</pre>"
      ],
      "text/plain": [
       "+---------+--------------+------------------------+"
      ]
     },
     "metadata": {},
     "output_type": "display_data"
    },
    {
     "data": {
      "text/html": [
       "<pre>| Iter.   | Elapsed time | RMSE                   |</pre>"
      ],
      "text/plain": [
       "| Iter.   | Elapsed time | RMSE                   |"
      ]
     },
     "metadata": {},
     "output_type": "display_data"
    },
    {
     "data": {
      "text/html": [
       "<pre>+---------+--------------+------------------------+</pre>"
      ],
      "text/plain": [
       "+---------+--------------+------------------------+"
      ]
     },
     "metadata": {},
     "output_type": "display_data"
    },
    {
     "data": {
      "text/html": [
       "<pre>| Initial | 92us         | NA                     |</pre>"
      ],
      "text/plain": [
       "| Initial | 92us         | NA                     |"
      ]
     },
     "metadata": {},
     "output_type": "display_data"
    },
    {
     "data": {
      "text/html": [
       "<pre>+---------+--------------+------------------------+</pre>"
      ],
      "text/plain": [
       "+---------+--------------+------------------------+"
      ]
     },
     "metadata": {},
     "output_type": "display_data"
    },
    {
     "data": {
      "text/html": [
       "<pre>| 0       | 80.009ms     | 1.12567                |</pre>"
      ],
      "text/plain": [
       "| 0       | 80.009ms     | 1.12567                |"
      ]
     },
     "metadata": {},
     "output_type": "display_data"
    },
    {
     "data": {
      "text/html": [
       "<pre>| 1       | 153.401ms    | 1.12567                |</pre>"
      ],
      "text/plain": [
       "| 1       | 153.401ms    | 1.12567                |"
      ]
     },
     "metadata": {},
     "output_type": "display_data"
    },
    {
     "data": {
      "text/html": [
       "<pre>| 2       | 271.59ms     | 1.12567                |</pre>"
      ],
      "text/plain": [
       "| 2       | 271.59ms     | 1.12567                |"
      ]
     },
     "metadata": {},
     "output_type": "display_data"
    },
    {
     "data": {
      "text/html": [
       "<pre>| 3       | 351.144ms    | 1.12567                |</pre>"
      ],
      "text/plain": [
       "| 3       | 351.144ms    | 1.12567                |"
      ]
     },
     "metadata": {},
     "output_type": "display_data"
    },
    {
     "data": {
      "text/html": [
       "<pre>| 4       | 424.152ms    | 1.12567                |</pre>"
      ],
      "text/plain": [
       "| 4       | 424.152ms    | 1.12567                |"
      ]
     },
     "metadata": {},
     "output_type": "display_data"
    },
    {
     "data": {
      "text/html": [
       "<pre>| 5       | 543.421ms    | 1.12567                |</pre>"
      ],
      "text/plain": [
       "| 5       | 543.421ms    | 1.12567                |"
      ]
     },
     "metadata": {},
     "output_type": "display_data"
    },
    {
     "data": {
      "text/html": [
       "<pre>| 6       | 626.573ms    | 1.12567                |</pre>"
      ],
      "text/plain": [
       "| 6       | 626.573ms    | 1.12567                |"
      ]
     },
     "metadata": {},
     "output_type": "display_data"
    },
    {
     "data": {
      "text/html": [
       "<pre>| 7       | 698.653ms    | 1.12567                |</pre>"
      ],
      "text/plain": [
       "| 7       | 698.653ms    | 1.12567                |"
      ]
     },
     "metadata": {},
     "output_type": "display_data"
    },
    {
     "data": {
      "text/html": [
       "<pre>| 8       | 772.066ms    | 1.12567                |</pre>"
      ],
      "text/plain": [
       "| 8       | 772.066ms    | 1.12567                |"
      ]
     },
     "metadata": {},
     "output_type": "display_data"
    },
    {
     "data": {
      "text/html": [
       "<pre>| 9       | 845.456ms    | 1.12567                |</pre>"
      ],
      "text/plain": [
       "| 9       | 845.456ms    | 1.12567                |"
      ]
     },
     "metadata": {},
     "output_type": "display_data"
    },
    {
     "data": {
      "text/html": [
       "<pre>| 10      | 922.207ms    | 1.12567                |</pre>"
      ],
      "text/plain": [
       "| 10      | 922.207ms    | 1.12567                |"
      ]
     },
     "metadata": {},
     "output_type": "display_data"
    },
    {
     "data": {
      "text/html": [
       "<pre>| 11      | 999.824ms    | 1.12567                |</pre>"
      ],
      "text/plain": [
       "| 11      | 999.824ms    | 1.12567                |"
      ]
     },
     "metadata": {},
     "output_type": "display_data"
    },
    {
     "data": {
      "text/html": [
       "<pre>| 12      | 1.07s        | 1.12567                |</pre>"
      ],
      "text/plain": [
       "| 12      | 1.07s        | 1.12567                |"
      ]
     },
     "metadata": {},
     "output_type": "display_data"
    },
    {
     "data": {
      "text/html": [
       "<pre>| 13      | 1.15s        | 1.12567                |</pre>"
      ],
      "text/plain": [
       "| 13      | 1.15s        | 1.12567                |"
      ]
     },
     "metadata": {},
     "output_type": "display_data"
    },
    {
     "data": {
      "text/html": [
       "<pre>| 14      | 1.23s        | 1.12567                |</pre>"
      ],
      "text/plain": [
       "| 14      | 1.23s        | 1.12567                |"
      ]
     },
     "metadata": {},
     "output_type": "display_data"
    },
    {
     "data": {
      "text/html": [
       "<pre>| 15      | 1.32s        | 1.12567                |</pre>"
      ],
      "text/plain": [
       "| 15      | 1.32s        | 1.12567                |"
      ]
     },
     "metadata": {},
     "output_type": "display_data"
    },
    {
     "data": {
      "text/html": [
       "<pre>| 16      | 1.41s        | 1.12567                |</pre>"
      ],
      "text/plain": [
       "| 16      | 1.41s        | 1.12567                |"
      ]
     },
     "metadata": {},
     "output_type": "display_data"
    },
    {
     "data": {
      "text/html": [
       "<pre>| 17      | 1.48s        | 1.12567                |</pre>"
      ],
      "text/plain": [
       "| 17      | 1.48s        | 1.12567                |"
      ]
     },
     "metadata": {},
     "output_type": "display_data"
    },
    {
     "data": {
      "text/html": [
       "<pre>| 18      | 1.55s        | 1.12567                |</pre>"
      ],
      "text/plain": [
       "| 18      | 1.55s        | 1.12567                |"
      ]
     },
     "metadata": {},
     "output_type": "display_data"
    },
    {
     "data": {
      "text/html": [
       "<pre>| 19      | 1.64s        | 1.12567                |</pre>"
      ],
      "text/plain": [
       "| 19      | 1.64s        | 1.12567                |"
      ]
     },
     "metadata": {},
     "output_type": "display_data"
    },
    {
     "data": {
      "text/html": [
       "<pre>| 20      | 1.72s        | 1.12567                |</pre>"
      ],
      "text/plain": [
       "| 20      | 1.72s        | 1.12567                |"
      ]
     },
     "metadata": {},
     "output_type": "display_data"
    },
    {
     "data": {
      "text/html": [
       "<pre>| 21      | 1.79s        | 1.12567                |</pre>"
      ],
      "text/plain": [
       "| 21      | 1.79s        | 1.12567                |"
      ]
     },
     "metadata": {},
     "output_type": "display_data"
    },
    {
     "data": {
      "text/html": [
       "<pre>| 22      | 1.86s        | 1.12567                |</pre>"
      ],
      "text/plain": [
       "| 22      | 1.86s        | 1.12567                |"
      ]
     },
     "metadata": {},
     "output_type": "display_data"
    },
    {
     "data": {
      "text/html": [
       "<pre>| 23      | 1.96s        | 1.12567                |</pre>"
      ],
      "text/plain": [
       "| 23      | 1.96s        | 1.12567                |"
      ]
     },
     "metadata": {},
     "output_type": "display_data"
    },
    {
     "data": {
      "text/html": [
       "<pre>| 24      | 2.03s        | 1.12567                |</pre>"
      ],
      "text/plain": [
       "| 24      | 2.03s        | 1.12567                |"
      ]
     },
     "metadata": {},
     "output_type": "display_data"
    },
    {
     "data": {
      "text/html": [
       "<pre>| 25      | 2.10s        | 1.12567                |</pre>"
      ],
      "text/plain": [
       "| 25      | 2.10s        | 1.12567                |"
      ]
     },
     "metadata": {},
     "output_type": "display_data"
    },
    {
     "data": {
      "text/html": [
       "<pre>| 26      | 2.18s        | 1.12567                |</pre>"
      ],
      "text/plain": [
       "| 26      | 2.18s        | 1.12567                |"
      ]
     },
     "metadata": {},
     "output_type": "display_data"
    },
    {
     "data": {
      "text/html": [
       "<pre>| 27      | 2.27s        | 1.12567                |</pre>"
      ],
      "text/plain": [
       "| 27      | 2.27s        | 1.12567                |"
      ]
     },
     "metadata": {},
     "output_type": "display_data"
    },
    {
     "data": {
      "text/html": [
       "<pre>| 28      | 2.34s        | 1.12567                |</pre>"
      ],
      "text/plain": [
       "| 28      | 2.34s        | 1.12567                |"
      ]
     },
     "metadata": {},
     "output_type": "display_data"
    },
    {
     "data": {
      "text/html": [
       "<pre>| 29      | 2.42s        | 1.12567                |</pre>"
      ],
      "text/plain": [
       "| 29      | 2.42s        | 1.12567                |"
      ]
     },
     "metadata": {},
     "output_type": "display_data"
    },
    {
     "data": {
      "text/html": [
       "<pre>| 30      | 2.49s        | 1.12567                |</pre>"
      ],
      "text/plain": [
       "| 30      | 2.49s        | 1.12567                |"
      ]
     },
     "metadata": {},
     "output_type": "display_data"
    },
    {
     "data": {
      "text/html": [
       "<pre>| 31      | 2.56s        | 1.12567                |</pre>"
      ],
      "text/plain": [
       "| 31      | 2.56s        | 1.12567                |"
      ]
     },
     "metadata": {},
     "output_type": "display_data"
    },
    {
     "data": {
      "text/html": [
       "<pre>| 32      | 2.64s        | 1.12567                |</pre>"
      ],
      "text/plain": [
       "| 32      | 2.64s        | 1.12567                |"
      ]
     },
     "metadata": {},
     "output_type": "display_data"
    },
    {
     "data": {
      "text/html": [
       "<pre>| 33      | 2.72s        | 1.12567                |</pre>"
      ],
      "text/plain": [
       "| 33      | 2.72s        | 1.12567                |"
      ]
     },
     "metadata": {},
     "output_type": "display_data"
    },
    {
     "data": {
      "text/html": [
       "<pre>| 34      | 2.79s        | 1.12567                |</pre>"
      ],
      "text/plain": [
       "| 34      | 2.79s        | 1.12567                |"
      ]
     },
     "metadata": {},
     "output_type": "display_data"
    },
    {
     "data": {
      "text/html": [
       "<pre>| 35      | 2.88s        | 1.12567                |</pre>"
      ],
      "text/plain": [
       "| 35      | 2.88s        | 1.12567                |"
      ]
     },
     "metadata": {},
     "output_type": "display_data"
    },
    {
     "data": {
      "text/html": [
       "<pre>| 36      | 2.95s        | 1.12567                |</pre>"
      ],
      "text/plain": [
       "| 36      | 2.95s        | 1.12567                |"
      ]
     },
     "metadata": {},
     "output_type": "display_data"
    },
    {
     "data": {
      "text/html": [
       "<pre>| 37      | 3.02s        | 1.12567                |</pre>"
      ],
      "text/plain": [
       "| 37      | 3.02s        | 1.12567                |"
      ]
     },
     "metadata": {},
     "output_type": "display_data"
    },
    {
     "data": {
      "text/html": [
       "<pre>| 38      | 3.09s        | 1.12567                |</pre>"
      ],
      "text/plain": [
       "| 38      | 3.09s        | 1.12567                |"
      ]
     },
     "metadata": {},
     "output_type": "display_data"
    },
    {
     "data": {
      "text/html": [
       "<pre>| 39      | 3.17s        | 1.12567                |</pre>"
      ],
      "text/plain": [
       "| 39      | 3.17s        | 1.12567                |"
      ]
     },
     "metadata": {},
     "output_type": "display_data"
    },
    {
     "data": {
      "text/html": [
       "<pre>| 40      | 3.24s        | 1.12567                |</pre>"
      ],
      "text/plain": [
       "| 40      | 3.24s        | 1.12567                |"
      ]
     },
     "metadata": {},
     "output_type": "display_data"
    },
    {
     "data": {
      "text/html": [
       "<pre>| 41      | 3.32s        | 1.12567                |</pre>"
      ],
      "text/plain": [
       "| 41      | 3.32s        | 1.12567                |"
      ]
     },
     "metadata": {},
     "output_type": "display_data"
    },
    {
     "data": {
      "text/html": [
       "<pre>| 42      | 3.39s        | 1.12567                |</pre>"
      ],
      "text/plain": [
       "| 42      | 3.39s        | 1.12567                |"
      ]
     },
     "metadata": {},
     "output_type": "display_data"
    },
    {
     "data": {
      "text/html": [
       "<pre>| 43      | 3.47s        | 1.12567                |</pre>"
      ],
      "text/plain": [
       "| 43      | 3.47s        | 1.12567                |"
      ]
     },
     "metadata": {},
     "output_type": "display_data"
    },
    {
     "data": {
      "text/html": [
       "<pre>| 44      | 3.54s        | 1.12567                |</pre>"
      ],
      "text/plain": [
       "| 44      | 3.54s        | 1.12567                |"
      ]
     },
     "metadata": {},
     "output_type": "display_data"
    },
    {
     "data": {
      "text/html": [
       "<pre>| 45      | 3.61s        | 1.12567                |</pre>"
      ],
      "text/plain": [
       "| 45      | 3.61s        | 1.12567                |"
      ]
     },
     "metadata": {},
     "output_type": "display_data"
    },
    {
     "data": {
      "text/html": [
       "<pre>| 46      | 3.68s        | 1.12567                |</pre>"
      ],
      "text/plain": [
       "| 46      | 3.68s        | 1.12567                |"
      ]
     },
     "metadata": {},
     "output_type": "display_data"
    },
    {
     "data": {
      "text/html": [
       "<pre>| 47      | 3.76s        | 1.12567                |</pre>"
      ],
      "text/plain": [
       "| 47      | 3.76s        | 1.12567                |"
      ]
     },
     "metadata": {},
     "output_type": "display_data"
    },
    {
     "data": {
      "text/html": [
       "<pre>| 48      | 3.84s        | 1.12567                |</pre>"
      ],
      "text/plain": [
       "| 48      | 3.84s        | 1.12567                |"
      ]
     },
     "metadata": {},
     "output_type": "display_data"
    },
    {
     "data": {
      "text/html": [
       "<pre>| 49      | 3.91s        | 1.12567                |</pre>"
      ],
      "text/plain": [
       "| 49      | 3.91s        | 1.12567                |"
      ]
     },
     "metadata": {},
     "output_type": "display_data"
    },
    {
     "data": {
      "text/html": [
       "<pre>| FINAL   | 3.91s        | 1.12567                |</pre>"
      ],
      "text/plain": [
       "| FINAL   | 3.91s        | 1.12567                |"
      ]
     },
     "metadata": {},
     "output_type": "display_data"
    },
    {
     "data": {
      "text/html": [
       "<pre>+---------+--------------+------------------------+</pre>"
      ],
      "text/plain": [
       "+---------+--------------+------------------------+"
      ]
     },
     "metadata": {},
     "output_type": "display_data"
    },
    {
     "data": {
      "text/html": [
       "<pre>Optimization Complete: Iteration limit reached.</pre>"
      ],
      "text/plain": [
       "Optimization Complete: Iteration limit reached."
      ]
     },
     "metadata": {},
     "output_type": "display_data"
    }
   ],
   "source": [
    "m_2 = graphlab.recommender.factorization_recommender.create(data, user_id='user', item_id='movie', target='rating', solver='als', regularization=2)\n",
    "recs_2 = m_2.recommend() "
   ]
  },
  {
   "cell_type": "code",
   "execution_count": 33,
   "metadata": {
    "collapsed": false
   },
   "outputs": [
    {
     "name": "stdout",
     "output_type": "stream",
     "text": [
      "('m rmse', 0.7219260565999208)\n",
      "('m_near0 rmse', 1.1256679707621724)\n",
      "('m_0 rmse', 0.7258422696012317)\n",
      "('m_2 rmse', 1.1256679707621722)\n"
     ]
    }
   ],
   "source": [
    "print(\"m rmse\", m.training_rmse)\n",
    "print(\"m_near0 rmse\", m_near0.training_rmse) #with near zero values for regularization training error is higher\n",
    "print(\"m_0 rmse\", m_0.training_rmse)\n",
    "print(\"m_2 rmse\", m_2.training_rmse)"
   ]
  },
  {
   "cell_type": "code",
   "execution_count": null,
   "metadata": {
    "collapsed": true
   },
   "outputs": [],
   "source": [
    "  "
   ]
  },
  {
   "cell_type": "code",
   "execution_count": null,
   "metadata": {
    "collapsed": true
   },
   "outputs": [],
   "source": []
  },
  {
   "cell_type": "code",
   "execution_count": null,
   "metadata": {
    "collapsed": true
   },
   "outputs": [],
   "source": []
  },
  {
   "cell_type": "code",
   "execution_count": null,
   "metadata": {
    "collapsed": true
   },
   "outputs": [],
   "source": []
  },
  {
   "cell_type": "code",
   "execution_count": null,
   "metadata": {
    "collapsed": true
   },
   "outputs": [],
   "source": []
  },
  {
   "cell_type": "code",
   "execution_count": null,
   "metadata": {
    "collapsed": true
   },
   "outputs": [],
   "source": []
  },
  {
   "cell_type": "code",
   "execution_count": null,
   "metadata": {
    "collapsed": true
   },
   "outputs": [],
   "source": []
  },
  {
   "cell_type": "code",
   "execution_count": null,
   "metadata": {
    "collapsed": true
   },
   "outputs": [],
   "source": []
  }
 ],
 "metadata": {
  "anaconda-cloud": {},
  "kernelspec": {
   "display_name": "Python [default]",
   "language": "python",
   "name": "python2"
  },
  "language_info": {
   "codemirror_mode": {
    "name": "ipython",
    "version": 2
   },
   "file_extension": ".py",
   "mimetype": "text/x-python",
   "name": "python",
   "nbconvert_exporter": "python",
   "pygments_lexer": "ipython2",
   "version": "2.7.12"
  }
 },
 "nbformat": 4,
 "nbformat_minor": 0
}
