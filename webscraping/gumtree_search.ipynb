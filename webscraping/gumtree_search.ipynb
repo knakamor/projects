{
 "cells": [
  {
   "cell_type": "code",
   "execution_count": 1,
   "metadata": {
    "collapsed": true
   },
   "outputs": [],
   "source": [
    "import pandas as pd\n",
    "import numpy as np\n",
    "import requests\n",
    "from bs4 import BeautifulSoup\n",
    "from IPython.display import display, Image\n",
    "import os  \n",
    "from __future__ import unicode_literals\n",
    "import sys"
   ]
  },
  {
   "cell_type": "code",
   "execution_count": 2,
   "metadata": {
    "collapsed": true
   },
   "outputs": [],
   "source": [
    "def gumtree_query(category, location, min_price, max_price):\n",
    "    \"\"\"\n",
    "    category='cars' \n",
    "    location='uk' \n",
    "    min_price='1000'\n",
    "    max_price='6000' \n",
    "    \"\"\"\n",
    "    html=requests.get('https://www.gumtree.com/search?search_category=%s&\\\n",
    "    search_location=%s&vehicle_body_type=hatchback&q=&min_price=%s&\\\n",
    "    max_price=%s'%(category, location, min_price, max_price)).text\n",
    "    soup=BeautifulSoup(html, 'html.parser')\n",
    "    listings=soup.find_all(\"h2\", class_=\"listing-title\")\n",
    "    return [x.get_text().strip('\\n').encode('utf-8') for x in listings[3:]] "
   ]
  },
  {
   "cell_type": "code",
   "execution_count": 3,
   "metadata": {},
   "outputs": [
    {
     "data": {
      "text/plain": [
       "['Honda Civic 2.2 i-CTDi Hatchback 5dr - Black - 126K miles',\n",
       " 'L@@K VAUXHALL CORSA SXI A/C 1.2L///ONE YEAR MOT///SERVICE HISTORY///3 MONTHS WARRANTY',\n",
       " '\\xc2\\xa37200: 2014 honda civic camara+ sat nav+ dvd',\n",
       " 'Corsa VXR Nurburgring Edition. Very fast pocket rocket. Fast becoming very rare 1 of only 500 made',\n",
       " '**REDUCED** Audi A3. Available immediately. Next MOT due April 18. Full dealership history.',\n",
       " '2008 Ford Focus 1.8 TDCi Titanium 5dr Warrented Mileage @07445775115@',\n",
       " 'VAUXHALL CORSA 1.2 i 16v CLUB 5DR 2007*IDEAL FIRST CAR*CHEAP INSURANCE*EXCELLENT CONDITION*HPI CLEAR',\n",
       " '2005 Citroen C4 1.6 i 16v SX 5dr Automatic Very Good Runner HPI Clear @07445775115@',\n",
       " '2006 Vauxhall Vectra 1.9 CDTi Club 5dr Very Good Runner 2 Remote Keys @07445775115@',\n",
       " '2014 KIA RIO 1.1 DIESEL ECO DYNAMICS, ONE OWNER, ZERO ROAD TAX',\n",
       " 'NISSAN QASHQAI N-TEC 1.5 DIESEL, CRUISE, SAT NAV, CAMERA, PANORAMIC ROOF',\n",
       " '2012 VOLKSWAGEN GOLF 2.0 TDI BLUEMOTION TECH, ONE PREVIOUS OWNER, MOT 12 MONTHS',\n",
       " '2009 BMW 118I 2.0 M SPORT, PETROL,AUTO,SILVER,FULL LEATHER TRIM & SEATS,PARKING SNSRS,CLIMATE CNTRL',\n",
       " '**ONLY \\xc2\\xa330 ROAD TAX**FIAT PANDA ACTIVE ECO**45K**',\n",
       " 'Skoda OCTAVIA Ambiente 1.9 TDI DSG,Sports Auto 4 dr saloon,full MOT,clean tidy car,great mpg,AF57YVA',\n",
       " '2008 (57) FORD FUSION 1.4, NOT CORSA CLIO POLO PUNTO MICRA',\n",
       " '2007 (57) FORD FUSION DIESEL, 1 YEAR MOT, SERVICE HISTORY, WARRANTY, NOT FIESTA MICRA CORSA BRAVO',\n",
       " 'Renault megane 2005 1.6 Automatic 5 Door Hatchback',\n",
       " 'CITROEN DS3 DSTYLE HDI 2011 ***12 MONTHS MOT*** CHROME PACK***',\n",
       " '2008(08)RENAULT CLIO 1.2 16V TURBO EXPRESSION MET SILVER,NEW MOT,CLEAN CAR,GREAT VALUE',\n",
       " 'Mini ONE 2007 1.4 Automatic 3 door hatchback',\n",
       " 'Vauxhall Signum 1.9 CDTi Estate - vectra astra ford insignia bmw merc audi volvo saab vw golf honda',\n",
       " '2010 10 SEAT IBIZA 1.4 FR TSI DSG 3d AUTO 150 BHP**** GUARANTEED FINANCE **** PART EX WELCOME ****',\n",
       " '2009 peugeot 308 16 hdi{30 pounds tax,finance,warranty ava}',\n",
       " 'Ford Fiesta Ztec 1.25 Petrol 2012 32K Full Service History \\xc2\\xa34150 ONO Manual',\n",
       " '2010/59 HYUNDAI I20 1.4 CRDI COMFORT,5 DOOR,RED,\\xc2\\xa330 ROAD TAX EXCELLENT CONDITION+ECONOMICAL,STUNNING',\n",
       " 'Hyundai 1.1 Full service history by main deal full year mot',\n",
       " 'Mazda 2 Capella 1.4 automatic petrol',\n",
       " 'Ford FUSION Style Climate TDCI,5 dr hatchback,2 keepers,\\xc2\\xa330 a year tax,great mpg,only 65k,AF08LAE',\n",
       " '**2005 Honda Civic EP2 1.6i VTEC - FULL TYPE R REPLICA, 12 MONTHS MOT, NEW CLUTCH + MORE! L@@K**']"
      ]
     },
     "execution_count": 3,
     "metadata": {},
     "output_type": "execute_result"
    }
   ],
   "source": [
    "## enter category, location, min price, max price \n",
    "gumtree_query('cars', 'uk', '1000', '6000') "
   ]
  },
  {
   "cell_type": "code",
   "execution_count": null,
   "metadata": {
    "collapsed": true
   },
   "outputs": [],
   "source": []
  },
  {
   "cell_type": "code",
   "execution_count": null,
   "metadata": {
    "collapsed": true
   },
   "outputs": [],
   "source": []
  }
 ],
 "metadata": {
  "kernelspec": {
   "display_name": "Python 2",
   "language": "python",
   "name": "python2"
  },
  "language_info": {
   "codemirror_mode": {
    "name": "ipython",
    "version": 2
   },
   "file_extension": ".py",
   "mimetype": "text/x-python",
   "name": "python",
   "nbconvert_exporter": "python",
   "pygments_lexer": "ipython2",
   "version": "2.7.13"
  }
 },
 "nbformat": 4,
 "nbformat_minor": 2
}
