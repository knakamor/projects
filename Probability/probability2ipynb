{
 "cells": [
  {
   "cell_type": "markdown",
   "metadata": {},
   "source": [
    "#### Part 1: \n",
    "\n",
    "A typist makes on average 2 mistakes per page.\n",
    "\n",
    "What is the probability of a particular page having no errors on it? "
   ]
  },
  {
   "cell_type": "code",
   "execution_count": 37,
   "metadata": {
    "collapsed": false
   },
   "outputs": [
    {
     "data": {
      "text/plain": [
       "0.1353352832366127"
      ]
     },
     "execution_count": 37,
     "metadata": {},
     "output_type": "execute_result"
    }
   ],
   "source": [
    "import scipy \n",
    "from scipy.stats import bernoulli\n",
    "import matplotlib.pyplot as plt\n",
    "\n",
    "import math \n",
    "p = 0.2\n",
    "k=0  \n",
    "#Possion\n",
    "\n",
    "P_no_error=math.exp(-2)\n",
    "P_no_error\n",
    "#E(no_error)=0.8 \n",
    "\n",
    "\n",
    "#prob = bernoulli.pmf(x, p)\n",
    "#exp=bernoulli.expect(func, args=(p,), loc=0, lb=None, ub=None, conditional=False)\n",
    "\n"
   ]
  },
  {
   "cell_type": "markdown",
   "metadata": {},
   "source": [
    "#### Components are packed in boxes of 20. The probability of a component being defective is 0.1.\n",
    "\n",
    "What is the probability of a box containing 2 defective components?"
   ]
  },
  {
   "cell_type": "code",
   "execution_count": 8,
   "metadata": {
    "collapsed": false
   },
   "outputs": [
    {
     "data": {
      "text/plain": [
       "0.28517980706429846"
      ]
     },
     "execution_count": 8,
     "metadata": {},
     "output_type": "execute_result"
    }
   ],
   "source": [
    "P=0.1\n",
    "n=20\n",
    "#Binomial \n",
    "P_2_defective_components= (20*19/2)*0.1*0.1*0.9**18\n",
    "P_2_defective_components\n",
    "#E(2_defective_components)=np=2\n",
    "\n"
   ]
  },
  {
   "cell_type": "markdown",
   "metadata": {},
   "source": [
    "#### Patrons arrive at a local bar at a mean rate of 30 per hour.\n",
    "\n",
    "What is the probability that the bouncer has to wait more than 3 minutes to card the next patron?"
   ]
  },
  {
   "cell_type": "code",
   "execution_count": 36,
   "metadata": {
    "collapsed": false
   },
   "outputs": [
    {
     "data": {
      "text/plain": [
       "0.22313016014842982"
      ]
     },
     "execution_count": 36,
     "metadata": {},
     "output_type": "execute_result"
    }
   ],
   "source": [
    "#lambda=1/2 # per min  \n",
    "#Exponential\n",
    "import math \n",
    "P_bouncer_wait_more_than_3_minutes=math.exp((-1)*3. *(1./2))\n",
    "P_bouncer_wait_more_than_3_minutes"
   ]
  },
  {
   "cell_type": "markdown",
   "metadata": {},
   "source": [
    "#### A variable is normally distributed with a mean of 120 and a standard deviation of 5. One score is randomly sampled.\n",
    "\n",
    "What is the probability the score is above 127? Use scipy.stats.norm to perform the calculation.\n"
   ]
  },
  {
   "cell_type": "code",
   "execution_count": 35,
   "metadata": {
    "collapsed": false
   },
   "outputs": [
    {
     "data": {
      "text/plain": [
       "0.080756659233771066"
      ]
     },
     "execution_count": 35,
     "metadata": {},
     "output_type": "execute_result"
    }
   ],
   "source": [
    "from scipy import stats \n",
    "from scipy.stats import norm\n",
    "\n",
    "\n",
    "import matplotlib.pyplot as plt\n",
    "\n",
    "\n",
    "\n",
    "mean=120\n",
    "std=5\n",
    "\n",
    "#Normal\n",
    "P_score_below_127=stats.norm(120,5).cdf(127)\n",
    "\n",
    "P_score_below_127\n",
    "P_score_above_127=1-P_score_below_127\n",
    "#P_score_above_127=P_score_below_127\n",
    "P_score_above_127"
   ]
  },
  {
   "cell_type": "markdown",
   "metadata": {},
   "source": [
    "#### You need to find a tall person, at least 6 feet tall, to help you reach a cookie jar. 8% of the population is 6 feet or taller.\n",
    "\n",
    "If you wait on the sidewalk, how many people would you expect to have passed you by before you'd have a candidate to reach the jar?"
   ]
  },
  {
   "cell_type": "code",
   "execution_count": 40,
   "metadata": {
    "collapsed": false
   },
   "outputs": [
    {
     "data": {
      "text/plain": [
       "12.5"
      ]
     },
     "execution_count": 40,
     "metadata": {},
     "output_type": "execute_result"
    }
   ],
   "source": [
    "\n",
    "expected_value= 1/0.08\n",
    "expected_value\n",
    "#Geometric\n"
   ]
  },
  {
   "cell_type": "markdown",
   "metadata": {},
   "source": [
    "#### A harried passenger will be several minutes late for a scheduled 10 A.M. flight to NYC. Nevertheless, he might still make the flight, since boarding is always allowed until 10:10 A.M., and boarding is sometimes permitted up to 10:30 AM.\n",
    "\n",
    "Assuming the extended boarding time is uniformly distributed over the above limits, find the probability that the passenger will make his flight, assuming he arrives at the boarding gate at 10:25.\n",
    "\n"
   ]
  },
  {
   "cell_type": "code",
   "execution_count": 42,
   "metadata": {
    "collapsed": false
   },
   "outputs": [
    {
     "data": {
      "text/plain": [
       "0.25"
      ]
     },
     "execution_count": 42,
     "metadata": {},
     "output_type": "execute_result"
    }
   ],
   "source": [
    "#uniform \n",
    "#b=10:30\n",
    "#a=10:10\n",
    "#b-a=20 mins \n",
    "\n",
    "prob_make_flight_given_arrival_at_1025=5./20 \n",
    "prob_make_flight_given_arrival_at_1025"
   ]
  },
  {
   "cell_type": "markdown",
   "metadata": {},
   "source": [
    "#### Part2: \n",
    "Load the data file data/admissions.csv into a pandas dataframe. The columns are gpa, family_income and parent_avg_age.\n",
    "Implement a covariance function and compute the covariance matrix of the dataframe. Check your results with df.cov(). Make sure you understand what each of the numbers in the matrix represents"
   ]
  },
  {
   "cell_type": "code",
   "execution_count": 45,
   "metadata": {
    "collapsed": false
   },
   "outputs": [
    {
     "data": {
      "text/html": [
       "<div>\n",
       "<table border=\"1\" class=\"dataframe\">\n",
       "  <thead>\n",
       "    <tr style=\"text-align: right;\">\n",
       "      <th></th>\n",
       "      <th>family_income</th>\n",
       "      <th>gpa</th>\n",
       "      <th>parent_avg_age</th>\n",
       "    </tr>\n",
       "  </thead>\n",
       "  <tbody>\n",
       "    <tr>\n",
       "      <th>family_income</th>\n",
       "      <td>3.329410e+08</td>\n",
       "      <td>4015.299085</td>\n",
       "      <td>-1226.326280</td>\n",
       "    </tr>\n",
       "    <tr>\n",
       "      <th>gpa</th>\n",
       "      <td>4.015299e+03</td>\n",
       "      <td>0.087891</td>\n",
       "      <td>-0.028785</td>\n",
       "    </tr>\n",
       "    <tr>\n",
       "      <th>parent_avg_age</th>\n",
       "      <td>-1.226326e+03</td>\n",
       "      <td>-0.028785</td>\n",
       "      <td>112.977442</td>\n",
       "    </tr>\n",
       "  </tbody>\n",
       "</table>\n",
       "</div>"
      ],
      "text/plain": [
       "                family_income          gpa  parent_avg_age\n",
       "family_income    3.329410e+08  4015.299085    -1226.326280\n",
       "gpa              4.015299e+03     0.087891       -0.028785\n",
       "parent_avg_age  -1.226326e+03    -0.028785      112.977442"
      ]
     },
     "execution_count": 45,
     "metadata": {},
     "output_type": "execute_result"
    }
   ],
   "source": [
    "import pandas as  pd \n",
    "df=pd.read_csv('data/admissions.csv')\n",
    "df.head(2\n",
    "df.cov()\n",
    "        "
   ]
  },
  {
   "cell_type": "markdown",
   "metadata": {},
   "source": [
    "#### Implement a normalize function that would compute the correlation matrix from the covariance matrix. Check your results with df.corr()\n"
   ]
  },
  {
   "cell_type": "code",
   "execution_count": 50,
   "metadata": {
    "collapsed": false
   },
   "outputs": [
    {
     "data": {
      "text/html": [
       "<div>\n",
       "<table border=\"1\" class=\"dataframe\">\n",
       "  <thead>\n",
       "    <tr style=\"text-align: right;\">\n",
       "      <th></th>\n",
       "      <th>family_income</th>\n",
       "      <th>gpa</th>\n",
       "      <th>parent_avg_age</th>\n",
       "    </tr>\n",
       "  </thead>\n",
       "  <tbody>\n",
       "    <tr>\n",
       "      <th>family_income</th>\n",
       "      <td>1.000000</td>\n",
       "      <td>0.742269</td>\n",
       "      <td>-0.006323</td>\n",
       "    </tr>\n",
       "    <tr>\n",
       "      <th>gpa</th>\n",
       "      <td>0.742269</td>\n",
       "      <td>1.000000</td>\n",
       "      <td>-0.009135</td>\n",
       "    </tr>\n",
       "    <tr>\n",
       "      <th>parent_avg_age</th>\n",
       "      <td>-0.006323</td>\n",
       "      <td>-0.009135</td>\n",
       "      <td>1.000000</td>\n",
       "    </tr>\n",
       "  </tbody>\n",
       "</table>\n",
       "</div>"
      ],
      "text/plain": [
       "                family_income       gpa  parent_avg_age\n",
       "family_income        1.000000  0.742269       -0.006323\n",
       "gpa                  0.742269  1.000000       -0.009135\n",
       "parent_avg_age      -0.006323 -0.009135        1.000000"
      ]
     },
     "execution_count": 50,
     "metadata": {},
     "output_type": "execute_result"
    }
   ],
   "source": [
    "#normalize(df.cov())\n",
    "df.corr()\n",
    "        "
   ]
  },
  {
   "cell_type": "markdown",
   "metadata": {},
   "source": [
    "#### You should identify family_income as being the most correlated with GPA. The university wants to make an effort to make sure people of all family income are being fairly represented in the admissions process. In order to achieve that, different GPA thresholds will be set according to family income.\n",
    "\n",
    "The low, medium and high family income groups are 0 to 26832, 26833 to 37510 and above 37510 respectively. Implement a function that would plot the distribution of GPA scores for each family income category. These are the conditional probability distributions of gpa given certain levels of family_income."
   ]
  },
  {
   "cell_type": "code",
   "execution_count": null,
   "metadata": {
    "collapsed": true
   },
   "outputs": [],
   "source": []
  },
  {
   "cell_type": "markdown",
   "metadata": {},
   "source": [
    "#### Part 3\n",
    "In addition to the family_income and parent_avg_age, you are also given data about the number of hours the students studied. Load the new data in from data/admissions_with_study_hrs_and_sports.csv.\n",
    "\n",
    "Make a scatter plot of the gpa against hrs_studied. Make the points more transparent so you can see the density of the points. Use the following command get the slope and intercept of a straight line to fit the data : slope, intercept, r_value, p_value, std_err = scipy.stats.linregress(gpa, hrs_studied). Plot the straight line on the scatter plot."
   ]
  },
  {
   "cell_type": "code",
   "execution_count": null,
   "metadata": {
    "collapsed": true
   },
   "outputs": [],
   "source": []
  },
  {
   "cell_type": "markdown",
   "metadata": {},
   "source": [
    "#### Use the functions scipy.stats.pearsonr and scipy.stats.spearmanr to compute the Pearson and Spearman correlation coefficients between gpa and hrs_studied. What is the difference between the two coefficients? Can you explain why they are different?\n",
    "\n"
   ]
  },
  {
   "cell_type": "code",
   "execution_count": null,
   "metadata": {
    "collapsed": true
   },
   "outputs": [],
   "source": []
  },
  {
   "cell_type": "markdown",
   "metadata": {},
   "source": [
    "#### Repeat step 2 and 3 for gpa and sport_performance. Is there a strong relationship between the two variables? Do the correlation coefficients reflect that? Explain your answer.\n"
   ]
  },
  {
   "cell_type": "code",
   "execution_count": null,
   "metadata": {
    "collapsed": true
   },
   "outputs": [],
   "source": []
  },
  {
   "cell_type": "markdown",
   "metadata": {},
   "source": [
    "#### Part 4: Distribution Simulation\n",
    "Profit = Number of views * Conversion * (Wholesale_Proportion * 50 + (1-Wholesale_Proportion)*60)\n",
    "\n",
    "Assumptions:\n",
    "\n",
    "Number of views is a uniform distribution over the range of 5000 and 6000\n",
    "Conversion is a binomial distribution where the probability of success is 0.12 for each sale among the Number of views made\n",
    "Profit per sale has 0.2 probability of taking the value 50 (for wholesale) and 0.8 of taking the value 60 (non-wholesale) for each sale, so you should use a binomial to model the number of the total sales that happen at wholesale.\n"
   ]
  },
  {
   "cell_type": "markdown",
   "metadata": {},
   "source": [
    "#### Given the distributions of each of variables, use scipy to write a function that would draw random values from each of the distributions to simulate a distribution for profit"
   ]
  },
  {
   "cell_type": "code",
   "execution_count": null,
   "metadata": {
    "collapsed": true
   },
   "outputs": [],
   "source": []
  },
  {
   "cell_type": "markdown",
   "metadata": {},
   "source": [
    "#### Compute the range of values of profit where the middle 95% of the probability mass lies."
   ]
  },
  {
   "cell_type": "code",
   "execution_count": null,
   "metadata": {
    "collapsed": true
   },
   "outputs": [],
   "source": []
  },
  {
   "cell_type": "code",
   "execution_count": null,
   "metadata": {
    "collapsed": true
   },
   "outputs": [],
   "source": []
  }
 ],
 "metadata": {
  "anaconda-cloud": {},
  "kernelspec": {
   "display_name": "Python [default]",
   "language": "python",
   "name": "python2"
  },
  "language_info": {
   "codemirror_mode": {
    "name": "ipython",
    "version": 2
   },
   "file_extension": ".py",
   "mimetype": "text/x-python",
   "name": "python",
   "nbconvert_exporter": "python",
   "pygments_lexer": "ipython2",
   "version": "2.7.12"
  }
 },
 "nbformat": 4,
 "nbformat_minor": 1
}
