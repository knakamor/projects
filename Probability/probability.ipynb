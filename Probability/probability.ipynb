{
 "cells": [
  {
   "cell_type": "markdown",
   "metadata": {},
   "source": [
    "#### Suppose two cards are drawn from a standard 52 card deck.\n",
    "\n",
    "What's the probability that the first is a queen and the second is a king?\n",
    "What's the probability that both cards are queens?\n",
    "Suppose that before the second card was drawn, the first was inserted back into the deck and the deck reshuffled. What's the probability that both cards are queens?"
   ]
  },
  {
   "cell_type": "code",
   "execution_count": 12,
   "metadata": {
    "collapsed": false
   },
   "outputs": [
    {
     "name": "stdout",
     "output_type": "stream",
     "text": [
      "0.00603318250377 0.00452488687783 0.00591715976331\n"
     ]
    }
   ],
   "source": [
    "def comb(n,k):\n",
    "    return perm(n,k)/fact(k)\n",
    "\n",
    "\n",
    "prob_first_queen_second_king=(4./52) * (4./51)\n",
    "#prob_first_queen_second_king\n",
    "\n",
    "\n",
    "prob__both_queen=float((4.0/52) * (3.0/51)) \n",
    "#prob__both_queen\n",
    "\n",
    "\n",
    "prob__both_queen_inserted_back_reshuffled=float((4./52) * (4./52))\n",
    "#prob__both_queen_inserted_back_reshuffled  \n",
    "\n",
    "\n",
    "print prob_first_queen_second_king, prob__both_queen, prob__both_queen_inserted_back_reshuffled  \n"
   ]
  },
  {
   "cell_type": "markdown",
   "metadata": {},
   "source": [
    "#### A Store Manager wants to understand how his customers use different payment methods, and suspects that the size of the purchase is a major deciding factor. He organizes the table below.\n",
    "\n",
    "\tCash\tDebit\tCredit\n",
    "Under $20\t400\t150\t150\n",
    "$20 - $50\t200\t1200\t800\n",
    "Over $50\t100\t600\t1400\n",
    "\n",
    "\n",
    "Given that a customer spent over $50, what's the probability that the customer used a credit card?\n",
    "Given that a customer paid in cash, what's the probability that the customer spent less than $20?\n",
    "What's the probability that a customer spent under $20 using cash?"
   ]
  },
  {
   "cell_type": "code",
   "execution_count": 18,
   "metadata": {
    "collapsed": false
   },
   "outputs": [
    {
     "name": "stdout",
     "output_type": "stream",
     "text": [
      "prob_credit_card_given_over_50: 0.666666666667 , prob_cash_given_less_20: 0.571428571429 , prob_less_20_given_cash: 0.571428571429 \n"
     ]
    }
   ],
   "source": [
    "prob_credit_card_given_over_50=1400./(100+600+1400)\n",
    "\n",
    "prob_cash_given_less_20= 400./(400+150+150)  \n",
    "prob_less_20=700./(700+2200+2100)\n",
    "prob_20_to_50=2200./(700+2200+2100)\n",
    "prob_over_50=2100./(700+2200+2100)\n",
    "prob_cash = prob_less_20* (400./700 ) + prob_20_to_50*(200./2200) + prob_over_50*(100./2100) \n",
    "prob_less_20_given_cash=  prob_cash_given_less_20* prob_less_20/prob_cash  #bayes rule \n",
    "\n",
    "print \"prob_credit_card_given_over_50: {} , prob_cash_given_less_20: {} , prob_less_20_given_cash: {} \".format(prob_credit_card_given_over_50,  prob_cash_given_less_20, prob_less_20_given_cash)\n"
   ]
  },
  {
   "cell_type": "markdown",
   "metadata": {},
   "source": [
    "#### A Galvanize grad is looking for her first job! Given that she is freaked out, her chances of not getting an offer are 70%. Given that she isn't freaked out, her chances of not getting an offer are 30%. Suppose that the probability that she's freaked out is 80%. What's the probability that she gets an offer?\n"
   ]
  },
  {
   "cell_type": "code",
   "execution_count": 14,
   "metadata": {
    "collapsed": false
   },
   "outputs": [
    {
     "name": "stdout",
     "output_type": "stream",
     "text": [
      "prob_get_offer:0.38\n"
     ]
    }
   ],
   "source": [
    "prob_not_offer_given_freaked_out=0.7\n",
    "prob_not_offer_given_not_freaked_out=0.3\n",
    "prob_freaked_out=0.8\n",
    "prob_not_freaked_out =0.2\n",
    "#prob_not_offer_1=prob_not_offer_given_freaked_out * prob_freaked_out/prob_freaked_out_given_not_offer\n",
    "#prob_not_offer=_2=prob_not_offer_given_not_freaked_out*prob_not_freaked_out/(1-prob_freaked_out_given_not_offer)\n",
    "prob_freaked_out_given_not_offer=0.56/0.62\n",
    "prob_not_offer=prob_not_offer_given_freaked_out*prob_freaked_out/prob_freaked_out_given_not_offer\n",
    "prob_get_offer=1- prob_not_offer\n",
    "\n",
    "print \"prob_get_offer:{}\".format( prob_get_offer)"
   ]
  },
  {
   "cell_type": "markdown",
   "metadata": {},
   "source": [
    "#### Google decides to do random drug tests for heroin on their employees. They know that 3% of their population uses heroin. The drug test has the following accuracy: The test correctly identifies 95% of the heroin users (sensitivity) and 90% of the non-users (specificity).\n",
    "Alice gets tested and the test comes back positive. What is the probability that she uses heroin?\n",
    "\n",
    "\n",
    "\tUses heroin\tDoesn't use heroin\n",
    "Tests positive\t0.95\t0.10\n",
    "Tests negative\t0.05\t0.90\n",
    "\n",
    "\n"
   ]
  },
  {
   "cell_type": "code",
   "execution_count": 35,
   "metadata": {
    "collapsed": false
   },
   "outputs": [
    {
     "ename": "NameError",
     "evalue": "name 'prob_neg' is not defined",
     "output_type": "error",
     "traceback": [
      "\u001b[0;31m---------------------------------------------------------------------------\u001b[0m",
      "\u001b[0;31mNameError\u001b[0m                                 Traceback (most recent call last)",
      "\u001b[0;32m<ipython-input-35-daa8299a2ae3>\u001b[0m in \u001b[0;36m<module>\u001b[0;34m()\u001b[0m\n\u001b[1;32m      6\u001b[0m \u001b[0mprob_neg_given_not_heroin\u001b[0m\u001b[0;34m=\u001b[0m\u001b[0;36m0.9\u001b[0m\u001b[0;34m\u001b[0m\u001b[0m\n\u001b[1;32m      7\u001b[0m \u001b[0mprob_pos_given_not_heroin\u001b[0m\u001b[0;34m=\u001b[0m\u001b[0;36m0.1\u001b[0m\u001b[0;34m\u001b[0m\u001b[0m\n\u001b[0;32m----> 8\u001b[0;31m \u001b[0mprob_not_heroin_given_neg\u001b[0m \u001b[0;34m=\u001b[0m\u001b[0mprob_neg_given_not_heroin\u001b[0m\u001b[0;34m*\u001b[0m\u001b[0mprob_not_heroin\u001b[0m\u001b[0;34m/\u001b[0m\u001b[0mprob_neg\u001b[0m\u001b[0;34m\u001b[0m\u001b[0m\n\u001b[0m\u001b[1;32m      9\u001b[0m \u001b[0;34m\u001b[0m\u001b[0m\n\u001b[1;32m     10\u001b[0m \u001b[0mprob_pos_given_heroin\u001b[0m\u001b[0;34m=\u001b[0m\u001b[0mprob_pos\u001b[0m\u001b[0;34m*\u001b[0m\u001b[0mprob_heroin_given_pos\u001b[0m\u001b[0;34m/\u001b[0m\u001b[0mprob_heroin\u001b[0m\u001b[0;34m\u001b[0m\u001b[0m\n",
      "\u001b[0;31mNameError\u001b[0m: name 'prob_neg' is not defined"
     ]
    }
   ],
   "source": [
    "prob_heroin=0.03\n",
    "prob_not_heroin=1-prob_heroin\n",
    "\n",
    "prob_pos_given_heroin=0.95\n",
    "prob_neg_given_heroin=0.05\n",
    "prob_neg_given_not_heroin=0.9\n",
    "prob_pos_given_not_heroin=0.1\n",
    "\n",
    "prob_not_heroin_given_neg =prob_neg_given_not_heroin*prob_not_heroin/prob_neg  \n",
    "\n",
    "prob_pos_given_heroin=prob_pos*prob_heroin_given_pos/prob_heroin\n",
    "\n",
    "prob_neg=prob_neg_given_not_heroin*prob_not_heroin/prob_not_heroin_given_neg \n",
    "\n",
    "prob_pos=1-prob_neg\n",
    "\n",
    "prob_heroin_given_pos=prob_heroin*prob_pos_given_heroin/prob_pos\n",
    "#prob_heroin_given_pos=(0.95*0.03*0.9*0.97/prob_neg)/ (0.9*0.97/prob_neg - 0.9*0.97)\n",
    "print  \"prob_heroin_given_pos: {}\".format( prob_heroin_given_pos) \n"
   ]
  },
  {
   "cell_type": "markdown",
   "metadata": {},
   "source": [
    "#### The Birthday Problem. Suppose there are 23 people in a data science class, lined up in a single file line.\n",
    "Let A_i be the event that the i'th person doesn't have the same birthday as the j'th person for any j < i.\n",
    "Use the chain rule from probability to calculate the probability that at least 2 people share the same birthday.\n",
    "\n"
   ]
  },
  {
   "cell_type": "code",
   "execution_count": 33,
   "metadata": {
    "collapsed": false
   },
   "outputs": [
    {
     "ename": "SyntaxError",
     "evalue": "'return' outside function (<ipython-input-33-0ab8826304b5>, line 13)",
     "output_type": "error",
     "traceback": [
      "\u001b[0;36m  File \u001b[0;32m\"<ipython-input-33-0ab8826304b5>\"\u001b[0;36m, line \u001b[0;32m13\u001b[0m\n\u001b[0;31m    return 1-Event_A_i(p)\u001b[0m\n\u001b[0;31mSyntaxError\u001b[0m\u001b[0;31m:\u001b[0m 'return' outside function\n"
     ]
    }
   ],
   "source": [
    "\n",
    "def Event_A_i(n):\n",
    "    fact= 1\n",
    "    for i in xrange(365-n, 365+1):\n",
    "        fact *= i\n",
    "        \n",
    "    return 1./fact\n",
    "\n",
    "Neg_Event_A_i=1-Event_A_i(2) \n",
    "\n",
    "for p in range(23):\n",
    "    result=0\n",
    "    result+=(Event_A_i(p)  \n",
    "    return 1-Event_A_i(p) \n",
    "\n"
   ]
  },
  {
   "cell_type": "code",
   "execution_count": null,
   "metadata": {
    "collapsed": true
   },
   "outputs": [],
   "source": []
  }
 ],
 "metadata": {
  "kernelspec": {
   "display_name": "Python [default]",
   "language": "python",
   "name": "python2"
  },
  "language_info": {
   "codemirror_mode": {
    "name": "ipython",
    "version": 2
   },
   "file_extension": ".py",
   "mimetype": "text/x-python",
   "name": "python",
   "nbconvert_exporter": "python",
   "pygments_lexer": "ipython2",
   "version": "2.7.12"
  }
 },
 "nbformat": 4,
 "nbformat_minor": 1
}
